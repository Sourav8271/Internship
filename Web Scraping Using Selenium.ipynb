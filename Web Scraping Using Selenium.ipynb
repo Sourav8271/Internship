{
 "cells": [
  {
   "cell_type": "code",
   "execution_count": 119,
   "id": "841aa570",
   "metadata": {},
   "outputs": [],
   "source": [
    "import selenium\n",
    "import pandas as pd \n",
    "import warnings\n",
    "from selenium import webdriver\n",
    "warnings.filterwarnings('ignore')\n",
    "from selenium.webdriver.common.by import By\n",
    "import time"
   ]
  },
  {
   "cell_type": "code",
   "execution_count": 87,
   "id": "0928acfa",
   "metadata": {},
   "outputs": [],
   "source": [
    "driver=webdriver.Chrome()"
   ]
  },
  {
   "cell_type": "code",
   "execution_count": 86,
   "id": "f9d6ce44",
   "metadata": {},
   "outputs": [],
   "source": [
    "# Question 1 .Scrap \"https://www.naukri.com/\" this site. Write a python program to scrape data for ““Data Scientist” Job position in “Bangalore” location. \n",
    "#You have to scrape the job-title, job-location, company_name, experience_required. You have to \n",
    "#scrape first 20 jobs data."
   ]
  },
  {
   "cell_type": "code",
   "execution_count": 76,
   "id": "80276702",
   "metadata": {},
   "outputs": [],
   "source": [
    "driver.get('https://www.naukri.com/')"
   ]
  },
  {
   "cell_type": "code",
   "execution_count": 77,
   "id": "b7cd8791",
   "metadata": {},
   "outputs": [],
   "source": [
    "destignation=driver.find_element(By.CLASS_NAME,\"suggestor-input \")\n",
    "destignation.send_keys('Data Analyst')"
   ]
  },
  {
   "cell_type": "code",
   "execution_count": 78,
   "id": "97fe8a1d",
   "metadata": {},
   "outputs": [],
   "source": [
    "location=driver.find_element(By.XPATH,\"/html/body/div[1]/div[7]/div/div/div[5]/div/div/div/div[1]/div/input\")\n",
    "location.send_keys(\"Bangalore\")"
   ]
  },
  {
   "cell_type": "code",
   "execution_count": 79,
   "id": "e748be11",
   "metadata": {},
   "outputs": [],
   "source": [
    "search=driver.find_element(By.CLASS_NAME,'qsbSubmit')\n",
    "search.click()"
   ]
  },
  {
   "cell_type": "code",
   "execution_count": 146,
   "id": "4f3d9837",
   "metadata": {},
   "outputs": [],
   "source": [
    "job_title=[]\n",
    "job_location=[]\n",
    "company_name=[]\n",
    "experience_required=[]"
   ]
  },
  {
   "cell_type": "code",
   "execution_count": 81,
   "id": "f6e3cc73",
   "metadata": {},
   "outputs": [
    {
     "data": {
      "text/plain": [
       "['Data Analyst',\n",
       " 'Data Analyst',\n",
       " 'Online Data Analyst',\n",
       " 'Data Analyst',\n",
       " 'Data Analyst (automotive)',\n",
       " 'Data Analyst',\n",
       " 'Data Analyst',\n",
       " 'Job opportunity _ Data Analyst',\n",
       " 'Data Analyst',\n",
       " 'ETL - Data Analyst',\n",
       " 'Intelliswift is hiring For a Data Analyst Bangalore (Hybrid)',\n",
       " 'Data Analyst',\n",
       " 'AWS Data Engineer/Data Analyst - Need Immediate_Deloitte',\n",
       " 'Data Analyst',\n",
       " 'Data Analyst',\n",
       " 'Data Analyst',\n",
       " 'Data Analyst',\n",
       " 'Platform Data Analyst',\n",
       " 'Data Analyst',\n",
       " 'Data Analyst']"
      ]
     },
     "execution_count": 81,
     "metadata": {},
     "output_type": "execute_result"
    }
   ],
   "source": [
    "title_tags=driver.find_elements(By.XPATH,'//div[@class=\"cust-job-tuple layout-wrapper lay-2 sjw__tuple \"]/div/a')\n",
    "for i in title_tags:\n",
    "    title=i.text\n",
    "    job_title.append(title)\n",
    "job_title[0:20]"
   ]
  },
  {
   "cell_type": "code",
   "execution_count": 82,
   "id": "8be6199f",
   "metadata": {},
   "outputs": [
    {
     "data": {
      "text/plain": [
       "['Kolkata, Mumbai, New Delhi, Hyderabad, Pune, Chennai, Bengaluru',\n",
       " 'Bengaluru',\n",
       " 'Kolkata, Mumbai, New Delhi, Hyderabad, Pune, Chennai, Bengaluru',\n",
       " 'Mumbai, Bengaluru',\n",
       " 'Bangalore/Bengaluru(Domlur)',\n",
       " 'Hybrid - Bangalore Rural, Karnataka, Hyderabad, Telangana, Chennai, Tamil Nadu',\n",
       " 'Bengaluru(4th Phase JP Nagar)',\n",
       " 'Bangalore Rural, Karnataka, Hyderabad, Telangana, India',\n",
       " 'Hybrid - Bengaluru',\n",
       " 'Bengaluru',\n",
       " 'Hybrid - Bengaluru',\n",
       " 'Hyderabad, Bengaluru, Delhi / NCR',\n",
       " 'Bangalore Rural, Karnataka, Hyderabad, Telangana',\n",
       " 'Hyderabad, Bengaluru',\n",
       " 'Hyderabad, Bengaluru, Delhi / NCR',\n",
       " 'Bengaluru',\n",
       " 'Bengaluru',\n",
       " 'Bengaluru',\n",
       " 'Hybrid - Bengaluru(Bannerghatta Road)',\n",
       " 'Chennai, Bengaluru']"
      ]
     },
     "execution_count": 82,
     "metadata": {},
     "output_type": "execute_result"
    }
   ],
   "source": [
    "location_tags=driver.find_elements(By.XPATH,'//span[@class=\"locWdth\"]')\n",
    "for i in location_tags:\n",
    "    location=i.text\n",
    "    job_location.append(location)\n",
    "job_location[0:20]\n"
   ]
  },
  {
   "cell_type": "code",
   "execution_count": 83,
   "id": "73a3f298",
   "metadata": {},
   "outputs": [
    {
     "data": {
      "text/plain": [
       "['Orbit Skyline, Inc',\n",
       " 'Target',\n",
       " 'TELUS International',\n",
       " 'FedEx TSCS (India) Pvt Ltd',\n",
       " 'Fenyes Engineered Technology Pvt Ltd',\n",
       " 'Tsit Digital Technologies',\n",
       " 'Objectwin Technology',\n",
       " 'Talent Sketchers',\n",
       " 'Team ware solutions',\n",
       " '2coms',\n",
       " 'Intelliswift',\n",
       " 'Incanus Technologies',\n",
       " 'Deloitte',\n",
       " 'Team Lease Dgital',\n",
       " 'Tata Consultancy Services (TCS)',\n",
       " 'Softtek',\n",
       " 'NetSkope Software',\n",
       " 'Saltmine',\n",
       " 'LKQ India',\n",
       " 'Xoom']"
      ]
     },
     "execution_count": 83,
     "metadata": {},
     "output_type": "execute_result"
    }
   ],
   "source": [
    "company_tags=driver.find_elements(By.XPATH,'//div[@class=\" row2\"]/span/a[1]')\n",
    "for i in company_tags:\n",
    "    company=i.text\n",
    "    company_name.append(company)\n",
    "company_name[0:20]"
   ]
  },
  {
   "cell_type": "code",
   "execution_count": 84,
   "id": "23dadb1a",
   "metadata": {},
   "outputs": [
    {
     "data": {
      "text/plain": [
       "['2-4 Yrs',\n",
       " '2-4 Yrs',\n",
       " '1-4 Yrs',\n",
       " '1-4 Yrs',\n",
       " '5-6 Yrs',\n",
       " '5-10 Yrs',\n",
       " '1-5 Yrs',\n",
       " '6-10 Yrs',\n",
       " '5-10 Yrs',\n",
       " '5-10 Yrs',\n",
       " '8-12 Yrs',\n",
       " '0-5 Yrs',\n",
       " '5-8 Yrs',\n",
       " '6-10 Yrs',\n",
       " '4-9 Yrs',\n",
       " '4-6 Yrs',\n",
       " '3-5 Yrs',\n",
       " '2-4 Yrs',\n",
       " '2-5 Yrs',\n",
       " '3-5 Yrs']"
      ]
     },
     "execution_count": 84,
     "metadata": {},
     "output_type": "execute_result"
    }
   ],
   "source": [
    "experience_tags=driver.find_elements(By.XPATH,'//span[@class=\"expwdth\"]')\n",
    "for i in experience_tags:\n",
    "    experience=i.text\n",
    "    experience_required.append(experience)\n",
    "experience_required[0:20]"
   ]
  },
  {
   "cell_type": "code",
   "execution_count": null,
   "id": "f15e944c",
   "metadata": {},
   "outputs": [],
   "source": [
    "job_title=[]\n",
    "job_location=[]\n",
    "company_name=[]\n",
    "experience_required=[]"
   ]
  },
  {
   "cell_type": "code",
   "execution_count": 85,
   "id": "1fa7bacb",
   "metadata": {},
   "outputs": [
    {
     "data": {
      "text/html": [
       "<div>\n",
       "<style scoped>\n",
       "    .dataframe tbody tr th:only-of-type {\n",
       "        vertical-align: middle;\n",
       "    }\n",
       "\n",
       "    .dataframe tbody tr th {\n",
       "        vertical-align: top;\n",
       "    }\n",
       "\n",
       "    .dataframe thead th {\n",
       "        text-align: right;\n",
       "    }\n",
       "</style>\n",
       "<table border=\"1\" class=\"dataframe\">\n",
       "  <thead>\n",
       "    <tr style=\"text-align: right;\">\n",
       "      <th></th>\n",
       "      <th>Job Title</th>\n",
       "      <th>Job Location</th>\n",
       "      <th>Company Name</th>\n",
       "      <th>Expereince_required</th>\n",
       "    </tr>\n",
       "  </thead>\n",
       "  <tbody>\n",
       "    <tr>\n",
       "      <th>0</th>\n",
       "      <td>Data Analyst</td>\n",
       "      <td>Kolkata, Mumbai, New Delhi, Hyderabad, Pune, C...</td>\n",
       "      <td>Orbit Skyline, Inc</td>\n",
       "      <td>2-4 Yrs</td>\n",
       "    </tr>\n",
       "    <tr>\n",
       "      <th>1</th>\n",
       "      <td>Data Analyst</td>\n",
       "      <td>Bengaluru</td>\n",
       "      <td>Target</td>\n",
       "      <td>2-4 Yrs</td>\n",
       "    </tr>\n",
       "    <tr>\n",
       "      <th>2</th>\n",
       "      <td>Online Data Analyst</td>\n",
       "      <td>Kolkata, Mumbai, New Delhi, Hyderabad, Pune, C...</td>\n",
       "      <td>TELUS International</td>\n",
       "      <td>1-4 Yrs</td>\n",
       "    </tr>\n",
       "    <tr>\n",
       "      <th>3</th>\n",
       "      <td>Data Analyst</td>\n",
       "      <td>Mumbai, Bengaluru</td>\n",
       "      <td>FedEx TSCS (India) Pvt Ltd</td>\n",
       "      <td>1-4 Yrs</td>\n",
       "    </tr>\n",
       "    <tr>\n",
       "      <th>4</th>\n",
       "      <td>Data Analyst (automotive)</td>\n",
       "      <td>Bangalore/Bengaluru(Domlur)</td>\n",
       "      <td>Fenyes Engineered Technology Pvt Ltd</td>\n",
       "      <td>5-6 Yrs</td>\n",
       "    </tr>\n",
       "    <tr>\n",
       "      <th>5</th>\n",
       "      <td>Data Analyst</td>\n",
       "      <td>Hybrid - Bangalore Rural, Karnataka, Hyderabad...</td>\n",
       "      <td>Tsit Digital Technologies</td>\n",
       "      <td>5-10 Yrs</td>\n",
       "    </tr>\n",
       "    <tr>\n",
       "      <th>6</th>\n",
       "      <td>Data Analyst</td>\n",
       "      <td>Bengaluru(4th Phase JP Nagar)</td>\n",
       "      <td>Objectwin Technology</td>\n",
       "      <td>1-5 Yrs</td>\n",
       "    </tr>\n",
       "    <tr>\n",
       "      <th>7</th>\n",
       "      <td>Job opportunity _ Data Analyst</td>\n",
       "      <td>Bangalore Rural, Karnataka, Hyderabad, Telanga...</td>\n",
       "      <td>Talent Sketchers</td>\n",
       "      <td>6-10 Yrs</td>\n",
       "    </tr>\n",
       "    <tr>\n",
       "      <th>8</th>\n",
       "      <td>Data Analyst</td>\n",
       "      <td>Hybrid - Bengaluru</td>\n",
       "      <td>Team ware solutions</td>\n",
       "      <td>5-10 Yrs</td>\n",
       "    </tr>\n",
       "    <tr>\n",
       "      <th>9</th>\n",
       "      <td>ETL - Data Analyst</td>\n",
       "      <td>Bengaluru</td>\n",
       "      <td>2coms</td>\n",
       "      <td>5-10 Yrs</td>\n",
       "    </tr>\n",
       "    <tr>\n",
       "      <th>10</th>\n",
       "      <td>Intelliswift is hiring For a Data Analyst Bang...</td>\n",
       "      <td>Hybrid - Bengaluru</td>\n",
       "      <td>Intelliswift</td>\n",
       "      <td>8-12 Yrs</td>\n",
       "    </tr>\n",
       "    <tr>\n",
       "      <th>11</th>\n",
       "      <td>Data Analyst</td>\n",
       "      <td>Hyderabad, Bengaluru, Delhi / NCR</td>\n",
       "      <td>Incanus Technologies</td>\n",
       "      <td>0-5 Yrs</td>\n",
       "    </tr>\n",
       "    <tr>\n",
       "      <th>12</th>\n",
       "      <td>AWS Data Engineer/Data Analyst - Need Immediat...</td>\n",
       "      <td>Bangalore Rural, Karnataka, Hyderabad, Telangana</td>\n",
       "      <td>Deloitte</td>\n",
       "      <td>5-8 Yrs</td>\n",
       "    </tr>\n",
       "    <tr>\n",
       "      <th>13</th>\n",
       "      <td>Data Analyst</td>\n",
       "      <td>Hyderabad, Bengaluru</td>\n",
       "      <td>Team Lease Dgital</td>\n",
       "      <td>6-10 Yrs</td>\n",
       "    </tr>\n",
       "    <tr>\n",
       "      <th>14</th>\n",
       "      <td>Data Analyst</td>\n",
       "      <td>Hyderabad, Bengaluru, Delhi / NCR</td>\n",
       "      <td>Tata Consultancy Services (TCS)</td>\n",
       "      <td>4-9 Yrs</td>\n",
       "    </tr>\n",
       "    <tr>\n",
       "      <th>15</th>\n",
       "      <td>Data Analyst</td>\n",
       "      <td>Bengaluru</td>\n",
       "      <td>Softtek</td>\n",
       "      <td>4-6 Yrs</td>\n",
       "    </tr>\n",
       "    <tr>\n",
       "      <th>16</th>\n",
       "      <td>Data Analyst</td>\n",
       "      <td>Bengaluru</td>\n",
       "      <td>NetSkope Software</td>\n",
       "      <td>3-5 Yrs</td>\n",
       "    </tr>\n",
       "    <tr>\n",
       "      <th>17</th>\n",
       "      <td>Platform Data Analyst</td>\n",
       "      <td>Bengaluru</td>\n",
       "      <td>Saltmine</td>\n",
       "      <td>2-4 Yrs</td>\n",
       "    </tr>\n",
       "    <tr>\n",
       "      <th>18</th>\n",
       "      <td>Data Analyst</td>\n",
       "      <td>Hybrid - Bengaluru(Bannerghatta Road)</td>\n",
       "      <td>LKQ India</td>\n",
       "      <td>2-5 Yrs</td>\n",
       "    </tr>\n",
       "    <tr>\n",
       "      <th>19</th>\n",
       "      <td>Data Analyst</td>\n",
       "      <td>Chennai, Bengaluru</td>\n",
       "      <td>Xoom</td>\n",
       "      <td>3-5 Yrs</td>\n",
       "    </tr>\n",
       "  </tbody>\n",
       "</table>\n",
       "</div>"
      ],
      "text/plain": [
       "                                            Job Title  \\\n",
       "0                                        Data Analyst   \n",
       "1                                        Data Analyst   \n",
       "2                                 Online Data Analyst   \n",
       "3                                        Data Analyst   \n",
       "4                           Data Analyst (automotive)   \n",
       "5                                        Data Analyst   \n",
       "6                                        Data Analyst   \n",
       "7                      Job opportunity _ Data Analyst   \n",
       "8                                        Data Analyst   \n",
       "9                                  ETL - Data Analyst   \n",
       "10  Intelliswift is hiring For a Data Analyst Bang...   \n",
       "11                                       Data Analyst   \n",
       "12  AWS Data Engineer/Data Analyst - Need Immediat...   \n",
       "13                                       Data Analyst   \n",
       "14                                       Data Analyst   \n",
       "15                                       Data Analyst   \n",
       "16                                       Data Analyst   \n",
       "17                              Platform Data Analyst   \n",
       "18                                       Data Analyst   \n",
       "19                                       Data Analyst   \n",
       "\n",
       "                                         Job Location  \\\n",
       "0   Kolkata, Mumbai, New Delhi, Hyderabad, Pune, C...   \n",
       "1                                           Bengaluru   \n",
       "2   Kolkata, Mumbai, New Delhi, Hyderabad, Pune, C...   \n",
       "3                                   Mumbai, Bengaluru   \n",
       "4                         Bangalore/Bengaluru(Domlur)   \n",
       "5   Hybrid - Bangalore Rural, Karnataka, Hyderabad...   \n",
       "6                       Bengaluru(4th Phase JP Nagar)   \n",
       "7   Bangalore Rural, Karnataka, Hyderabad, Telanga...   \n",
       "8                                  Hybrid - Bengaluru   \n",
       "9                                           Bengaluru   \n",
       "10                                 Hybrid - Bengaluru   \n",
       "11                  Hyderabad, Bengaluru, Delhi / NCR   \n",
       "12   Bangalore Rural, Karnataka, Hyderabad, Telangana   \n",
       "13                               Hyderabad, Bengaluru   \n",
       "14                  Hyderabad, Bengaluru, Delhi / NCR   \n",
       "15                                          Bengaluru   \n",
       "16                                          Bengaluru   \n",
       "17                                          Bengaluru   \n",
       "18              Hybrid - Bengaluru(Bannerghatta Road)   \n",
       "19                                 Chennai, Bengaluru   \n",
       "\n",
       "                            Company Name Expereince_required  \n",
       "0                     Orbit Skyline, Inc             2-4 Yrs  \n",
       "1                                 Target             2-4 Yrs  \n",
       "2                    TELUS International             1-4 Yrs  \n",
       "3             FedEx TSCS (India) Pvt Ltd             1-4 Yrs  \n",
       "4   Fenyes Engineered Technology Pvt Ltd             5-6 Yrs  \n",
       "5              Tsit Digital Technologies            5-10 Yrs  \n",
       "6                   Objectwin Technology             1-5 Yrs  \n",
       "7                       Talent Sketchers            6-10 Yrs  \n",
       "8                    Team ware solutions            5-10 Yrs  \n",
       "9                                  2coms            5-10 Yrs  \n",
       "10                          Intelliswift            8-12 Yrs  \n",
       "11                  Incanus Technologies             0-5 Yrs  \n",
       "12                              Deloitte             5-8 Yrs  \n",
       "13                     Team Lease Dgital            6-10 Yrs  \n",
       "14       Tata Consultancy Services (TCS)             4-9 Yrs  \n",
       "15                               Softtek             4-6 Yrs  \n",
       "16                     NetSkope Software             3-5 Yrs  \n",
       "17                              Saltmine             2-4 Yrs  \n",
       "18                             LKQ India             2-5 Yrs  \n",
       "19                                  Xoom             3-5 Yrs  "
      ]
     },
     "execution_count": 85,
     "metadata": {},
     "output_type": "execute_result"
    }
   ],
   "source": [
    "df=pd.DataFrame({\"Job Title\":job_title,\"Job Location\":job_location,\"Company Name\":company_name,\"Expereince_required\":experience_required})\n",
    "df"
   ]
  },
  {
   "cell_type": "code",
   "execution_count": 88,
   "id": "f528af6a",
   "metadata": {},
   "outputs": [],
   "source": [
    "# Question 2. : Write a python program to scrape data for “Data Analyst” Job position in “Bangalore” location. \n",
    "#You have to scrape the job-title, job-location, company_name, experience_required. You have to \n",
    "#scrape first 10 jobs data."
   ]
  },
  {
   "cell_type": "code",
   "execution_count": 225,
   "id": "7cdc2be0",
   "metadata": {},
   "outputs": [],
   "source": [
    "driver=webdriver.Chrome()"
   ]
  },
  {
   "cell_type": "code",
   "execution_count": 226,
   "id": "ab3c9f72",
   "metadata": {},
   "outputs": [],
   "source": [
    "driver.get('https://www.shine.com/')"
   ]
  },
  {
   "cell_type": "code",
   "execution_count": 228,
   "id": "7ab937bd",
   "metadata": {},
   "outputs": [],
   "source": [
    "destignation=driver.find_elements(By.XPATH,'/html/body/div/div[4]/div/div[2]/div[2]/div/form/div/div[1]/ul/li[1]/div/input')\n",
    "destignation.send_keys('Data Analyst')"
   ]
  },
  {
   "cell_type": "code",
   "execution_count": 229,
   "id": "a8ca938f",
   "metadata": {},
   "outputs": [],
   "source": [
    "location=driver.find_element(By.XPATH,'/html/body/div/div[4]/div/div[2]/div[2]/div/form/div/div[1]/ul/li[2]/div/input')\n",
    "location.send_keys('Bangalore')"
   ]
  },
  {
   "cell_type": "code",
   "execution_count": 230,
   "id": "6d1879b1",
   "metadata": {},
   "outputs": [],
   "source": [
    "search=driver.find_element(By.XPATH,'/html/body/div/div[4]/div/div[2]/div[2]/div/form/div/div[2]/div/button')\n",
    "search.click()"
   ]
  },
  {
   "cell_type": "code",
   "execution_count": 145,
   "id": "2fc55d32",
   "metadata": {},
   "outputs": [],
   "source": [
    "job_title=[]\n",
    "job_location=[]\n",
    "company_name=[]\n",
    "experience_required=[]"
   ]
  },
  {
   "cell_type": "code",
   "execution_count": 233,
   "id": "3f3f0e06",
   "metadata": {},
   "outputs": [
    {
     "name": "stdout",
     "output_type": "stream",
     "text": [
      "['Data Analyst', 'Hiring For Data Analyst', 'Lead Data Analyst', 'Data Analyst', 'Vacancy For Data Analyst', 'Technical Data Architect', 'Data Science Architect', 'Data Engineer', 'Clinical Data Associate', 'Part-Time Data Entry Operator work']\n"
     ]
    },
    {
     "data": {
      "text/plain": [
       "10"
      ]
     },
     "execution_count": 233,
     "metadata": {},
     "output_type": "execute_result"
    }
   ],
   "source": [
    "job_tags=driver.find_elements(By.XPATH,'//div[@class=\"jobCard_jobCard__jjUmu  white-box-border jobCard\"]/div/h2/a')\n",
    "for i in job_tags:\n",
    "    title=i.text\n",
    "    job_title.append(title)\n",
    "job_title=job_title[0:10]\n",
    "print(job_title)\n",
    "len(job_title)"
   ]
  },
  {
   "cell_type": "code",
   "execution_count": 253,
   "id": "f293e5f6",
   "metadata": {},
   "outputs": [
    {
     "name": "stdout",
     "output_type": "stream",
     "text": [
      "['Bangalore', 'Bangalore', 'Bangalore', 'Bangalore', 'Bangalore', 'Bangalore', 'Bangalore', 'Bangalore', 'Bangalore', 'Bangalore']\n"
     ]
    },
    {
     "data": {
      "text/plain": [
       "10"
      ]
     },
     "execution_count": 253,
     "metadata": {},
     "output_type": "execute_result"
    }
   ],
   "source": [
    "location_tags=driver.find_elements(By.XPATH,'/html/body/div[1]/div[2]/div[4]/div/div[2]/div[1]/div/div/div[7]/div[1]/div[1]/div[3]/div[2]')\n",
    "for i in location_tags:\n",
    "    location=i.text\n",
    "    job_location.append(location)\n",
    "job_location=job_location[0:10]\n",
    "print(job_location)\n",
    "len(job_location)"
   ]
  },
  {
   "cell_type": "code",
   "execution_count": 236,
   "id": "4b020b73",
   "metadata": {},
   "outputs": [
    {
     "name": "stdout",
     "output_type": "stream",
     "text": [
      "['sahast sales corporation', 'radhika enterprises', 'ara resources private limited', 'diraa hr services hiring for mncs', 'yogita staffing solution', 'uprighthc solutions private limited', 'symphoni hr pvt. ltd.', 'spm hr solutions', 'techno endura', 'techno endura']\n"
     ]
    },
    {
     "data": {
      "text/plain": [
       "10"
      ]
     },
     "execution_count": 236,
     "metadata": {},
     "output_type": "execute_result"
    }
   ],
   "source": [
    "company_tags=driver.find_elements(By.XPATH,'//div[@class=\"jobCard_jobCard_cName__mYnow\"]/span')\n",
    "for i in company_tags:\n",
    "    company=i.text\n",
    "    company_name.append(company)\n",
    "company_name=company_name[1:11]\n",
    "print(company_name)\n",
    "len(company_name)"
   ]
  },
  {
   "cell_type": "code",
   "execution_count": 238,
   "id": "831cf1e9",
   "metadata": {},
   "outputs": [
    {
     "name": "stdout",
     "output_type": "stream",
     "text": [
      "['12 to 22 Yrs', '0 to 4 Yrs', '4 to 9 Yrs', '0 to 1 Yr', '0 to 3 Yrs', '10 to 20 Yrs', '8 to 10 Yrs', '4 to 6 Yrs', '0 to 1 Yr', '0 to 1 Yr']\n"
     ]
    },
    {
     "data": {
      "text/plain": [
       "10"
      ]
     },
     "execution_count": 238,
     "metadata": {},
     "output_type": "execute_result"
    }
   ],
   "source": [
    "experience_tags=driver.find_elements(By.XPATH,'//div[@class=\"jobCard_jobCard_lists__fdnsc\"]/div[1]')\n",
    "for i in experience_tags:\n",
    "    experience=i.text\n",
    "    experience_required.append(experience)\n",
    "experience_required=experience_required[1:11]\n",
    "print(experience_required)\n",
    "len(experience_required)"
   ]
  },
  {
   "cell_type": "code",
   "execution_count": 254,
   "id": "4bc2f154",
   "metadata": {},
   "outputs": [
    {
     "data": {
      "text/html": [
       "<div>\n",
       "<style scoped>\n",
       "    .dataframe tbody tr th:only-of-type {\n",
       "        vertical-align: middle;\n",
       "    }\n",
       "\n",
       "    .dataframe tbody tr th {\n",
       "        vertical-align: top;\n",
       "    }\n",
       "\n",
       "    .dataframe thead th {\n",
       "        text-align: right;\n",
       "    }\n",
       "</style>\n",
       "<table border=\"1\" class=\"dataframe\">\n",
       "  <thead>\n",
       "    <tr style=\"text-align: right;\">\n",
       "      <th></th>\n",
       "      <th>Job Title</th>\n",
       "      <th>Job Location</th>\n",
       "      <th>Company Name</th>\n",
       "      <th>Expereince_required</th>\n",
       "    </tr>\n",
       "  </thead>\n",
       "  <tbody>\n",
       "    <tr>\n",
       "      <th>0</th>\n",
       "      <td>Data Analyst</td>\n",
       "      <td>Bangalore</td>\n",
       "      <td>sahast sales corporation</td>\n",
       "      <td>12 to 22 Yrs</td>\n",
       "    </tr>\n",
       "    <tr>\n",
       "      <th>1</th>\n",
       "      <td>Hiring For Data Analyst</td>\n",
       "      <td>Bangalore</td>\n",
       "      <td>radhika enterprises</td>\n",
       "      <td>0 to 4 Yrs</td>\n",
       "    </tr>\n",
       "    <tr>\n",
       "      <th>2</th>\n",
       "      <td>Lead Data Analyst</td>\n",
       "      <td>Bangalore</td>\n",
       "      <td>ara resources private limited</td>\n",
       "      <td>4 to 9 Yrs</td>\n",
       "    </tr>\n",
       "    <tr>\n",
       "      <th>3</th>\n",
       "      <td>Data Analyst</td>\n",
       "      <td>Bangalore</td>\n",
       "      <td>diraa hr services hiring for mncs</td>\n",
       "      <td>0 to 1 Yr</td>\n",
       "    </tr>\n",
       "    <tr>\n",
       "      <th>4</th>\n",
       "      <td>Vacancy For Data Analyst</td>\n",
       "      <td>Bangalore</td>\n",
       "      <td>yogita staffing solution</td>\n",
       "      <td>0 to 3 Yrs</td>\n",
       "    </tr>\n",
       "    <tr>\n",
       "      <th>5</th>\n",
       "      <td>Technical Data Architect</td>\n",
       "      <td>Bangalore</td>\n",
       "      <td>uprighthc solutions private limited</td>\n",
       "      <td>10 to 20 Yrs</td>\n",
       "    </tr>\n",
       "    <tr>\n",
       "      <th>6</th>\n",
       "      <td>Data Science Architect</td>\n",
       "      <td>Bangalore</td>\n",
       "      <td>symphoni hr pvt. ltd.</td>\n",
       "      <td>8 to 10 Yrs</td>\n",
       "    </tr>\n",
       "    <tr>\n",
       "      <th>7</th>\n",
       "      <td>Data Engineer</td>\n",
       "      <td>Bangalore</td>\n",
       "      <td>spm hr solutions</td>\n",
       "      <td>4 to 6 Yrs</td>\n",
       "    </tr>\n",
       "    <tr>\n",
       "      <th>8</th>\n",
       "      <td>Clinical Data Associate</td>\n",
       "      <td>Bangalore</td>\n",
       "      <td>techno endura</td>\n",
       "      <td>0 to 1 Yr</td>\n",
       "    </tr>\n",
       "    <tr>\n",
       "      <th>9</th>\n",
       "      <td>Part-Time Data Entry Operator work</td>\n",
       "      <td>Bangalore</td>\n",
       "      <td>techno endura</td>\n",
       "      <td>0 to 1 Yr</td>\n",
       "    </tr>\n",
       "  </tbody>\n",
       "</table>\n",
       "</div>"
      ],
      "text/plain": [
       "                            Job Title Job Location  \\\n",
       "0                        Data Analyst    Bangalore   \n",
       "1             Hiring For Data Analyst    Bangalore   \n",
       "2                   Lead Data Analyst    Bangalore   \n",
       "3                        Data Analyst    Bangalore   \n",
       "4            Vacancy For Data Analyst    Bangalore   \n",
       "5            Technical Data Architect    Bangalore   \n",
       "6              Data Science Architect    Bangalore   \n",
       "7                       Data Engineer    Bangalore   \n",
       "8             Clinical Data Associate    Bangalore   \n",
       "9  Part-Time Data Entry Operator work    Bangalore   \n",
       "\n",
       "                          Company Name Expereince_required  \n",
       "0             sahast sales corporation        12 to 22 Yrs  \n",
       "1                  radhika enterprises          0 to 4 Yrs  \n",
       "2        ara resources private limited          4 to 9 Yrs  \n",
       "3    diraa hr services hiring for mncs           0 to 1 Yr  \n",
       "4             yogita staffing solution          0 to 3 Yrs  \n",
       "5  uprighthc solutions private limited        10 to 20 Yrs  \n",
       "6                symphoni hr pvt. ltd.         8 to 10 Yrs  \n",
       "7                     spm hr solutions          4 to 6 Yrs  \n",
       "8                        techno endura           0 to 1 Yr  \n",
       "9                        techno endura           0 to 1 Yr  "
      ]
     },
     "execution_count": 254,
     "metadata": {},
     "output_type": "execute_result"
    }
   ],
   "source": [
    "df=pd.DataFrame({\"Job Title\":job_title,\"Job Location\":job_location,\"Company Name\":company_name,\"Expereince_required\":experience_required})\n",
    "df"
   ]
  },
  {
   "cell_type": "code",
   "execution_count": 1,
   "id": "3d7e21f5",
   "metadata": {},
   "outputs": [],
   "source": [
    "#: Scrape data of first 100 mobiles listings on flipkart.com. You have to scrape four attributes:"
   ]
  },
  {
   "cell_type": "code",
   "execution_count": 262,
   "id": "56ca4a42",
   "metadata": {},
   "outputs": [],
   "source": [
    "driver=webdriver.Chrome()"
   ]
  },
  {
   "cell_type": "code",
   "execution_count": 263,
   "id": "f800a822",
   "metadata": {},
   "outputs": [],
   "source": [
    "driver.get('https://www.flipkart.com/')"
   ]
  },
  {
   "cell_type": "code",
   "execution_count": 264,
   "id": "2cf38196",
   "metadata": {},
   "outputs": [],
   "source": [
    "destignation=driver.find_element(By.XPATH,\"/html/body/div[1]/div/div[1]/div/div/div/div/div[1]/div/div/div/div[1]/div[1]/header/div[1]/div[2]/form/div/div/input\")\n",
    "destignation.send_keys('Sunglass')"
   ]
  },
  {
   "cell_type": "code",
   "execution_count": 265,
   "id": "b8181cde",
   "metadata": {},
   "outputs": [],
   "source": [
    "search=driver.find_element(By.XPATH,'/html/body/div[1]/div/div[1]/div/div/div/div/div[1]/div/div/div/div[1]/div[1]/header/div[1]/div[2]/form/div/button')\n",
    "search.click()"
   ]
  },
  {
   "cell_type": "code",
   "execution_count": 268,
   "id": "ca8c7ea8",
   "metadata": {},
   "outputs": [],
   "source": [
    "brand=[]\n",
    "description=[]\n",
    "prices=[]"
   ]
  },
  {
   "cell_type": "code",
   "execution_count": 269,
   "id": "d90ca259",
   "metadata": {},
   "outputs": [],
   "source": [
    "start=0\n",
    "end=3\n",
    "for page in range(start,end):\n",
    "    titles=driver.find_elements(By.XPATH,'//div[@class=\"_2WkVRV\"]')\n",
    "    for i in titles:\n",
    "        brand.append(i.text)\n",
    "        \n",
    "    price=driver.find_elements(By.XPATH,'//div[@class=\"_30jeq3\"]')\n",
    "    for i in price:\n",
    "        title=i.text\n",
    "        prices.append(title)\n",
    "\n",
    "        \n",
    "    desc=driver.find_elements(By.XPATH,'//a[@class=\"IRpwTa\"]')\n",
    "    for i in desc:\n",
    "        title=i.text\n",
    "        description.append(title)\n",
    "        \n",
    "next_button=driver.find_element(By.XPATH,'/html/body/div/div/div[3]/div[1]/div[2]/div[12]/div/div/nav/a[11]')\n",
    "next_button.click()\n",
    "time.sleep(3)"
   ]
  },
  {
   "cell_type": "code",
   "execution_count": 282,
   "id": "0ad3a300",
   "metadata": {},
   "outputs": [
    {
     "name": "stdout",
     "output_type": "stream",
     "text": [
      "['Singco India', 'Singco India', 'SRPM', 'Fastrack', 'Elligator', 'Fastrack', 'Aarna Fashion', 'Singco India', 'ROADWAY', 'Fastrack', 'Poloport', 'Singco India', 'Elligator', 'GOOD FRIENDS', 'ROADWAY', 'Elligator', 'Singco India', 'EYEVITALS', 'Aarna Fashion', 'Elligator', 'ROYAL SON', 'Singco India', 'VINCENT CHASE', 'Elligator', 'Rich Club', 'Fastrack', 'Eyewearlabs', 'Eyewearlabs', 'Niavaa', 'PIRASO', 'RESIST EYEWEAR', 'Nicole Miller', 'PIRASO', 'VINCENT CHASE', 'Aarna Fashion', 'Hooper', 'AISLIN', 'VILLAIN', 'VINCENT CHASE', 'Elligator', 'Singco India', 'Singco India', 'SRPM', 'Fastrack', 'Elligator', 'Fastrack', 'Aarna Fashion', 'Singco India', 'ROADWAY', 'Fastrack', 'Poloport', 'Singco India', 'Elligator', 'GOOD FRIENDS', 'ROADWAY', 'Elligator', 'Singco India', 'EYEVITALS', 'Aarna Fashion', 'Elligator', 'ROYAL SON', 'Singco India', 'VINCENT CHASE', 'Elligator', 'Rich Club', 'Fastrack', 'Eyewearlabs', 'Eyewearlabs', 'Niavaa', 'PIRASO', 'RESIST EYEWEAR', 'Nicole Miller', 'PIRASO', 'VINCENT CHASE', 'Aarna Fashion', 'Hooper', 'AISLIN', 'VILLAIN', 'VINCENT CHASE', 'Elligator', 'Singco India', 'Singco India', 'SRPM', 'Fastrack', 'Elligator', 'Fastrack', 'Aarna Fashion', 'Singco India', 'ROADWAY', 'Fastrack', 'Poloport', 'Singco India', 'Elligator', 'GOOD FRIENDS', 'ROADWAY', 'Elligator', 'Singco India', 'EYEVITALS', 'Aarna Fashion', 'Elligator']\n"
     ]
    }
   ],
   "source": [
    "brand=brand[0:100]\n",
    "print(brand)"
   ]
  },
  {
   "cell_type": "code",
   "execution_count": 281,
   "id": "924a841a",
   "metadata": {},
   "outputs": [
    {
     "name": "stdout",
     "output_type": "stream",
     "text": [
      "['₹249', '₹249', '₹169', '₹569', '₹169', '₹539', '₹519', '₹499', '₹349', '₹599', '₹215', '₹375', '₹169', '₹247', '₹254', '₹169', '₹340', '₹499', '₹325', '₹149', '₹639', '₹590', '₹449', '₹159', '₹399', '₹769', '₹1,999', '₹1,236', '₹234', '₹299', '₹1,290', '₹2,499', '₹279', '₹499', '₹325', '₹487', '₹560', '₹499', '₹399', '₹159', '₹249', '₹249', '₹169', '₹569', '₹169', '₹539', '₹519', '₹499', '₹349', '₹599', '₹215', '₹375', '₹169', '₹247', '₹254', '₹169', '₹340', '₹499', '₹325', '₹149', '₹639', '₹590', '₹449', '₹159', '₹399', '₹769', '₹1,999', '₹1,236', '₹234', '₹299', '₹1,290', '₹2,499', '₹279', '₹499', '₹325', '₹487', '₹560', '₹499', '₹399', '₹159', '₹249', '₹249', '₹169', '₹569', '₹169', '₹539', '₹519', '₹499', '₹349', '₹599', '₹215', '₹375', '₹169', '₹247', '₹254', '₹169', '₹340', '₹499', '₹325', '₹149']\n"
     ]
    }
   ],
   "source": [
    "prices=prices[0:100]\n",
    "print(prices)"
   ]
  },
  {
   "cell_type": "code",
   "execution_count": 283,
   "id": "fdcc0c07",
   "metadata": {},
   "outputs": [
    {
     "name": "stdout",
     "output_type": "stream",
     "text": [
      "['UV Protection, Riding Glasses, Gradient Clubmaster Sung...', 'Mirrored Wayfarer Sunglasses (50)', 'UV Protection Wayfarer Sunglasses (58)', 'UV Protection, Mirrored Wayfarer Sunglasses (52)', 'UV Protection Rectangular Sunglasses (Free Size)', 'UV Protection Retro Square Sunglasses (50)', 'UV Protection, Riding Glasses Retro Square, Rectangular...', 'UV Protection Retro Square Sunglasses (Free Size)', 'Gradient, UV Protection Wayfarer Sunglasses (Free Size)', 'UV Protection Wayfarer Sunglasses (Free Size)', 'Polarized, UV Protection Wayfarer, Retro Square Sunglas...', 'UV Protection Wayfarer Sunglasses (53)', 'Polarized Aviator Sunglasses (Free Size)', 'UV Protection Wayfarer, Sports, Spectacle , Retro Squar...', 'UV Protection Wayfarer Sunglasses (50)', 'Riding Glasses, UV Protection Clubmaster, Wayfarer Sung...', 'Riding Glasses, UV Protection Round, Over-sized Sunglas...', 'UV Protection Aviator Sunglasses (50)', 'UV Protection Cat-eye, Retro Square, Oval, Round Sungla...', 'Polarized, UV Protection Retro Square Sunglasses (55)', 'Gradient, Toughened Glass Lens, UV Protection Retro Squ...', 'by Lenskart Polarized, UV Protection Wayfarer Sunglasse...', 'UV Protection Retro Square Sunglasses (54)', 'UV Protection Retro Square Sunglasses (54)', 'UV Protection Aviator Sunglasses (58)', 'Polarized, UV Protection Retro Square Sunglasses (54)', 'Polarized, UV Protection Wayfarer Sunglasses (51)', 'UV Protection Aviator Sunglasses (Free Size)', 'UV Protection Over-sized Sunglasses (65)', 'Toughened Glass Lens Aviator Sunglasses (Free Size)', 'Polarized Butterfly Sunglasses (64)', 'UV Protection Over-sized Sunglasses (60)', 'by Lenskart UV Protection Wayfarer Sunglasses (59)', 'UV Protection Aviator Sunglasses (50)', 'UV Protection Wayfarer Sunglasses (45)', 'Polarized, UV Protection Wayfarer Sunglasses (53)', 'Others Retro Square Sunglasses (Free Size)', 'by Lenskart Polarized, UV Protection Wayfarer Sunglasse...', 'UV Protection Round Sunglasses (53)', 'UV Protection, Riding Glasses, Gradient Clubmaster Sung...', 'Mirrored Wayfarer Sunglasses (50)', 'UV Protection Wayfarer Sunglasses (58)', 'UV Protection, Mirrored Wayfarer Sunglasses (52)', 'UV Protection Rectangular Sunglasses (Free Size)', 'UV Protection Retro Square Sunglasses (50)', 'UV Protection, Riding Glasses Retro Square, Rectangular...', 'UV Protection Retro Square Sunglasses (Free Size)', 'Gradient, UV Protection Wayfarer Sunglasses (Free Size)', 'UV Protection Wayfarer Sunglasses (Free Size)', 'Polarized, UV Protection Wayfarer, Retro Square Sunglas...', 'UV Protection Wayfarer Sunglasses (53)', 'Polarized Aviator Sunglasses (Free Size)', 'UV Protection Wayfarer, Sports, Spectacle , Retro Squar...', 'UV Protection Wayfarer Sunglasses (50)', 'Riding Glasses, UV Protection Clubmaster, Wayfarer Sung...', 'Riding Glasses, UV Protection Round, Over-sized Sunglas...', 'UV Protection Aviator Sunglasses (50)', 'UV Protection Cat-eye, Retro Square, Oval, Round Sungla...', 'Polarized, UV Protection Retro Square Sunglasses (55)', 'Gradient, Toughened Glass Lens, UV Protection Retro Squ...', 'by Lenskart Polarized, UV Protection Wayfarer Sunglasse...', 'UV Protection Retro Square Sunglasses (54)', 'UV Protection Retro Square Sunglasses (54)', 'UV Protection Aviator Sunglasses (58)', 'Polarized, UV Protection Retro Square Sunglasses (54)', 'Polarized, UV Protection Wayfarer Sunglasses (51)', 'UV Protection Aviator Sunglasses (Free Size)', 'UV Protection Over-sized Sunglasses (65)', 'Toughened Glass Lens Aviator Sunglasses (Free Size)', 'Polarized Butterfly Sunglasses (64)', 'UV Protection Over-sized Sunglasses (60)', 'by Lenskart UV Protection Wayfarer Sunglasses (59)', 'UV Protection Aviator Sunglasses (50)', 'UV Protection Wayfarer Sunglasses (45)', 'Polarized, UV Protection Wayfarer Sunglasses (53)', 'Others Retro Square Sunglasses (Free Size)', 'by Lenskart Polarized, UV Protection Wayfarer Sunglasse...', 'UV Protection Round Sunglasses (53)', 'UV Protection, Riding Glasses, Gradient Clubmaster Sung...', 'Mirrored Wayfarer Sunglasses (50)', 'UV Protection Wayfarer Sunglasses (58)', 'UV Protection, Mirrored Wayfarer Sunglasses (52)', 'UV Protection Rectangular Sunglasses (Free Size)', 'UV Protection Retro Square Sunglasses (50)', 'UV Protection, Riding Glasses Retro Square, Rectangular...', 'UV Protection Retro Square Sunglasses (Free Size)', 'Gradient, UV Protection Wayfarer Sunglasses (Free Size)', 'UV Protection Wayfarer Sunglasses (Free Size)', 'Polarized, UV Protection Wayfarer, Retro Square Sunglas...', 'UV Protection Wayfarer Sunglasses (53)', 'Polarized Aviator Sunglasses (Free Size)', 'UV Protection Wayfarer, Sports, Spectacle , Retro Squar...', 'UV Protection Wayfarer Sunglasses (50)', 'Riding Glasses, UV Protection Clubmaster, Wayfarer Sung...', 'Riding Glasses, UV Protection Round, Over-sized Sunglas...', 'UV Protection Aviator Sunglasses (50)', 'UV Protection Cat-eye, Retro Square, Oval, Round Sungla...', 'Polarized, UV Protection Retro Square Sunglasses (55)', 'Gradient, Toughened Glass Lens, UV Protection Retro Squ...', 'by Lenskart Polarized, UV Protection Wayfarer Sunglasse...']\n"
     ]
    }
   ],
   "source": [
    "description=description[0:100]\n",
    "print(description)"
   ]
  },
  {
   "cell_type": "code",
   "execution_count": 285,
   "id": "6a6e897f",
   "metadata": {},
   "outputs": [
    {
     "name": "stdout",
     "output_type": "stream",
     "text": [
      "            Brand                                        Description Prices\n",
      "0    Singco India  UV Protection, Riding Glasses, Gradient Clubma...   ₹249\n",
      "1    Singco India                  Mirrored Wayfarer Sunglasses (50)   ₹249\n",
      "2            SRPM             UV Protection Wayfarer Sunglasses (58)   ₹169\n",
      "3        Fastrack   UV Protection, Mirrored Wayfarer Sunglasses (52)   ₹569\n",
      "4       Elligator   UV Protection Rectangular Sunglasses (Free Size)   ₹169\n",
      "..            ...                                                ...    ...\n",
      "95      Elligator              UV Protection Aviator Sunglasses (50)   ₹169\n",
      "96   Singco India  UV Protection Cat-eye, Retro Square, Oval, Rou...   ₹340\n",
      "97      EYEVITALS  Polarized, UV Protection Retro Square Sunglass...   ₹499\n",
      "98  Aarna Fashion  Gradient, Toughened Glass Lens, UV Protection ...   ₹325\n",
      "99      Elligator  by Lenskart Polarized, UV Protection Wayfarer ...   ₹149\n",
      "\n",
      "[100 rows x 3 columns]\n"
     ]
    }
   ],
   "source": [
    "df=pd.DataFrame({\"Brand\":brand,\"Description\":description,\"Prices\":prices})\n",
    "print(df)"
   ]
  },
  {
   "cell_type": "code",
   "execution_count": 286,
   "id": "9c5c66c1",
   "metadata": {},
   "outputs": [
    {
     "data": {
      "text/html": [
       "<div>\n",
       "<style scoped>\n",
       "    .dataframe tbody tr th:only-of-type {\n",
       "        vertical-align: middle;\n",
       "    }\n",
       "\n",
       "    .dataframe tbody tr th {\n",
       "        vertical-align: top;\n",
       "    }\n",
       "\n",
       "    .dataframe thead th {\n",
       "        text-align: right;\n",
       "    }\n",
       "</style>\n",
       "<table border=\"1\" class=\"dataframe\">\n",
       "  <thead>\n",
       "    <tr style=\"text-align: right;\">\n",
       "      <th></th>\n",
       "      <th>Brand</th>\n",
       "      <th>Description</th>\n",
       "      <th>Prices</th>\n",
       "    </tr>\n",
       "  </thead>\n",
       "  <tbody>\n",
       "    <tr>\n",
       "      <th>0</th>\n",
       "      <td>Singco India</td>\n",
       "      <td>UV Protection, Riding Glasses, Gradient Clubma...</td>\n",
       "      <td>₹249</td>\n",
       "    </tr>\n",
       "    <tr>\n",
       "      <th>1</th>\n",
       "      <td>Singco India</td>\n",
       "      <td>Mirrored Wayfarer Sunglasses (50)</td>\n",
       "      <td>₹249</td>\n",
       "    </tr>\n",
       "    <tr>\n",
       "      <th>2</th>\n",
       "      <td>SRPM</td>\n",
       "      <td>UV Protection Wayfarer Sunglasses (58)</td>\n",
       "      <td>₹169</td>\n",
       "    </tr>\n",
       "    <tr>\n",
       "      <th>3</th>\n",
       "      <td>Fastrack</td>\n",
       "      <td>UV Protection, Mirrored Wayfarer Sunglasses (52)</td>\n",
       "      <td>₹569</td>\n",
       "    </tr>\n",
       "    <tr>\n",
       "      <th>4</th>\n",
       "      <td>Elligator</td>\n",
       "      <td>UV Protection Rectangular Sunglasses (Free Size)</td>\n",
       "      <td>₹169</td>\n",
       "    </tr>\n",
       "    <tr>\n",
       "      <th>...</th>\n",
       "      <td>...</td>\n",
       "      <td>...</td>\n",
       "      <td>...</td>\n",
       "    </tr>\n",
       "    <tr>\n",
       "      <th>95</th>\n",
       "      <td>Elligator</td>\n",
       "      <td>UV Protection Aviator Sunglasses (50)</td>\n",
       "      <td>₹169</td>\n",
       "    </tr>\n",
       "    <tr>\n",
       "      <th>96</th>\n",
       "      <td>Singco India</td>\n",
       "      <td>UV Protection Cat-eye, Retro Square, Oval, Rou...</td>\n",
       "      <td>₹340</td>\n",
       "    </tr>\n",
       "    <tr>\n",
       "      <th>97</th>\n",
       "      <td>EYEVITALS</td>\n",
       "      <td>Polarized, UV Protection Retro Square Sunglass...</td>\n",
       "      <td>₹499</td>\n",
       "    </tr>\n",
       "    <tr>\n",
       "      <th>98</th>\n",
       "      <td>Aarna Fashion</td>\n",
       "      <td>Gradient, Toughened Glass Lens, UV Protection ...</td>\n",
       "      <td>₹325</td>\n",
       "    </tr>\n",
       "    <tr>\n",
       "      <th>99</th>\n",
       "      <td>Elligator</td>\n",
       "      <td>by Lenskart Polarized, UV Protection Wayfarer ...</td>\n",
       "      <td>₹149</td>\n",
       "    </tr>\n",
       "  </tbody>\n",
       "</table>\n",
       "<p>100 rows × 3 columns</p>\n",
       "</div>"
      ],
      "text/plain": [
       "            Brand                                        Description Prices\n",
       "0    Singco India  UV Protection, Riding Glasses, Gradient Clubma...   ₹249\n",
       "1    Singco India                  Mirrored Wayfarer Sunglasses (50)   ₹249\n",
       "2            SRPM             UV Protection Wayfarer Sunglasses (58)   ₹169\n",
       "3        Fastrack   UV Protection, Mirrored Wayfarer Sunglasses (52)   ₹569\n",
       "4       Elligator   UV Protection Rectangular Sunglasses (Free Size)   ₹169\n",
       "..            ...                                                ...    ...\n",
       "95      Elligator              UV Protection Aviator Sunglasses (50)   ₹169\n",
       "96   Singco India  UV Protection Cat-eye, Retro Square, Oval, Rou...   ₹340\n",
       "97      EYEVITALS  Polarized, UV Protection Retro Square Sunglass...   ₹499\n",
       "98  Aarna Fashion  Gradient, Toughened Glass Lens, UV Protection ...   ₹325\n",
       "99      Elligator  by Lenskart Polarized, UV Protection Wayfarer ...   ₹149\n",
       "\n",
       "[100 rows x 3 columns]"
      ]
     },
     "execution_count": 286,
     "metadata": {},
     "output_type": "execute_result"
    }
   ],
   "source": [
    "df=pd.DataFrame({\"Brand\":brand,\"Description\":description,\"Prices\":prices})\n",
    "df"
   ]
  },
  {
   "cell_type": "markdown",
   "id": "8d139f44",
   "metadata": {},
   "source": [
    "# THANK YOU"
   ]
  }
 ],
 "metadata": {
  "kernelspec": {
   "display_name": "Python 3 (ipykernel)",
   "language": "python",
   "name": "python3"
  },
  "language_info": {
   "codemirror_mode": {
    "name": "ipython",
    "version": 3
   },
   "file_extension": ".py",
   "mimetype": "text/x-python",
   "name": "python",
   "nbconvert_exporter": "python",
   "pygments_lexer": "ipython3",
   "version": "3.11.3"
  }
 },
 "nbformat": 4,
 "nbformat_minor": 5
}
