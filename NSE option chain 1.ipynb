{
 "cells": [
  {
   "cell_type": "code",
   "execution_count": null,
   "id": "2db71141",
   "metadata": {},
   "outputs": [],
   "source": [
    "import pandas as pd\n",
    "import seaborn as sns\n",
    "import warnings\n",
    "warnings.filterwarnings('ignore')\n",
    "import requests\n",
    "from bs4 import BeautifulSoup\n",
    "import matplotlib.pyplot as plt"
   ]
  },
  {
   "cell_type": "code",
   "execution_count": 2,
   "id": "a3e59c83",
   "metadata": {},
   "outputs": [],
   "source": [
    "headers={\n",
    "    'User-Agent':'Mozilla/5.0 (iPhone; CPU iPhone OS 16_6 like Mac OS X) AppleWebKit/605.1.15 (KHTML, like Gecko) Version/16.6 Mobile/15E148 Safari/604.1',\n",
    "    'Accept-Encoding':'gzip, deflate, br, zstd',\n",
    "    'Accept-Language':'en-IN,en;q=0.9,hi;q=0.8'\n",
    "}"
   ]
  },
  {
   "cell_type": "code",
   "execution_count": 3,
   "id": "e32ca3e0",
   "metadata": {},
   "outputs": [
    {
     "data": {
      "text/plain": [
       "'https://www.nseindia.com/api/option-chain-indices?symbol=NIFTY'"
      ]
     },
     "execution_count": 3,
     "metadata": {},
     "output_type": "execute_result"
    }
   ],
   "source": [
    "url='https://www.nseindia.com/api/option-chain-indices?symbol=NIFTY'\n",
    "url"
   ]
  },
  {
   "cell_type": "code",
   "execution_count": 4,
   "id": "88cf932c",
   "metadata": {},
   "outputs": [
    {
     "data": {
      "text/plain": [
       "<Response [200]>"
      ]
     },
     "execution_count": 4,
     "metadata": {},
     "output_type": "execute_result"
    }
   ],
   "source": [
    "page=requests.get(url,headers=headers)\n",
    "page"
   ]
  },
  {
   "cell_type": "code",
   "execution_count": 5,
   "id": "e2507a6a",
   "metadata": {},
   "outputs": [
    {
     "data": {
      "text/plain": [
       "{'_abck': '3991045FF734A5DE59403B5ED6502F2B~-1~YAAQj106FykE0/CNAQAAQBv09wslB8s+a+FF3ZRuTjMysv9CcNw2Xk1sFWhGHnJz6OUOB/k0q1OjzjWZxhMWnhmlv4nI1fPSwbQ4V2O02lWLrpQRt6wzElu2YatcSaELj78NaVV9uAgJB0cb+c+EsFbArN7o7c25ToeKnnaPRHcrWHPIl81iq9WkTLlfNmrzjES6mDG7NVSJVTuzdfiCyYRBYFmBh03HjYDhCUPwGQUT7jFxB8dlVji+cznMD0Tdva9JO6px3n4nRJWXJXikejM7LvJVJtX0sRIBNxNaV8jqmmiR/ku3/H1h9RO54bYJUACLh+miQV1BQ8BR949CkDmSRrn0TJFWkbqK9NpC8MDfJUz+YRWBVRalWIQUWMQ=~-1~-1~-1',\n",
       " 'ak_bmsc': 'DA5652FD1C52736F34CB8DD6266F5E95~000000000000000000000000000000~YAAQj106FyoE0/CNAQAAQBv09xYkLIJihgv56fiRjt9polbE9OMw+duD9zn16YABixiHfmc+CyvQgoW5QNuW5loSbNYaoqaT7A61RM61YckfdEzBCtJuBY76LyF8/rPXR/Zb88LqSwm79prBI33d1U8T8pN3+qKJFxrNyHanoh9uP5N164vUJ+YZAnlYKwAGdNuA1kVvykPH05YrWFiKoB0NKSVBNqvMkHw+zSVO/wGzdOVjAu/si5BJFcPRCuW5AHsUdplWx9fWV0Vd/3u8QV1wSFxQM7IHRkTRS6DTmabJdI4/iKA011MJ2UI4kNjYOwjpqQzK6buCse/WiDqByADzOMb57nipaIre9rd3fGPYtZB2z2WLM4YQy8JFKvE=',\n",
       " 'bm_sz': '3E3F581F9E9532AA1007E88C9D8113A0~YAAQj106FysE0/CNAQAAQBv09xaLsJrsAOqxy9By8Za7I7ZNgVb47v0EQHrjbAW7z4d5+0VD8N6/I5andh+yBn54IUPr5cTF5CJGqPO9VG3qCHfAGVm1Km2ht5zO+szTnfUHKjLmLYyEp/E/WBXMuaQaA+eqczpCtQ9iRMv9tQVggvOX6lHe+ooRYGoK0jzWeaHVK0WwF8gO7uxfdG5jzG/aDY+TbvmatnVh2wSiDSSxb6eaqO7FyaU06suIFgItGWY15QRwPCUlgPOOKctdRZYHuSf6nW+gLRBYxF/c+UwsTmuw14kVVEOvkmKW9kByrMC64Hi/VC8WPGh5KXPa9UP9HTR61WRV4CA1kb6P9A==~3225923~3425841'}"
      ]
     },
     "execution_count": 5,
     "metadata": {},
     "output_type": "execute_result"
    }
   ],
   "source": [
    "cookies=dict(page.cookies)\n",
    "cookies"
   ]
  },
  {
   "cell_type": "code",
   "execution_count": 6,
   "id": "f19fb397",
   "metadata": {},
   "outputs": [],
   "source": [
    "request=requests.get(url,headers=headers,cookies=cookies).json()"
   ]
  },
  {
   "cell_type": "code",
   "execution_count": null,
   "id": "9b1d9cfe",
   "metadata": {},
   "outputs": [],
   "source": [
    "request"
   ]
  },
  {
   "cell_type": "code",
   "execution_count": 8,
   "id": "114d8f1f",
   "metadata": {},
   "outputs": [],
   "source": [
    "data=pd.DataFrame(request)"
   ]
  },
  {
   "cell_type": "code",
   "execution_count": 9,
   "id": "8572b7a4",
   "metadata": {},
   "outputs": [
    {
     "name": "stdout",
     "output_type": "stream",
     "text": [
      "                                                           records  \\\n",
      "expiryDates      [29-Feb-2024, 07-Mar-2024, 14-Mar-2024, 21-Mar...   \n",
      "data             [{'strikePrice': 12000, 'expiryDate': '25-Jun-...   \n",
      "timestamp                                     29-Feb-2024 15:30:00   \n",
      "underlyingValue                                            21982.8   \n",
      "strikePrices     [12000, 13000, 14000, 15000, 16000, 16500, 170...   \n",
      "CE                                                             NaN   \n",
      "PE                                                             NaN   \n",
      "\n",
      "                                                          filtered  \n",
      "expiryDates                                                    NaN  \n",
      "data             [{'strikePrice': 18650, 'expiryDate': '29-Feb-...  \n",
      "timestamp                                                      NaN  \n",
      "underlyingValue                                                NaN  \n",
      "strikePrices                                                   NaN  \n",
      "CE                         {'totOI': 2993531, 'totVol': 140350718}  \n",
      "PE                         {'totOI': 1860740, 'totVol': 129850224}  \n"
     ]
    }
   ],
   "source": [
    "print(data)"
   ]
  },
  {
   "cell_type": "code",
   "execution_count": 28,
   "id": "02c4debd",
   "metadata": {},
   "outputs": [
    {
     "data": {
      "text/html": [
       "<div>\n",
       "<style scoped>\n",
       "    .dataframe tbody tr th:only-of-type {\n",
       "        vertical-align: middle;\n",
       "    }\n",
       "\n",
       "    .dataframe tbody tr th {\n",
       "        vertical-align: top;\n",
       "    }\n",
       "\n",
       "    .dataframe thead th {\n",
       "        text-align: right;\n",
       "    }\n",
       "</style>\n",
       "<table border=\"1\" class=\"dataframe\">\n",
       "  <thead>\n",
       "    <tr style=\"text-align: right;\">\n",
       "      <th></th>\n",
       "      <th>strikePrice</th>\n",
       "      <th>expiryDate</th>\n",
       "      <th>CE</th>\n",
       "      <th>PE</th>\n",
       "    </tr>\n",
       "  </thead>\n",
       "  <tbody>\n",
       "    <tr>\n",
       "      <th>0</th>\n",
       "      <td>18650</td>\n",
       "      <td>29-Feb-2024</td>\n",
       "      <td>{'strikePrice': 18650, 'expiryDate': '29-Feb-2...</td>\n",
       "      <td>{'strikePrice': 18650, 'expiryDate': '29-Feb-2...</td>\n",
       "    </tr>\n",
       "    <tr>\n",
       "      <th>1</th>\n",
       "      <td>18700</td>\n",
       "      <td>29-Feb-2024</td>\n",
       "      <td>{'strikePrice': 18700, 'expiryDate': '29-Feb-2...</td>\n",
       "      <td>{'strikePrice': 18700, 'expiryDate': '29-Feb-2...</td>\n",
       "    </tr>\n",
       "    <tr>\n",
       "      <th>2</th>\n",
       "      <td>18750</td>\n",
       "      <td>29-Feb-2024</td>\n",
       "      <td>{'strikePrice': 18750, 'expiryDate': '29-Feb-2...</td>\n",
       "      <td>{'strikePrice': 18750, 'expiryDate': '29-Feb-2...</td>\n",
       "    </tr>\n",
       "    <tr>\n",
       "      <th>3</th>\n",
       "      <td>18800</td>\n",
       "      <td>29-Feb-2024</td>\n",
       "      <td>{'strikePrice': 18800, 'expiryDate': '29-Feb-2...</td>\n",
       "      <td>{'strikePrice': 18800, 'expiryDate': '29-Feb-2...</td>\n",
       "    </tr>\n",
       "    <tr>\n",
       "      <th>4</th>\n",
       "      <td>18850</td>\n",
       "      <td>29-Feb-2024</td>\n",
       "      <td>{'strikePrice': 18850, 'expiryDate': '29-Feb-2...</td>\n",
       "      <td>{'strikePrice': 18850, 'expiryDate': '29-Feb-2...</td>\n",
       "    </tr>\n",
       "    <tr>\n",
       "      <th>...</th>\n",
       "      <td>...</td>\n",
       "      <td>...</td>\n",
       "      <td>...</td>\n",
       "      <td>...</td>\n",
       "    </tr>\n",
       "    <tr>\n",
       "      <th>102</th>\n",
       "      <td>23750</td>\n",
       "      <td>29-Feb-2024</td>\n",
       "      <td>{'strikePrice': 23750, 'expiryDate': '29-Feb-2...</td>\n",
       "      <td>{'strikePrice': 23750, 'expiryDate': '29-Feb-2...</td>\n",
       "    </tr>\n",
       "    <tr>\n",
       "      <th>103</th>\n",
       "      <td>23800</td>\n",
       "      <td>29-Feb-2024</td>\n",
       "      <td>{'strikePrice': 23800, 'expiryDate': '29-Feb-2...</td>\n",
       "      <td>{'strikePrice': 23800, 'expiryDate': '29-Feb-2...</td>\n",
       "    </tr>\n",
       "    <tr>\n",
       "      <th>104</th>\n",
       "      <td>23850</td>\n",
       "      <td>29-Feb-2024</td>\n",
       "      <td>{'strikePrice': 23850, 'expiryDate': '29-Feb-2...</td>\n",
       "      <td>{'strikePrice': 23850, 'expiryDate': '29-Feb-2...</td>\n",
       "    </tr>\n",
       "    <tr>\n",
       "      <th>105</th>\n",
       "      <td>23900</td>\n",
       "      <td>29-Feb-2024</td>\n",
       "      <td>{'strikePrice': 23900, 'expiryDate': '29-Feb-2...</td>\n",
       "      <td>{'strikePrice': 23900, 'expiryDate': '29-Feb-2...</td>\n",
       "    </tr>\n",
       "    <tr>\n",
       "      <th>106</th>\n",
       "      <td>23950</td>\n",
       "      <td>29-Feb-2024</td>\n",
       "      <td>{'strikePrice': 23950, 'expiryDate': '29-Feb-2...</td>\n",
       "      <td>{'strikePrice': 23950, 'expiryDate': '29-Feb-2...</td>\n",
       "    </tr>\n",
       "  </tbody>\n",
       "</table>\n",
       "<p>107 rows × 4 columns</p>\n",
       "</div>"
      ],
      "text/plain": [
       "     strikePrice   expiryDate  \\\n",
       "0          18650  29-Feb-2024   \n",
       "1          18700  29-Feb-2024   \n",
       "2          18750  29-Feb-2024   \n",
       "3          18800  29-Feb-2024   \n",
       "4          18850  29-Feb-2024   \n",
       "..           ...          ...   \n",
       "102        23750  29-Feb-2024   \n",
       "103        23800  29-Feb-2024   \n",
       "104        23850  29-Feb-2024   \n",
       "105        23900  29-Feb-2024   \n",
       "106        23950  29-Feb-2024   \n",
       "\n",
       "                                                    CE  \\\n",
       "0    {'strikePrice': 18650, 'expiryDate': '29-Feb-2...   \n",
       "1    {'strikePrice': 18700, 'expiryDate': '29-Feb-2...   \n",
       "2    {'strikePrice': 18750, 'expiryDate': '29-Feb-2...   \n",
       "3    {'strikePrice': 18800, 'expiryDate': '29-Feb-2...   \n",
       "4    {'strikePrice': 18850, 'expiryDate': '29-Feb-2...   \n",
       "..                                                 ...   \n",
       "102  {'strikePrice': 23750, 'expiryDate': '29-Feb-2...   \n",
       "103  {'strikePrice': 23800, 'expiryDate': '29-Feb-2...   \n",
       "104  {'strikePrice': 23850, 'expiryDate': '29-Feb-2...   \n",
       "105  {'strikePrice': 23900, 'expiryDate': '29-Feb-2...   \n",
       "106  {'strikePrice': 23950, 'expiryDate': '29-Feb-2...   \n",
       "\n",
       "                                                    PE  \n",
       "0    {'strikePrice': 18650, 'expiryDate': '29-Feb-2...  \n",
       "1    {'strikePrice': 18700, 'expiryDate': '29-Feb-2...  \n",
       "2    {'strikePrice': 18750, 'expiryDate': '29-Feb-2...  \n",
       "3    {'strikePrice': 18800, 'expiryDate': '29-Feb-2...  \n",
       "4    {'strikePrice': 18850, 'expiryDate': '29-Feb-2...  \n",
       "..                                                 ...  \n",
       "102  {'strikePrice': 23750, 'expiryDate': '29-Feb-2...  \n",
       "103  {'strikePrice': 23800, 'expiryDate': '29-Feb-2...  \n",
       "104  {'strikePrice': 23850, 'expiryDate': '29-Feb-2...  \n",
       "105  {'strikePrice': 23900, 'expiryDate': '29-Feb-2...  \n",
       "106  {'strikePrice': 23950, 'expiryDate': '29-Feb-2...  \n",
       "\n",
       "[107 rows x 4 columns]"
      ]
     },
     "execution_count": 28,
     "metadata": {},
     "output_type": "execute_result"
    }
   ],
   "source": [
    "df=pd.DataFrame(data['filtered']['data'])\n",
    "df"
   ]
  },
  {
   "cell_type": "code",
   "execution_count": 29,
   "id": "cea18abb",
   "metadata": {},
   "outputs": [
    {
     "name": "stdout",
     "output_type": "stream",
     "text": [
      "     strikePrice   expiryDate  \\\n",
      "0          18650  29-Feb-2024   \n",
      "1          18700  29-Feb-2024   \n",
      "2          18750  29-Feb-2024   \n",
      "3          18800  29-Feb-2024   \n",
      "4          18850  29-Feb-2024   \n",
      "..           ...          ...   \n",
      "102        23750  29-Feb-2024   \n",
      "103        23800  29-Feb-2024   \n",
      "104        23850  29-Feb-2024   \n",
      "105        23900  29-Feb-2024   \n",
      "106        23950  29-Feb-2024   \n",
      "\n",
      "                                                    CE  \\\n",
      "0    {'strikePrice': 18650, 'expiryDate': '29-Feb-2...   \n",
      "1    {'strikePrice': 18700, 'expiryDate': '29-Feb-2...   \n",
      "2    {'strikePrice': 18750, 'expiryDate': '29-Feb-2...   \n",
      "3    {'strikePrice': 18800, 'expiryDate': '29-Feb-2...   \n",
      "4    {'strikePrice': 18850, 'expiryDate': '29-Feb-2...   \n",
      "..                                                 ...   \n",
      "102  {'strikePrice': 23750, 'expiryDate': '29-Feb-2...   \n",
      "103  {'strikePrice': 23800, 'expiryDate': '29-Feb-2...   \n",
      "104  {'strikePrice': 23850, 'expiryDate': '29-Feb-2...   \n",
      "105  {'strikePrice': 23900, 'expiryDate': '29-Feb-2...   \n",
      "106  {'strikePrice': 23950, 'expiryDate': '29-Feb-2...   \n",
      "\n",
      "                                                    PE  \n",
      "0    {'strikePrice': 18650, 'expiryDate': '29-Feb-2...  \n",
      "1    {'strikePrice': 18700, 'expiryDate': '29-Feb-2...  \n",
      "2    {'strikePrice': 18750, 'expiryDate': '29-Feb-2...  \n",
      "3    {'strikePrice': 18800, 'expiryDate': '29-Feb-2...  \n",
      "4    {'strikePrice': 18850, 'expiryDate': '29-Feb-2...  \n",
      "..                                                 ...  \n",
      "102  {'strikePrice': 23750, 'expiryDate': '29-Feb-2...  \n",
      "103  {'strikePrice': 23800, 'expiryDate': '29-Feb-2...  \n",
      "104  {'strikePrice': 23850, 'expiryDate': '29-Feb-2...  \n",
      "105  {'strikePrice': 23900, 'expiryDate': '29-Feb-2...  \n",
      "106  {'strikePrice': 23950, 'expiryDate': '29-Feb-2...  \n",
      "\n",
      "[107 rows x 4 columns]\n"
     ]
    }
   ],
   "source": [
    "print(df)"
   ]
  },
  {
   "cell_type": "code",
   "execution_count": 12,
   "id": "1d16a43c",
   "metadata": {
    "scrolled": true
   },
   "outputs": [
    {
     "data": {
      "text/html": [
       "<div>\n",
       "<style scoped>\n",
       "    .dataframe tbody tr th:only-of-type {\n",
       "        vertical-align: middle;\n",
       "    }\n",
       "\n",
       "    .dataframe tbody tr th {\n",
       "        vertical-align: top;\n",
       "    }\n",
       "\n",
       "    .dataframe thead th {\n",
       "        text-align: right;\n",
       "    }\n",
       "</style>\n",
       "<table border=\"1\" class=\"dataframe\">\n",
       "  <thead>\n",
       "    <tr style=\"text-align: right;\">\n",
       "      <th></th>\n",
       "      <th>strikePrice</th>\n",
       "    </tr>\n",
       "  </thead>\n",
       "  <tbody>\n",
       "    <tr>\n",
       "      <th>count</th>\n",
       "      <td>107.000000</td>\n",
       "    </tr>\n",
       "    <tr>\n",
       "      <th>mean</th>\n",
       "      <td>21300.000000</td>\n",
       "    </tr>\n",
       "    <tr>\n",
       "      <th>std</th>\n",
       "      <td>1551.612065</td>\n",
       "    </tr>\n",
       "    <tr>\n",
       "      <th>min</th>\n",
       "      <td>18650.000000</td>\n",
       "    </tr>\n",
       "    <tr>\n",
       "      <th>25%</th>\n",
       "      <td>19975.000000</td>\n",
       "    </tr>\n",
       "    <tr>\n",
       "      <th>50%</th>\n",
       "      <td>21300.000000</td>\n",
       "    </tr>\n",
       "    <tr>\n",
       "      <th>75%</th>\n",
       "      <td>22625.000000</td>\n",
       "    </tr>\n",
       "    <tr>\n",
       "      <th>max</th>\n",
       "      <td>23950.000000</td>\n",
       "    </tr>\n",
       "  </tbody>\n",
       "</table>\n",
       "</div>"
      ],
      "text/plain": [
       "        strikePrice\n",
       "count    107.000000\n",
       "mean   21300.000000\n",
       "std     1551.612065\n",
       "min    18650.000000\n",
       "25%    19975.000000\n",
       "50%    21300.000000\n",
       "75%    22625.000000\n",
       "max    23950.000000"
      ]
     },
     "execution_count": 12,
     "metadata": {},
     "output_type": "execute_result"
    }
   ],
   "source": [
    "df.describe()"
   ]
  },
  {
   "cell_type": "code",
   "execution_count": 13,
   "id": "574dfa2f",
   "metadata": {},
   "outputs": [
    {
     "data": {
      "text/html": [
       "<div>\n",
       "<style scoped>\n",
       "    .dataframe tbody tr th:only-of-type {\n",
       "        vertical-align: middle;\n",
       "    }\n",
       "\n",
       "    .dataframe tbody tr th {\n",
       "        vertical-align: top;\n",
       "    }\n",
       "\n",
       "    .dataframe thead th {\n",
       "        text-align: right;\n",
       "    }\n",
       "</style>\n",
       "<table border=\"1\" class=\"dataframe\">\n",
       "  <thead>\n",
       "    <tr style=\"text-align: right;\">\n",
       "      <th></th>\n",
       "      <th>strikePrice</th>\n",
       "      <th>expiryDate</th>\n",
       "      <th>CE</th>\n",
       "      <th>PE</th>\n",
       "    </tr>\n",
       "  </thead>\n",
       "  <tbody>\n",
       "    <tr>\n",
       "      <th>0</th>\n",
       "      <td>18650</td>\n",
       "      <td>29-Feb-2024</td>\n",
       "      <td>{'strikePrice': 18650, 'expiryDate': '29-Feb-2...</td>\n",
       "      <td>{'strikePrice': 18650, 'expiryDate': '29-Feb-2...</td>\n",
       "    </tr>\n",
       "    <tr>\n",
       "      <th>1</th>\n",
       "      <td>18700</td>\n",
       "      <td>29-Feb-2024</td>\n",
       "      <td>{'strikePrice': 18700, 'expiryDate': '29-Feb-2...</td>\n",
       "      <td>{'strikePrice': 18700, 'expiryDate': '29-Feb-2...</td>\n",
       "    </tr>\n",
       "    <tr>\n",
       "      <th>2</th>\n",
       "      <td>18750</td>\n",
       "      <td>29-Feb-2024</td>\n",
       "      <td>{'strikePrice': 18750, 'expiryDate': '29-Feb-2...</td>\n",
       "      <td>{'strikePrice': 18750, 'expiryDate': '29-Feb-2...</td>\n",
       "    </tr>\n",
       "    <tr>\n",
       "      <th>3</th>\n",
       "      <td>18800</td>\n",
       "      <td>29-Feb-2024</td>\n",
       "      <td>{'strikePrice': 18800, 'expiryDate': '29-Feb-2...</td>\n",
       "      <td>{'strikePrice': 18800, 'expiryDate': '29-Feb-2...</td>\n",
       "    </tr>\n",
       "    <tr>\n",
       "      <th>4</th>\n",
       "      <td>18850</td>\n",
       "      <td>29-Feb-2024</td>\n",
       "      <td>{'strikePrice': 18850, 'expiryDate': '29-Feb-2...</td>\n",
       "      <td>{'strikePrice': 18850, 'expiryDate': '29-Feb-2...</td>\n",
       "    </tr>\n",
       "    <tr>\n",
       "      <th>...</th>\n",
       "      <td>...</td>\n",
       "      <td>...</td>\n",
       "      <td>...</td>\n",
       "      <td>...</td>\n",
       "    </tr>\n",
       "    <tr>\n",
       "      <th>102</th>\n",
       "      <td>23750</td>\n",
       "      <td>29-Feb-2024</td>\n",
       "      <td>{'strikePrice': 23750, 'expiryDate': '29-Feb-2...</td>\n",
       "      <td>{'strikePrice': 23750, 'expiryDate': '29-Feb-2...</td>\n",
       "    </tr>\n",
       "    <tr>\n",
       "      <th>103</th>\n",
       "      <td>23800</td>\n",
       "      <td>29-Feb-2024</td>\n",
       "      <td>{'strikePrice': 23800, 'expiryDate': '29-Feb-2...</td>\n",
       "      <td>{'strikePrice': 23800, 'expiryDate': '29-Feb-2...</td>\n",
       "    </tr>\n",
       "    <tr>\n",
       "      <th>104</th>\n",
       "      <td>23850</td>\n",
       "      <td>29-Feb-2024</td>\n",
       "      <td>{'strikePrice': 23850, 'expiryDate': '29-Feb-2...</td>\n",
       "      <td>{'strikePrice': 23850, 'expiryDate': '29-Feb-2...</td>\n",
       "    </tr>\n",
       "    <tr>\n",
       "      <th>105</th>\n",
       "      <td>23900</td>\n",
       "      <td>29-Feb-2024</td>\n",
       "      <td>{'strikePrice': 23900, 'expiryDate': '29-Feb-2...</td>\n",
       "      <td>{'strikePrice': 23900, 'expiryDate': '29-Feb-2...</td>\n",
       "    </tr>\n",
       "    <tr>\n",
       "      <th>106</th>\n",
       "      <td>23950</td>\n",
       "      <td>29-Feb-2024</td>\n",
       "      <td>{'strikePrice': 23950, 'expiryDate': '29-Feb-2...</td>\n",
       "      <td>{'strikePrice': 23950, 'expiryDate': '29-Feb-2...</td>\n",
       "    </tr>\n",
       "  </tbody>\n",
       "</table>\n",
       "<p>107 rows × 4 columns</p>\n",
       "</div>"
      ],
      "text/plain": [
       "     strikePrice   expiryDate  \\\n",
       "0          18650  29-Feb-2024   \n",
       "1          18700  29-Feb-2024   \n",
       "2          18750  29-Feb-2024   \n",
       "3          18800  29-Feb-2024   \n",
       "4          18850  29-Feb-2024   \n",
       "..           ...          ...   \n",
       "102        23750  29-Feb-2024   \n",
       "103        23800  29-Feb-2024   \n",
       "104        23850  29-Feb-2024   \n",
       "105        23900  29-Feb-2024   \n",
       "106        23950  29-Feb-2024   \n",
       "\n",
       "                                                    CE  \\\n",
       "0    {'strikePrice': 18650, 'expiryDate': '29-Feb-2...   \n",
       "1    {'strikePrice': 18700, 'expiryDate': '29-Feb-2...   \n",
       "2    {'strikePrice': 18750, 'expiryDate': '29-Feb-2...   \n",
       "3    {'strikePrice': 18800, 'expiryDate': '29-Feb-2...   \n",
       "4    {'strikePrice': 18850, 'expiryDate': '29-Feb-2...   \n",
       "..                                                 ...   \n",
       "102  {'strikePrice': 23750, 'expiryDate': '29-Feb-2...   \n",
       "103  {'strikePrice': 23800, 'expiryDate': '29-Feb-2...   \n",
       "104  {'strikePrice': 23850, 'expiryDate': '29-Feb-2...   \n",
       "105  {'strikePrice': 23900, 'expiryDate': '29-Feb-2...   \n",
       "106  {'strikePrice': 23950, 'expiryDate': '29-Feb-2...   \n",
       "\n",
       "                                                    PE  \n",
       "0    {'strikePrice': 18650, 'expiryDate': '29-Feb-2...  \n",
       "1    {'strikePrice': 18700, 'expiryDate': '29-Feb-2...  \n",
       "2    {'strikePrice': 18750, 'expiryDate': '29-Feb-2...  \n",
       "3    {'strikePrice': 18800, 'expiryDate': '29-Feb-2...  \n",
       "4    {'strikePrice': 18850, 'expiryDate': '29-Feb-2...  \n",
       "..                                                 ...  \n",
       "102  {'strikePrice': 23750, 'expiryDate': '29-Feb-2...  \n",
       "103  {'strikePrice': 23800, 'expiryDate': '29-Feb-2...  \n",
       "104  {'strikePrice': 23850, 'expiryDate': '29-Feb-2...  \n",
       "105  {'strikePrice': 23900, 'expiryDate': '29-Feb-2...  \n",
       "106  {'strikePrice': 23950, 'expiryDate': '29-Feb-2...  \n",
       "\n",
       "[107 rows x 4 columns]"
      ]
     },
     "execution_count": 13,
     "metadata": {},
     "output_type": "execute_result"
    }
   ],
   "source": [
    "df"
   ]
  },
  {
   "cell_type": "code",
   "execution_count": 14,
   "id": "210852f9",
   "metadata": {},
   "outputs": [
    {
     "data": {
      "text/plain": [
       "Index(['strikePrice', 'expiryDate', 'CE', 'PE'], dtype='object')"
      ]
     },
     "execution_count": 14,
     "metadata": {},
     "output_type": "execute_result"
    }
   ],
   "source": [
    "df.columns"
   ]
  },
  {
   "cell_type": "code",
   "execution_count": 15,
   "id": "00dcfec1",
   "metadata": {},
   "outputs": [
    {
     "data": {
      "text/plain": [
       "0      18650\n",
       "1      18700\n",
       "2      18750\n",
       "3      18800\n",
       "4      18850\n",
       "       ...  \n",
       "102    23750\n",
       "103    23800\n",
       "104    23850\n",
       "105    23900\n",
       "106    23950\n",
       "Name: strikePrice, Length: 107, dtype: int64"
      ]
     },
     "execution_count": 15,
     "metadata": {},
     "output_type": "execute_result"
    }
   ],
   "source": [
    "df['strikePrice']"
   ]
  },
  {
   "cell_type": "code",
   "execution_count": 16,
   "id": "b747b105",
   "metadata": {},
   "outputs": [
    {
     "data": {
      "text/plain": [
       "0      {'strikePrice': 18650, 'expiryDate': '29-Feb-2...\n",
       "1      {'strikePrice': 18700, 'expiryDate': '29-Feb-2...\n",
       "2      {'strikePrice': 18750, 'expiryDate': '29-Feb-2...\n",
       "3      {'strikePrice': 18800, 'expiryDate': '29-Feb-2...\n",
       "4      {'strikePrice': 18850, 'expiryDate': '29-Feb-2...\n",
       "                             ...                        \n",
       "102    {'strikePrice': 23750, 'expiryDate': '29-Feb-2...\n",
       "103    {'strikePrice': 23800, 'expiryDate': '29-Feb-2...\n",
       "104    {'strikePrice': 23850, 'expiryDate': '29-Feb-2...\n",
       "105    {'strikePrice': 23900, 'expiryDate': '29-Feb-2...\n",
       "106    {'strikePrice': 23950, 'expiryDate': '29-Feb-2...\n",
       "Name: CE, Length: 107, dtype: object"
      ]
     },
     "execution_count": 16,
     "metadata": {},
     "output_type": "execute_result"
    }
   ],
   "source": [
    "df['CE']"
   ]
  },
  {
   "cell_type": "code",
   "execution_count": 17,
   "id": "88b8538c",
   "metadata": {},
   "outputs": [
    {
     "data": {
      "text/plain": [
       "0      29-Feb-2024\n",
       "1      29-Feb-2024\n",
       "2      29-Feb-2024\n",
       "3      29-Feb-2024\n",
       "4      29-Feb-2024\n",
       "          ...     \n",
       "102    29-Feb-2024\n",
       "103    29-Feb-2024\n",
       "104    29-Feb-2024\n",
       "105    29-Feb-2024\n",
       "106    29-Feb-2024\n",
       "Name: expiryDate, Length: 107, dtype: object"
      ]
     },
     "execution_count": 17,
     "metadata": {},
     "output_type": "execute_result"
    }
   ],
   "source": [
    "df['expiryDate']"
   ]
  },
  {
   "cell_type": "code",
   "execution_count": 18,
   "id": "2d39bb9b",
   "metadata": {},
   "outputs": [
    {
     "data": {
      "text/html": [
       "<div>\n",
       "<style scoped>\n",
       "    .dataframe tbody tr th:only-of-type {\n",
       "        vertical-align: middle;\n",
       "    }\n",
       "\n",
       "    .dataframe tbody tr th {\n",
       "        vertical-align: top;\n",
       "    }\n",
       "\n",
       "    .dataframe thead th {\n",
       "        text-align: right;\n",
       "    }\n",
       "</style>\n",
       "<table border=\"1\" class=\"dataframe\">\n",
       "  <thead>\n",
       "    <tr style=\"text-align: right;\">\n",
       "      <th></th>\n",
       "      <th>strikePrice</th>\n",
       "      <th>expiryDate</th>\n",
       "      <th>CE</th>\n",
       "      <th>PE</th>\n",
       "    </tr>\n",
       "  </thead>\n",
       "  <tbody>\n",
       "    <tr>\n",
       "      <th>0</th>\n",
       "      <td>18650</td>\n",
       "      <td>29-Feb-2024</td>\n",
       "      <td>{'strikePrice': 18650, 'expiryDate': '29-Feb-2...</td>\n",
       "      <td>{'strikePrice': 18650, 'expiryDate': '29-Feb-2...</td>\n",
       "    </tr>\n",
       "    <tr>\n",
       "      <th>1</th>\n",
       "      <td>18700</td>\n",
       "      <td>29-Feb-2024</td>\n",
       "      <td>{'strikePrice': 18700, 'expiryDate': '29-Feb-2...</td>\n",
       "      <td>{'strikePrice': 18700, 'expiryDate': '29-Feb-2...</td>\n",
       "    </tr>\n",
       "    <tr>\n",
       "      <th>2</th>\n",
       "      <td>18750</td>\n",
       "      <td>29-Feb-2024</td>\n",
       "      <td>{'strikePrice': 18750, 'expiryDate': '29-Feb-2...</td>\n",
       "      <td>{'strikePrice': 18750, 'expiryDate': '29-Feb-2...</td>\n",
       "    </tr>\n",
       "    <tr>\n",
       "      <th>3</th>\n",
       "      <td>18800</td>\n",
       "      <td>29-Feb-2024</td>\n",
       "      <td>{'strikePrice': 18800, 'expiryDate': '29-Feb-2...</td>\n",
       "      <td>{'strikePrice': 18800, 'expiryDate': '29-Feb-2...</td>\n",
       "    </tr>\n",
       "    <tr>\n",
       "      <th>4</th>\n",
       "      <td>18850</td>\n",
       "      <td>29-Feb-2024</td>\n",
       "      <td>{'strikePrice': 18850, 'expiryDate': '29-Feb-2...</td>\n",
       "      <td>{'strikePrice': 18850, 'expiryDate': '29-Feb-2...</td>\n",
       "    </tr>\n",
       "    <tr>\n",
       "      <th>...</th>\n",
       "      <td>...</td>\n",
       "      <td>...</td>\n",
       "      <td>...</td>\n",
       "      <td>...</td>\n",
       "    </tr>\n",
       "    <tr>\n",
       "      <th>102</th>\n",
       "      <td>23750</td>\n",
       "      <td>29-Feb-2024</td>\n",
       "      <td>{'strikePrice': 23750, 'expiryDate': '29-Feb-2...</td>\n",
       "      <td>{'strikePrice': 23750, 'expiryDate': '29-Feb-2...</td>\n",
       "    </tr>\n",
       "    <tr>\n",
       "      <th>103</th>\n",
       "      <td>23800</td>\n",
       "      <td>29-Feb-2024</td>\n",
       "      <td>{'strikePrice': 23800, 'expiryDate': '29-Feb-2...</td>\n",
       "      <td>{'strikePrice': 23800, 'expiryDate': '29-Feb-2...</td>\n",
       "    </tr>\n",
       "    <tr>\n",
       "      <th>104</th>\n",
       "      <td>23850</td>\n",
       "      <td>29-Feb-2024</td>\n",
       "      <td>{'strikePrice': 23850, 'expiryDate': '29-Feb-2...</td>\n",
       "      <td>{'strikePrice': 23850, 'expiryDate': '29-Feb-2...</td>\n",
       "    </tr>\n",
       "    <tr>\n",
       "      <th>105</th>\n",
       "      <td>23900</td>\n",
       "      <td>29-Feb-2024</td>\n",
       "      <td>{'strikePrice': 23900, 'expiryDate': '29-Feb-2...</td>\n",
       "      <td>{'strikePrice': 23900, 'expiryDate': '29-Feb-2...</td>\n",
       "    </tr>\n",
       "    <tr>\n",
       "      <th>106</th>\n",
       "      <td>23950</td>\n",
       "      <td>29-Feb-2024</td>\n",
       "      <td>{'strikePrice': 23950, 'expiryDate': '29-Feb-2...</td>\n",
       "      <td>{'strikePrice': 23950, 'expiryDate': '29-Feb-2...</td>\n",
       "    </tr>\n",
       "  </tbody>\n",
       "</table>\n",
       "<p>107 rows × 4 columns</p>\n",
       "</div>"
      ],
      "text/plain": [
       "     strikePrice   expiryDate  \\\n",
       "0          18650  29-Feb-2024   \n",
       "1          18700  29-Feb-2024   \n",
       "2          18750  29-Feb-2024   \n",
       "3          18800  29-Feb-2024   \n",
       "4          18850  29-Feb-2024   \n",
       "..           ...          ...   \n",
       "102        23750  29-Feb-2024   \n",
       "103        23800  29-Feb-2024   \n",
       "104        23850  29-Feb-2024   \n",
       "105        23900  29-Feb-2024   \n",
       "106        23950  29-Feb-2024   \n",
       "\n",
       "                                                    CE  \\\n",
       "0    {'strikePrice': 18650, 'expiryDate': '29-Feb-2...   \n",
       "1    {'strikePrice': 18700, 'expiryDate': '29-Feb-2...   \n",
       "2    {'strikePrice': 18750, 'expiryDate': '29-Feb-2...   \n",
       "3    {'strikePrice': 18800, 'expiryDate': '29-Feb-2...   \n",
       "4    {'strikePrice': 18850, 'expiryDate': '29-Feb-2...   \n",
       "..                                                 ...   \n",
       "102  {'strikePrice': 23750, 'expiryDate': '29-Feb-2...   \n",
       "103  {'strikePrice': 23800, 'expiryDate': '29-Feb-2...   \n",
       "104  {'strikePrice': 23850, 'expiryDate': '29-Feb-2...   \n",
       "105  {'strikePrice': 23900, 'expiryDate': '29-Feb-2...   \n",
       "106  {'strikePrice': 23950, 'expiryDate': '29-Feb-2...   \n",
       "\n",
       "                                                    PE  \n",
       "0    {'strikePrice': 18650, 'expiryDate': '29-Feb-2...  \n",
       "1    {'strikePrice': 18700, 'expiryDate': '29-Feb-2...  \n",
       "2    {'strikePrice': 18750, 'expiryDate': '29-Feb-2...  \n",
       "3    {'strikePrice': 18800, 'expiryDate': '29-Feb-2...  \n",
       "4    {'strikePrice': 18850, 'expiryDate': '29-Feb-2...  \n",
       "..                                                 ...  \n",
       "102  {'strikePrice': 23750, 'expiryDate': '29-Feb-2...  \n",
       "103  {'strikePrice': 23800, 'expiryDate': '29-Feb-2...  \n",
       "104  {'strikePrice': 23850, 'expiryDate': '29-Feb-2...  \n",
       "105  {'strikePrice': 23900, 'expiryDate': '29-Feb-2...  \n",
       "106  {'strikePrice': 23950, 'expiryDate': '29-Feb-2...  \n",
       "\n",
       "[107 rows x 4 columns]"
      ]
     },
     "execution_count": 18,
     "metadata": {},
     "output_type": "execute_result"
    }
   ],
   "source": [
    "df"
   ]
  },
  {
   "cell_type": "code",
   "execution_count": 19,
   "id": "7927de4b",
   "metadata": {},
   "outputs": [
    {
     "name": "stdout",
     "output_type": "stream",
     "text": [
      "     strikePrice   expiryDate  \\\n",
      "0          18650  29-Feb-2024   \n",
      "1          18700  29-Feb-2024   \n",
      "2          18750  29-Feb-2024   \n",
      "3          18800  29-Feb-2024   \n",
      "4          18850  29-Feb-2024   \n",
      "..           ...          ...   \n",
      "102        23750  29-Feb-2024   \n",
      "103        23800  29-Feb-2024   \n",
      "104        23850  29-Feb-2024   \n",
      "105        23900  29-Feb-2024   \n",
      "106        23950  29-Feb-2024   \n",
      "\n",
      "                                                    CE  \\\n",
      "0    {'strikePrice': 18650, 'expiryDate': '29-Feb-2...   \n",
      "1    {'strikePrice': 18700, 'expiryDate': '29-Feb-2...   \n",
      "2    {'strikePrice': 18750, 'expiryDate': '29-Feb-2...   \n",
      "3    {'strikePrice': 18800, 'expiryDate': '29-Feb-2...   \n",
      "4    {'strikePrice': 18850, 'expiryDate': '29-Feb-2...   \n",
      "..                                                 ...   \n",
      "102  {'strikePrice': 23750, 'expiryDate': '29-Feb-2...   \n",
      "103  {'strikePrice': 23800, 'expiryDate': '29-Feb-2...   \n",
      "104  {'strikePrice': 23850, 'expiryDate': '29-Feb-2...   \n",
      "105  {'strikePrice': 23900, 'expiryDate': '29-Feb-2...   \n",
      "106  {'strikePrice': 23950, 'expiryDate': '29-Feb-2...   \n",
      "\n",
      "                                                    PE  \n",
      "0    {'strikePrice': 18650, 'expiryDate': '29-Feb-2...  \n",
      "1    {'strikePrice': 18700, 'expiryDate': '29-Feb-2...  \n",
      "2    {'strikePrice': 18750, 'expiryDate': '29-Feb-2...  \n",
      "3    {'strikePrice': 18800, 'expiryDate': '29-Feb-2...  \n",
      "4    {'strikePrice': 18850, 'expiryDate': '29-Feb-2...  \n",
      "..                                                 ...  \n",
      "102  {'strikePrice': 23750, 'expiryDate': '29-Feb-2...  \n",
      "103  {'strikePrice': 23800, 'expiryDate': '29-Feb-2...  \n",
      "104  {'strikePrice': 23850, 'expiryDate': '29-Feb-2...  \n",
      "105  {'strikePrice': 23900, 'expiryDate': '29-Feb-2...  \n",
      "106  {'strikePrice': 23950, 'expiryDate': '29-Feb-2...  \n",
      "\n",
      "[107 rows x 4 columns]\n"
     ]
    }
   ],
   "source": [
    "df['CE']\n",
    "print(df)"
   ]
  },
  {
   "cell_type": "code",
   "execution_count": 20,
   "id": "c7fc51c8",
   "metadata": {},
   "outputs": [
    {
     "data": {
      "text/plain": [
       "<Axes: >"
      ]
     },
     "execution_count": 20,
     "metadata": {},
     "output_type": "execute_result"
    },
    {
     "data": {
      "image/png": "[encoded data removed]",
      "text/plain": [
       "<Figure size 640x480 with 1 Axes>"
      ]
     },
     "metadata": {},
     "output_type": "display_data"
    }
   ],
   "source": [
    "df.plot.box()"
   ]
  },
  {
   "cell_type": "code",
   "execution_count": 21,
   "id": "c958df03",
   "metadata": {},
   "outputs": [
    {
     "data": {
      "text/plain": [
       "<Axes: >"
      ]
     },
     "execution_count": 21,
     "metadata": {},
     "output_type": "execute_result"
    },
    {
     "data": {
      "image/png": "[encoded data removed]",
      "text/plain": [
       "<Figure size 640x480 with 1 Axes>"
      ]
     },
     "metadata": {},
     "output_type": "display_data"
    }
   ],
   "source": [
    "df.plot.bar()"
   ]
  },
  {
   "cell_type": "code",
   "execution_count": 22,
   "id": "44946287",
   "metadata": {},
   "outputs": [
    {
     "data": {
      "text/html": [
       "<div>\n",
       "<style scoped>\n",
       "    .dataframe tbody tr th:only-of-type {\n",
       "        vertical-align: middle;\n",
       "    }\n",
       "\n",
       "    .dataframe tbody tr th {\n",
       "        vertical-align: top;\n",
       "    }\n",
       "\n",
       "    .dataframe thead th {\n",
       "        text-align: right;\n",
       "    }\n",
       "</style>\n",
       "<table border=\"1\" class=\"dataframe\">\n",
       "  <thead>\n",
       "    <tr style=\"text-align: right;\">\n",
       "      <th></th>\n",
       "      <th>strikePrice</th>\n",
       "      <th>expiryDate</th>\n",
       "      <th>CE</th>\n",
       "      <th>PE</th>\n",
       "    </tr>\n",
       "  </thead>\n",
       "  <tbody>\n",
       "    <tr>\n",
       "      <th>0</th>\n",
       "      <td>18650</td>\n",
       "      <td>29-Feb-2024</td>\n",
       "      <td>{'strikePrice': 18650, 'expiryDate': '29-Feb-2...</td>\n",
       "      <td>{'strikePrice': 18650, 'expiryDate': '29-Feb-2...</td>\n",
       "    </tr>\n",
       "    <tr>\n",
       "      <th>1</th>\n",
       "      <td>18700</td>\n",
       "      <td>29-Feb-2024</td>\n",
       "      <td>{'strikePrice': 18700, 'expiryDate': '29-Feb-2...</td>\n",
       "      <td>{'strikePrice': 18700, 'expiryDate': '29-Feb-2...</td>\n",
       "    </tr>\n",
       "    <tr>\n",
       "      <th>2</th>\n",
       "      <td>18750</td>\n",
       "      <td>29-Feb-2024</td>\n",
       "      <td>{'strikePrice': 18750, 'expiryDate': '29-Feb-2...</td>\n",
       "      <td>{'strikePrice': 18750, 'expiryDate': '29-Feb-2...</td>\n",
       "    </tr>\n",
       "    <tr>\n",
       "      <th>3</th>\n",
       "      <td>18800</td>\n",
       "      <td>29-Feb-2024</td>\n",
       "      <td>{'strikePrice': 18800, 'expiryDate': '29-Feb-2...</td>\n",
       "      <td>{'strikePrice': 18800, 'expiryDate': '29-Feb-2...</td>\n",
       "    </tr>\n",
       "    <tr>\n",
       "      <th>4</th>\n",
       "      <td>18850</td>\n",
       "      <td>29-Feb-2024</td>\n",
       "      <td>{'strikePrice': 18850, 'expiryDate': '29-Feb-2...</td>\n",
       "      <td>{'strikePrice': 18850, 'expiryDate': '29-Feb-2...</td>\n",
       "    </tr>\n",
       "  </tbody>\n",
       "</table>\n",
       "</div>"
      ],
      "text/plain": [
       "   strikePrice   expiryDate  \\\n",
       "0        18650  29-Feb-2024   \n",
       "1        18700  29-Feb-2024   \n",
       "2        18750  29-Feb-2024   \n",
       "3        18800  29-Feb-2024   \n",
       "4        18850  29-Feb-2024   \n",
       "\n",
       "                                                  CE  \\\n",
       "0  {'strikePrice': 18650, 'expiryDate': '29-Feb-2...   \n",
       "1  {'strikePrice': 18700, 'expiryDate': '29-Feb-2...   \n",
       "2  {'strikePrice': 18750, 'expiryDate': '29-Feb-2...   \n",
       "3  {'strikePrice': 18800, 'expiryDate': '29-Feb-2...   \n",
       "4  {'strikePrice': 18850, 'expiryDate': '29-Feb-2...   \n",
       "\n",
       "                                                  PE  \n",
       "0  {'strikePrice': 18650, 'expiryDate': '29-Feb-2...  \n",
       "1  {'strikePrice': 18700, 'expiryDate': '29-Feb-2...  \n",
       "2  {'strikePrice': 18750, 'expiryDate': '29-Feb-2...  \n",
       "3  {'strikePrice': 18800, 'expiryDate': '29-Feb-2...  \n",
       "4  {'strikePrice': 18850, 'expiryDate': '29-Feb-2...  "
      ]
     },
     "execution_count": 22,
     "metadata": {},
     "output_type": "execute_result"
    }
   ],
   "source": [
    "df.head()"
   ]
  },
  {
   "cell_type": "code",
   "execution_count": 23,
   "id": "45a2eaaa",
   "metadata": {},
   "outputs": [
    {
     "data": {
      "text/html": [
       "<div>\n",
       "<style scoped>\n",
       "    .dataframe tbody tr th:only-of-type {\n",
       "        vertical-align: middle;\n",
       "    }\n",
       "\n",
       "    .dataframe tbody tr th {\n",
       "        vertical-align: top;\n",
       "    }\n",
       "\n",
       "    .dataframe thead th {\n",
       "        text-align: right;\n",
       "    }\n",
       "</style>\n",
       "<table border=\"1\" class=\"dataframe\">\n",
       "  <thead>\n",
       "    <tr style=\"text-align: right;\">\n",
       "      <th></th>\n",
       "      <th>strikePrice</th>\n",
       "      <th>expiryDate</th>\n",
       "      <th>CE</th>\n",
       "      <th>PE</th>\n",
       "    </tr>\n",
       "  </thead>\n",
       "  <tbody>\n",
       "    <tr>\n",
       "      <th>0</th>\n",
       "      <td>18650</td>\n",
       "      <td>29-Feb-2024</td>\n",
       "      <td>{'strikePrice': 18650, 'expiryDate': '29-Feb-2...</td>\n",
       "      <td>{'strikePrice': 18650, 'expiryDate': '29-Feb-2...</td>\n",
       "    </tr>\n",
       "    <tr>\n",
       "      <th>1</th>\n",
       "      <td>18700</td>\n",
       "      <td>29-Feb-2024</td>\n",
       "      <td>{'strikePrice': 18700, 'expiryDate': '29-Feb-2...</td>\n",
       "      <td>{'strikePrice': 18700, 'expiryDate': '29-Feb-2...</td>\n",
       "    </tr>\n",
       "    <tr>\n",
       "      <th>2</th>\n",
       "      <td>18750</td>\n",
       "      <td>29-Feb-2024</td>\n",
       "      <td>{'strikePrice': 18750, 'expiryDate': '29-Feb-2...</td>\n",
       "      <td>{'strikePrice': 18750, 'expiryDate': '29-Feb-2...</td>\n",
       "    </tr>\n",
       "  </tbody>\n",
       "</table>\n",
       "</div>"
      ],
      "text/plain": [
       "   strikePrice   expiryDate  \\\n",
       "0        18650  29-Feb-2024   \n",
       "1        18700  29-Feb-2024   \n",
       "2        18750  29-Feb-2024   \n",
       "\n",
       "                                                  CE  \\\n",
       "0  {'strikePrice': 18650, 'expiryDate': '29-Feb-2...   \n",
       "1  {'strikePrice': 18700, 'expiryDate': '29-Feb-2...   \n",
       "2  {'strikePrice': 18750, 'expiryDate': '29-Feb-2...   \n",
       "\n",
       "                                                  PE  \n",
       "0  {'strikePrice': 18650, 'expiryDate': '29-Feb-2...  \n",
       "1  {'strikePrice': 18700, 'expiryDate': '29-Feb-2...  \n",
       "2  {'strikePrice': 18750, 'expiryDate': '29-Feb-2...  "
      ]
     },
     "execution_count": 23,
     "metadata": {},
     "output_type": "execute_result"
    }
   ],
   "source": [
    "df.head(3)"
   ]
  },
  {
   "cell_type": "code",
   "execution_count": 24,
   "id": "e772919b",
   "metadata": {},
   "outputs": [
    {
     "data": {
      "text/html": [
       "<div>\n",
       "<style scoped>\n",
       "    .dataframe tbody tr th:only-of-type {\n",
       "        vertical-align: middle;\n",
       "    }\n",
       "\n",
       "    .dataframe tbody tr th {\n",
       "        vertical-align: top;\n",
       "    }\n",
       "\n",
       "    .dataframe thead th {\n",
       "        text-align: right;\n",
       "    }\n",
       "</style>\n",
       "<table border=\"1\" class=\"dataframe\">\n",
       "  <thead>\n",
       "    <tr style=\"text-align: right;\">\n",
       "      <th></th>\n",
       "      <th>strikePrice</th>\n",
       "      <th>expiryDate</th>\n",
       "      <th>CE</th>\n",
       "      <th>PE</th>\n",
       "    </tr>\n",
       "  </thead>\n",
       "  <tbody>\n",
       "    <tr>\n",
       "      <th>57</th>\n",
       "      <td>21500</td>\n",
       "      <td>29-Feb-2024</td>\n",
       "      <td>{'strikePrice': 21500, 'expiryDate': '29-Feb-2...</td>\n",
       "      <td>{'strikePrice': 21500, 'expiryDate': '29-Feb-2...</td>\n",
       "    </tr>\n",
       "    <tr>\n",
       "      <th>41</th>\n",
       "      <td>20700</td>\n",
       "      <td>29-Feb-2024</td>\n",
       "      <td>{'strikePrice': 20700, 'expiryDate': '29-Feb-2...</td>\n",
       "      <td>{'strikePrice': 20700, 'expiryDate': '29-Feb-2...</td>\n",
       "    </tr>\n",
       "    <tr>\n",
       "      <th>21</th>\n",
       "      <td>19700</td>\n",
       "      <td>29-Feb-2024</td>\n",
       "      <td>{'strikePrice': 19700, 'expiryDate': '29-Feb-2...</td>\n",
       "      <td>{'strikePrice': 19700, 'expiryDate': '29-Feb-2...</td>\n",
       "    </tr>\n",
       "    <tr>\n",
       "      <th>56</th>\n",
       "      <td>21450</td>\n",
       "      <td>29-Feb-2024</td>\n",
       "      <td>{'strikePrice': 21450, 'expiryDate': '29-Feb-2...</td>\n",
       "      <td>{'strikePrice': 21450, 'expiryDate': '29-Feb-2...</td>\n",
       "    </tr>\n",
       "    <tr>\n",
       "      <th>77</th>\n",
       "      <td>22500</td>\n",
       "      <td>29-Feb-2024</td>\n",
       "      <td>{'strikePrice': 22500, 'expiryDate': '29-Feb-2...</td>\n",
       "      <td>{'strikePrice': 22500, 'expiryDate': '29-Feb-2...</td>\n",
       "    </tr>\n",
       "  </tbody>\n",
       "</table>\n",
       "</div>"
      ],
      "text/plain": [
       "    strikePrice   expiryDate  \\\n",
       "57        21500  29-Feb-2024   \n",
       "41        20700  29-Feb-2024   \n",
       "21        19700  29-Feb-2024   \n",
       "56        21450  29-Feb-2024   \n",
       "77        22500  29-Feb-2024   \n",
       "\n",
       "                                                   CE  \\\n",
       "57  {'strikePrice': 21500, 'expiryDate': '29-Feb-2...   \n",
       "41  {'strikePrice': 20700, 'expiryDate': '29-Feb-2...   \n",
       "21  {'strikePrice': 19700, 'expiryDate': '29-Feb-2...   \n",
       "56  {'strikePrice': 21450, 'expiryDate': '29-Feb-2...   \n",
       "77  {'strikePrice': 22500, 'expiryDate': '29-Feb-2...   \n",
       "\n",
       "                                                   PE  \n",
       "57  {'strikePrice': 21500, 'expiryDate': '29-Feb-2...  \n",
       "41  {'strikePrice': 20700, 'expiryDate': '29-Feb-2...  \n",
       "21  {'strikePrice': 19700, 'expiryDate': '29-Feb-2...  \n",
       "56  {'strikePrice': 21450, 'expiryDate': '29-Feb-2...  \n",
       "77  {'strikePrice': 22500, 'expiryDate': '29-Feb-2...  "
      ]
     },
     "execution_count": 24,
     "metadata": {},
     "output_type": "execute_result"
    }
   ],
   "source": [
    "df.sample(5)"
   ]
  },
  {
   "cell_type": "code",
   "execution_count": 25,
   "id": "f6b4e84b",
   "metadata": {},
   "outputs": [
    {
     "data": {
      "text/html": [
       "<div>\n",
       "<style scoped>\n",
       "    .dataframe tbody tr th:only-of-type {\n",
       "        vertical-align: middle;\n",
       "    }\n",
       "\n",
       "    .dataframe tbody tr th {\n",
       "        vertical-align: top;\n",
       "    }\n",
       "\n",
       "    .dataframe thead th {\n",
       "        text-align: right;\n",
       "    }\n",
       "</style>\n",
       "<table border=\"1\" class=\"dataframe\">\n",
       "  <thead>\n",
       "    <tr style=\"text-align: right;\">\n",
       "      <th></th>\n",
       "      <th>strikePrice</th>\n",
       "      <th>expiryDate</th>\n",
       "      <th>CE</th>\n",
       "      <th>PE</th>\n",
       "    </tr>\n",
       "  </thead>\n",
       "  <tbody>\n",
       "    <tr>\n",
       "      <th>103</th>\n",
       "      <td>23800</td>\n",
       "      <td>29-Feb-2024</td>\n",
       "      <td>{'strikePrice': 23800, 'expiryDate': '29-Feb-2...</td>\n",
       "      <td>{'strikePrice': 23800, 'expiryDate': '29-Feb-2...</td>\n",
       "    </tr>\n",
       "    <tr>\n",
       "      <th>104</th>\n",
       "      <td>23850</td>\n",
       "      <td>29-Feb-2024</td>\n",
       "      <td>{'strikePrice': 23850, 'expiryDate': '29-Feb-2...</td>\n",
       "      <td>{'strikePrice': 23850, 'expiryDate': '29-Feb-2...</td>\n",
       "    </tr>\n",
       "    <tr>\n",
       "      <th>105</th>\n",
       "      <td>23900</td>\n",
       "      <td>29-Feb-2024</td>\n",
       "      <td>{'strikePrice': 23900, 'expiryDate': '29-Feb-2...</td>\n",
       "      <td>{'strikePrice': 23900, 'expiryDate': '29-Feb-2...</td>\n",
       "    </tr>\n",
       "    <tr>\n",
       "      <th>106</th>\n",
       "      <td>23950</td>\n",
       "      <td>29-Feb-2024</td>\n",
       "      <td>{'strikePrice': 23950, 'expiryDate': '29-Feb-2...</td>\n",
       "      <td>{'strikePrice': 23950, 'expiryDate': '29-Feb-2...</td>\n",
       "    </tr>\n",
       "  </tbody>\n",
       "</table>\n",
       "</div>"
      ],
      "text/plain": [
       "     strikePrice   expiryDate  \\\n",
       "103        23800  29-Feb-2024   \n",
       "104        23850  29-Feb-2024   \n",
       "105        23900  29-Feb-2024   \n",
       "106        23950  29-Feb-2024   \n",
       "\n",
       "                                                    CE  \\\n",
       "103  {'strikePrice': 23800, 'expiryDate': '29-Feb-2...   \n",
       "104  {'strikePrice': 23850, 'expiryDate': '29-Feb-2...   \n",
       "105  {'strikePrice': 23900, 'expiryDate': '29-Feb-2...   \n",
       "106  {'strikePrice': 23950, 'expiryDate': '29-Feb-2...   \n",
       "\n",
       "                                                    PE  \n",
       "103  {'strikePrice': 23800, 'expiryDate': '29-Feb-2...  \n",
       "104  {'strikePrice': 23850, 'expiryDate': '29-Feb-2...  \n",
       "105  {'strikePrice': 23900, 'expiryDate': '29-Feb-2...  \n",
       "106  {'strikePrice': 23950, 'expiryDate': '29-Feb-2...  "
      ]
     },
     "execution_count": 25,
     "metadata": {},
     "output_type": "execute_result"
    }
   ],
   "source": [
    "df.tail(4)"
   ]
  },
  {
   "cell_type": "code",
   "execution_count": 26,
   "id": "34c03614",
   "metadata": {},
   "outputs": [
    {
     "data": {
      "text/plain": [
       "<Axes: xlabel='strikePrice'>"
      ]
     },
     "execution_count": 26,
     "metadata": {},
     "output_type": "execute_result"
    },
    {
     "data": {
      "image/png": "[encoded data removed]",
      "text/plain": [
       "<Figure size 640x480 with 1 Axes>"
      ]
     },
     "metadata": {},
     "output_type": "display_data"
    }
   ],
   "source": [
    "sns.violinplot(x='strikePrice',data=df)"
   ]
  },
  {
   "cell_type": "code",
   "execution_count": 27,
   "id": "409ed461",
   "metadata": {},
   "outputs": [
    {
     "data": {
      "text/plain": [
       "<Axes: xlabel='strikePrice', ylabel='expiryDate'>"
      ]
     },
     "execution_count": 27,
     "metadata": {},
     "output_type": "execute_result"
    },
    {
     "data": {
      "image/png": "[encoded data removed]",
      "text/plain": [
       "<Figure size 640x480 with 1 Axes>"
      ]
     },
     "metadata": {},
     "output_type": "display_data"
    }
   ],
   "source": [
    "sns.swarmplot(x='strikePrice',y='expiryDate',data=df)"
   ]
  },
  {
   "cell_type": "markdown",
   "id": "6bbf3828",
   "metadata": {},
   "source": [
    "# THANK YOU"
   ]
  }
 ],
 "metadata": {
  "kernelspec": {
   "display_name": "Python 3 (ipykernel)",
   "language": "python",
   "name": "python3"
  },
  "language_info": {
   "codemirror_mode": {
    "name": "ipython",
    "version": 3
   },
   "file_extension": ".py",
   "mimetype": "text/x-python",
   "name": "python",
   "nbconvert_exporter": "python",
   "pygments_lexer": "ipython3",
   "version": "3.11.3"
  }
 },
 "nbformat": 4,
 "nbformat_minor": 5
}
