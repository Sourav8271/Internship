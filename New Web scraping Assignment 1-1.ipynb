{
 "cells": [
  {
   "cell_type": "markdown",
   "id": "83435885",
   "metadata": {},
   "source": [
    "# Web Scraping Using Beautiful Soup"
   ]
  },
  {
   "cell_type": "code",
   "execution_count": 3,
   "id": "c9e9a335",
   "metadata": {},
   "outputs": [],
   "source": [
    "import requests\n",
    "import pandas as pd\n",
    "from bs4 import BeautifulSoup"
   ]
  },
  {
   "cell_type": "code",
   "execution_count": 4,
   "id": "8faa2b94",
   "metadata": {},
   "outputs": [],
   "source": [
    "#Question 1. Write a python program to display IMDB’s Top rated 100 Indian movies’ data (i.e. name, rating, year ofrelease) and make data frame."
   ]
  },
  {
   "cell_type": "code",
   "execution_count": 5,
   "id": "79c80921",
   "metadata": {},
   "outputs": [
    {
     "data": {
      "text/plain": [
       "<Response [200]>"
      ]
     },
     "execution_count": 5,
     "metadata": {},
     "output_type": "execute_result"
    }
   ],
   "source": [
    "url=('https://www.imdb.com/list/ls056092300/')\n",
    "page=requests.get(url)\n",
    "page"
   ]
  },
  {
   "cell_type": "code",
   "execution_count": null,
   "id": "d54c3a57",
   "metadata": {},
   "outputs": [],
   "source": [
    "soup=BeautifulSoup(page.content)\n",
    "soup"
   ]
  },
  {
   "cell_type": "code",
   "execution_count": 154,
   "id": "9d99e7dc",
   "metadata": {},
   "outputs": [
    {
     "name": "stdout",
     "output_type": "stream",
     "text": [
      "['Ship of Theseus', 'Iruvar', 'Kaagaz Ke Phool', 'Lagaan: Once Upon a Time in India', 'Pather Panchali', 'Charulata', 'Rang De Basanti', 'Dev.D', '3 Idiots', 'Awaara', 'Nayakan', 'Aparajito', 'Pushpaka Vimana', 'Pyaasa', 'Ghatashraddha', 'Sholay', 'Aradhana', 'Do Ankhen Barah Haath', 'Bombay', 'Neecha Nagar', 'Do Bigha Zamin', 'Garm Hava', 'Piravi', 'Mughal-E-Azam', 'Amma Ariyan', 'Madhumati', 'Goopy Gyne Bagha Byne', 'Gangs of Wasseypur', 'Guide', 'Satya', 'Roja', 'Mr. India', 'The Cloud-Capped Star', 'Harishchandrachi Factory', 'Masoom', 'Agneepath', 'Tabarana Kathe', 'Zakhm', 'Dil Chahta Hai', 'Bhaag Milkha Bhaag', 'Chupke Chupke', 'Dilwale Dulhania Le Jayenge', 'Taare Zameen Par', 'Ardh Satya', 'Bhumika', 'Enthiran', 'Sadma', 'Shwaas', 'Lamhe', 'Haqeeqat', 'Shree 420', 'Kannathil Muthamittal', 'Hum Aapke Hain Koun..!', 'Ustad Hotel', 'Bandit Queen', 'Lakshya', 'Black Friday', 'Manthan', 'Apoorva Raagangal', 'English Vinglish', 'Jewel Thief', 'Pakeezah', 'Maqbool', 'Jis Desh Men Ganga Behti Hai', 'Sahib Bibi Aur Ghulam', 'Shatranj Ke Khilari', 'Narthanasala', 'Chandni Bar', 'Vaaranam Aayiram', 'Mr. and Mrs. Iyer', 'Chandni', 'English, August', 'Celluloid', 'Sagara Sangamam', 'Munna Bhai M.B.B.S.', 'Saaransh', 'Guddi', 'Vanaja', 'Vazhakku Enn 18/9', 'Gangaajal', 'Angoor', 'Guru', 'Andaz Apna Apna', 'Sangam', 'Oka Oori Katha', 'Bhuvan Shome', 'Border', 'Parineeta', 'Devdas', 'Abohomaan', 'Kuch Kuch Hota Hai', 'Pithamagan', 'Veyyil', 'Chemmeen', 'Jaane Bhi Do Yaaro', 'Apur Sansar', 'Kanchivaram', 'Monsoon Wedding', 'Black', 'Deewaar']\n"
     ]
    },
    {
     "data": {
      "text/plain": [
       "100"
      ]
     },
     "execution_count": 154,
     "metadata": {},
     "output_type": "execute_result"
    }
   ],
   "source": [
    "movie_name=[]\n",
    "names=soup.find_all('h3',class_='lister-item-header')\n",
    "for i in names:\n",
    "    name=i.a.text\n",
    "    movie_name.append(name)\n",
    "print(movie_name)\n",
    "len(movie_name)"
   ]
  },
  {
   "cell_type": "code",
   "execution_count": 155,
   "id": "e05fad67",
   "metadata": {},
   "outputs": [
    {
     "name": "stdout",
     "output_type": "stream",
     "text": [
      "['8', '8.4', '7.8', '8.1', '8.2', '8.1', '8.1', '7.9', '8.4', '7.8', '8.6', '8.2', '8.6', '8.3', '7.6', '8.1', '7.6', '8.4', '8.1', '6.7', '8.3', '8.1', '7.8', '8.1', '7.4', '7.8', '8.7', '8.2', '8.3', '8.3', '8.1', '7.7', '7.8', '8.4', '8.4', '7.6', '8.1', '7.9', '8.1', '8.2', '8.3', '8', '8.3', '8.1', '7.4', '7.1', '8.3', '8.1', '7.2', '7.8', '7.9', '8.4', '7.5', '8.2', '7.5', '7.8', '8.4', '7.6', '7.6', '7.8', '7.9', '7.2', '8', '7.1', '8.1', '7.5', '8.1', '7.6', '8.2', '7.9', '6.7', '7.6', '7.7', '8.8', '8.1', '8.1', '7.2', '7.2', '8.3', '7.8', '8.3', '7.7', '8', '7.3', '7.8', '7.2', '7.9', '7.2', '7.7', '7.5', '7.5', '8.3', '7.8', '7.8', '8.3', '8.4', '8.2', '7.3', '8.1', '8']\n"
     ]
    },
    {
     "data": {
      "text/plain": [
       "100"
      ]
     },
     "execution_count": 155,
     "metadata": {},
     "output_type": "execute_result"
    }
   ],
   "source": [
    "rating=[]\n",
    "names=soup.find_all('div',class_='ipl-rating-star small')\n",
    "for i in names:\n",
    "    names=i.text.replace('\\n','')\n",
    "    rating.append(names)\n",
    "print(rating)\n",
    "len(rating)"
   ]
  },
  {
   "cell_type": "code",
   "execution_count": 156,
   "id": "145c5b98",
   "metadata": {},
   "outputs": [
    {
     "name": "stdout",
     "output_type": "stream",
     "text": [
      "['2012', '1997', '1959', '2001', '1955', '1964', '2006', '2009', '2009', '1951', '1987', '1956', '1987', '1957', '1977', '1975', '1969', '1957', '1995', '1946', '1953', '1974', '1989', '1960', '1986', '1958', '1969', '2012', '1965', '1998', '1992', '1987', '1960', '2009', '1983', '1990', '1986', '1998', '2001', '2013', '1975', '1995', '2007', '1983', '1977', '2010', '1983', '2004', '1991', '1964', '1955', '2002', '1994', '2012', '1994', '2004', '2004', '1976', '1975', '2012', '1967', '1972', '2003', '1960', '1962', '1977', '1963', '2001', '2008', '2002', '1989', '1994', '2013', '1983', '2003', '1984', '1971', '2006', '2012', '2003', '1982', '2007', '1994', 'I 1964', '1978', '1969', 'I 1997', '2005', '1955', '2009', '1998', '2003', '2006', '1965', '1983', '1959', '2008', '2001', '2005', '1975']\n"
     ]
    },
    {
     "data": {
      "text/plain": [
       "100"
      ]
     },
     "execution_count": 156,
     "metadata": {},
     "output_type": "execute_result"
    }
   ],
   "source": [
    "year_release=[]\n",
    "names=soup.find_all('span',class_='lister-item-year text-muted unbold')\n",
    "for i in names:\n",
    "    name=i.text.replace('(',\"\").replace(')','')\n",
    "    year_release.append(name)\n",
    "print(year_release)\n",
    "len(year_release)"
   ]
  },
  {
   "cell_type": "code",
   "execution_count": 87,
   "id": "4e17988b",
   "metadata": {},
   "outputs": [
    {
     "data": {
      "text/html": [
       "<div>\n",
       "<style scoped>\n",
       "    .dataframe tbody tr th:only-of-type {\n",
       "        vertical-align: middle;\n",
       "    }\n",
       "\n",
       "    .dataframe tbody tr th {\n",
       "        vertical-align: top;\n",
       "    }\n",
       "\n",
       "    .dataframe thead th {\n",
       "        text-align: right;\n",
       "    }\n",
       "</style>\n",
       "<table border=\"1\" class=\"dataframe\">\n",
       "  <thead>\n",
       "    <tr style=\"text-align: right;\">\n",
       "      <th></th>\n",
       "      <th>Movies Name</th>\n",
       "      <th>Rating</th>\n",
       "      <th>Year Of Release</th>\n",
       "    </tr>\n",
       "  </thead>\n",
       "  <tbody>\n",
       "    <tr>\n",
       "      <th>0</th>\n",
       "      <td>Ship of Theseus</td>\n",
       "      <td>8</td>\n",
       "      <td>2012</td>\n",
       "    </tr>\n",
       "    <tr>\n",
       "      <th>1</th>\n",
       "      <td>Iruvar</td>\n",
       "      <td>8.4</td>\n",
       "      <td>1997</td>\n",
       "    </tr>\n",
       "    <tr>\n",
       "      <th>2</th>\n",
       "      <td>Kaagaz Ke Phool</td>\n",
       "      <td>7.8</td>\n",
       "      <td>1959</td>\n",
       "    </tr>\n",
       "    <tr>\n",
       "      <th>3</th>\n",
       "      <td>Lagaan: Once Upon a Time in India</td>\n",
       "      <td>8.1</td>\n",
       "      <td>2001</td>\n",
       "    </tr>\n",
       "    <tr>\n",
       "      <th>4</th>\n",
       "      <td>Pather Panchali</td>\n",
       "      <td>8.2</td>\n",
       "      <td>1955</td>\n",
       "    </tr>\n",
       "    <tr>\n",
       "      <th>...</th>\n",
       "      <td>...</td>\n",
       "      <td>...</td>\n",
       "      <td>...</td>\n",
       "    </tr>\n",
       "    <tr>\n",
       "      <th>95</th>\n",
       "      <td>Apur Sansar</td>\n",
       "      <td>8.4</td>\n",
       "      <td>1959</td>\n",
       "    </tr>\n",
       "    <tr>\n",
       "      <th>96</th>\n",
       "      <td>Kanchivaram</td>\n",
       "      <td>8.2</td>\n",
       "      <td>2008</td>\n",
       "    </tr>\n",
       "    <tr>\n",
       "      <th>97</th>\n",
       "      <td>Monsoon Wedding</td>\n",
       "      <td>7.3</td>\n",
       "      <td>2001</td>\n",
       "    </tr>\n",
       "    <tr>\n",
       "      <th>98</th>\n",
       "      <td>Black</td>\n",
       "      <td>8.1</td>\n",
       "      <td>2005</td>\n",
       "    </tr>\n",
       "    <tr>\n",
       "      <th>99</th>\n",
       "      <td>Deewaar</td>\n",
       "      <td>8</td>\n",
       "      <td>1975</td>\n",
       "    </tr>\n",
       "  </tbody>\n",
       "</table>\n",
       "<p>100 rows × 3 columns</p>\n",
       "</div>"
      ],
      "text/plain": [
       "                          Movies Name Rating Year Of Release\n",
       "0                     Ship of Theseus      8            2012\n",
       "1                              Iruvar    8.4            1997\n",
       "2                     Kaagaz Ke Phool    7.8            1959\n",
       "3   Lagaan: Once Upon a Time in India    8.1            2001\n",
       "4                     Pather Panchali    8.2            1955\n",
       "..                                ...    ...             ...\n",
       "95                        Apur Sansar    8.4            1959\n",
       "96                        Kanchivaram    8.2            2008\n",
       "97                    Monsoon Wedding    7.3            2001\n",
       "98                              Black    8.1            2005\n",
       "99                            Deewaar      8            1975\n",
       "\n",
       "[100 rows x 3 columns]"
      ]
     },
     "execution_count": 87,
     "metadata": {},
     "output_type": "execute_result"
    }
   ],
   "source": [
    "df=pd.DataFrame({'Movies Name':movie_name,'Rating':rating,'Year Of Release':year_release})\n",
    "df"
   ]
  },
  {
   "cell_type": "code",
   "execution_count": 91,
   "id": "0c095672",
   "metadata": {},
   "outputs": [],
   "source": [
    "#Question 2. Write a python program to scrape product name, price and discounts from flipkart "
   ]
  },
  {
   "cell_type": "code",
   "execution_count": 49,
   "id": "32112709",
   "metadata": {},
   "outputs": [
    {
     "data": {
      "text/plain": [
       "<Response [200]>"
      ]
     },
     "execution_count": 49,
     "metadata": {},
     "output_type": "execute_result"
    }
   ],
   "source": [
    "url='https://www.flipkart.com/search?q=ladies+bags&otracker=search&otracker1=search&marketplace=FLIPKART&as-show=on&as=off&page=1'\n",
    "page=requests.get(url)\n",
    "page"
   ]
  },
  {
   "cell_type": "code",
   "execution_count": null,
   "id": "5a5ed5e2",
   "metadata": {},
   "outputs": [],
   "source": [
    "sp=BeautifulSoup(page.content)\n",
    "soup=sp.find('div',class_='_1YokD2 _3Mn1Gg')\n",
    "soup"
   ]
  },
  {
   "cell_type": "code",
   "execution_count": 51,
   "id": "fb67d64a",
   "metadata": {},
   "outputs": [
    {
     "name": "stdout",
     "output_type": "stream",
     "text": [
      "['Women Grey, Black Hand-held Bag - Extra Spacious', 'Women Pink Hand-held Bag - Extra Spacious', 'Women Beige Handbag - Extra Spacious', 'Women Blue Handbag', 'Women Black Shoulder Bag - Extra Spacious', 'Women Maroon Messenger Bag - Extra Spacious', 'Women Black Shoulder Bag', 'Women Multicolor Shoulder Bag', 'Women Multicolor Shoulder Bag', 'Women Pink Hand-held Bag', 'Women Tan, Black Handbag', 'Women Grey Hand-held Bag - Regular Size', 'Women Blue Shoulder Bag', 'Women Maroon Shoulder Bag', 'Women Green Shoulder Bag', 'Women Black Messenger Bag - Extra Spacious', 'Women Beige, Black Hand-held Bag', 'Women Blue Shoulder Bag', 'Women Black Shoulder Bag', 'Women Multicolor Shoulder Bag', 'Women Silver Hobo', 'Women Black Hand-held Bag - Extra Spacious', 'Women Pink Messenger Bag - Extra Spacious', 'Women White Hand-held Bag - Mini', 'Women Blue Satchel - Regular Size', 'Women Yellow Shoulder Bag - Extra Spacious', 'Women Tan Handbag', 'Women Tan Hand-held Bag - Extra Spacious', 'Women Black Handbag - Regular Size', 'Women Multicolor Shoulder Bag', 'Women Red Hobo', 'Women Multicolor Messenger Bag', 'Women Grey Messenger Bag - Extra Spacious', 'Women Black Hobo - Extra Spacious', 'Women Black Satchel - Regular Size', 'Women Blue Hand-held Bag', 'Women Grey Shoulder Bag - Extra Spacious', 'Women Grey Shoulder Bag - Mini', 'Women Beige Satchel - Regular Size', 'Women Grey Shoulder Bag']\n"
     ]
    },
    {
     "data": {
      "text/plain": [
       "40"
      ]
     },
     "execution_count": 51,
     "metadata": {},
     "output_type": "execute_result"
    }
   ],
   "source": [
    "p_name=[]\n",
    "names=soup.find_all('a',class_='IRpwTa')\n",
    "for i in names:\n",
    "    names=i.text\n",
    "    p_name.append(names)\n",
    "print(p_name)\n",
    "len(p_name)"
   ]
  },
  {
   "cell_type": "code",
   "execution_count": 52,
   "id": "a9ade5de",
   "metadata": {},
   "outputs": [
    {
     "name": "stdout",
     "output_type": "stream",
     "text": [
      "['₹499', '₹419', '₹949', '₹769', '₹227', '₹384', '₹199', '₹1,599', '₹369', '₹245', '₹1,139', '₹1,067', '₹290', '₹197', '₹489', '₹384', '₹1,804', '₹454', '₹292', '₹369', '₹1,299', '₹359', '₹384', '₹1,369', '₹1,219', '₹227', '₹599', '₹599', '₹384', '₹369', '₹1,159', '₹889', '₹384', '₹1,029', '₹1,449', '₹449', '₹499', '₹639', '₹899', '₹285']\n"
     ]
    },
    {
     "data": {
      "text/plain": [
       "40"
      ]
     },
     "execution_count": 52,
     "metadata": {},
     "output_type": "execute_result"
    }
   ],
   "source": [
    "price=[]\n",
    "name=soup.find_all('div',class_='_30jeq3')\n",
    "for i in name:\n",
    "    names=i.text\n",
    "    price.append(names)\n",
    "print(price)\n",
    "len(price)"
   ]
  },
  {
   "cell_type": "code",
   "execution_count": 53,
   "id": "ede41d07",
   "metadata": {},
   "outputs": [
    {
     "name": "stdout",
     "output_type": "stream",
     "text": [
      "['82% off', '83% off', '70% off', '75% off', '85% off', '87% off', '90% off', '67% off', '50% off', '75% off', '71% off', '64% off', '83% off', '86% off', '34% off', '87% off', '57% off', '81% off', '83% off', '50% off', '71% off', '20% off', '87% off', '69% off', '72% off', '85% off', '78% off', '72% off', '82% off', '50% off', '61% off', '55% off', '87% off', '70% off', '67% off', '43% off', '73% off', '67% off', '69% off', '83% off']\n"
     ]
    },
    {
     "data": {
      "text/plain": [
       "40"
      ]
     },
     "execution_count": 53,
     "metadata": {},
     "output_type": "execute_result"
    }
   ],
   "source": [
    "discount=[]\n",
    "\n",
    "name=soup.find_all('div',class_='_3Ay6Sb')\n",
    "for i in name:\n",
    "    names=i.text\n",
    "    discount.append(names)\n",
    "print(discount)\n",
    "len(discount)"
   ]
  },
  {
   "cell_type": "code",
   "execution_count": 55,
   "id": "b04d9a70",
   "metadata": {},
   "outputs": [
    {
     "data": {
      "text/html": [
       "<div>\n",
       "<style scoped>\n",
       "    .dataframe tbody tr th:only-of-type {\n",
       "        vertical-align: middle;\n",
       "    }\n",
       "\n",
       "    .dataframe tbody tr th {\n",
       "        vertical-align: top;\n",
       "    }\n",
       "\n",
       "    .dataframe thead th {\n",
       "        text-align: right;\n",
       "    }\n",
       "</style>\n",
       "<table border=\"1\" class=\"dataframe\">\n",
       "  <thead>\n",
       "    <tr style=\"text-align: right;\">\n",
       "      <th></th>\n",
       "      <th>Product Name</th>\n",
       "      <th>Price</th>\n",
       "      <th>Discount</th>\n",
       "    </tr>\n",
       "  </thead>\n",
       "  <tbody>\n",
       "    <tr>\n",
       "      <th>0</th>\n",
       "      <td>Women Grey, Black Hand-held Bag - Extra Spacious</td>\n",
       "      <td>₹499</td>\n",
       "      <td>82% off</td>\n",
       "    </tr>\n",
       "    <tr>\n",
       "      <th>1</th>\n",
       "      <td>Women Pink Hand-held Bag - Extra Spacious</td>\n",
       "      <td>₹419</td>\n",
       "      <td>83% off</td>\n",
       "    </tr>\n",
       "    <tr>\n",
       "      <th>2</th>\n",
       "      <td>Women Beige Handbag - Extra Spacious</td>\n",
       "      <td>₹949</td>\n",
       "      <td>70% off</td>\n",
       "    </tr>\n",
       "    <tr>\n",
       "      <th>3</th>\n",
       "      <td>Women Blue Handbag</td>\n",
       "      <td>₹769</td>\n",
       "      <td>75% off</td>\n",
       "    </tr>\n",
       "    <tr>\n",
       "      <th>4</th>\n",
       "      <td>Women Black Shoulder Bag - Extra Spacious</td>\n",
       "      <td>₹227</td>\n",
       "      <td>85% off</td>\n",
       "    </tr>\n",
       "    <tr>\n",
       "      <th>5</th>\n",
       "      <td>Women Maroon Messenger Bag - Extra Spacious</td>\n",
       "      <td>₹384</td>\n",
       "      <td>87% off</td>\n",
       "    </tr>\n",
       "    <tr>\n",
       "      <th>6</th>\n",
       "      <td>Women Black Shoulder Bag</td>\n",
       "      <td>₹199</td>\n",
       "      <td>90% off</td>\n",
       "    </tr>\n",
       "    <tr>\n",
       "      <th>7</th>\n",
       "      <td>Women Multicolor Shoulder Bag</td>\n",
       "      <td>₹1,599</td>\n",
       "      <td>67% off</td>\n",
       "    </tr>\n",
       "    <tr>\n",
       "      <th>8</th>\n",
       "      <td>Women Multicolor Shoulder Bag</td>\n",
       "      <td>₹369</td>\n",
       "      <td>50% off</td>\n",
       "    </tr>\n",
       "    <tr>\n",
       "      <th>9</th>\n",
       "      <td>Women Pink Hand-held Bag</td>\n",
       "      <td>₹245</td>\n",
       "      <td>75% off</td>\n",
       "    </tr>\n",
       "    <tr>\n",
       "      <th>10</th>\n",
       "      <td>Women Tan, Black Handbag</td>\n",
       "      <td>₹1,139</td>\n",
       "      <td>71% off</td>\n",
       "    </tr>\n",
       "    <tr>\n",
       "      <th>11</th>\n",
       "      <td>Women Grey Hand-held Bag - Regular Size</td>\n",
       "      <td>₹1,067</td>\n",
       "      <td>64% off</td>\n",
       "    </tr>\n",
       "    <tr>\n",
       "      <th>12</th>\n",
       "      <td>Women Blue Shoulder Bag</td>\n",
       "      <td>₹290</td>\n",
       "      <td>83% off</td>\n",
       "    </tr>\n",
       "    <tr>\n",
       "      <th>13</th>\n",
       "      <td>Women Maroon Shoulder Bag</td>\n",
       "      <td>₹197</td>\n",
       "      <td>86% off</td>\n",
       "    </tr>\n",
       "    <tr>\n",
       "      <th>14</th>\n",
       "      <td>Women Green Shoulder Bag</td>\n",
       "      <td>₹489</td>\n",
       "      <td>34% off</td>\n",
       "    </tr>\n",
       "    <tr>\n",
       "      <th>15</th>\n",
       "      <td>Women Black Messenger Bag - Extra Spacious</td>\n",
       "      <td>₹384</td>\n",
       "      <td>87% off</td>\n",
       "    </tr>\n",
       "    <tr>\n",
       "      <th>16</th>\n",
       "      <td>Women Beige, Black Hand-held Bag</td>\n",
       "      <td>₹1,804</td>\n",
       "      <td>57% off</td>\n",
       "    </tr>\n",
       "    <tr>\n",
       "      <th>17</th>\n",
       "      <td>Women Blue Shoulder Bag</td>\n",
       "      <td>₹454</td>\n",
       "      <td>81% off</td>\n",
       "    </tr>\n",
       "    <tr>\n",
       "      <th>18</th>\n",
       "      <td>Women Black Shoulder Bag</td>\n",
       "      <td>₹292</td>\n",
       "      <td>83% off</td>\n",
       "    </tr>\n",
       "    <tr>\n",
       "      <th>19</th>\n",
       "      <td>Women Multicolor Shoulder Bag</td>\n",
       "      <td>₹369</td>\n",
       "      <td>50% off</td>\n",
       "    </tr>\n",
       "    <tr>\n",
       "      <th>20</th>\n",
       "      <td>Women Silver Hobo</td>\n",
       "      <td>₹1,299</td>\n",
       "      <td>71% off</td>\n",
       "    </tr>\n",
       "    <tr>\n",
       "      <th>21</th>\n",
       "      <td>Women Black Hand-held Bag - Extra Spacious</td>\n",
       "      <td>₹359</td>\n",
       "      <td>20% off</td>\n",
       "    </tr>\n",
       "    <tr>\n",
       "      <th>22</th>\n",
       "      <td>Women Pink Messenger Bag - Extra Spacious</td>\n",
       "      <td>₹384</td>\n",
       "      <td>87% off</td>\n",
       "    </tr>\n",
       "    <tr>\n",
       "      <th>23</th>\n",
       "      <td>Women White Hand-held Bag - Mini</td>\n",
       "      <td>₹1,369</td>\n",
       "      <td>69% off</td>\n",
       "    </tr>\n",
       "    <tr>\n",
       "      <th>24</th>\n",
       "      <td>Women Blue Satchel - Regular Size</td>\n",
       "      <td>₹1,219</td>\n",
       "      <td>72% off</td>\n",
       "    </tr>\n",
       "    <tr>\n",
       "      <th>25</th>\n",
       "      <td>Women Yellow Shoulder Bag - Extra Spacious</td>\n",
       "      <td>₹227</td>\n",
       "      <td>85% off</td>\n",
       "    </tr>\n",
       "    <tr>\n",
       "      <th>26</th>\n",
       "      <td>Women Tan Handbag</td>\n",
       "      <td>₹599</td>\n",
       "      <td>78% off</td>\n",
       "    </tr>\n",
       "    <tr>\n",
       "      <th>27</th>\n",
       "      <td>Women Tan Hand-held Bag - Extra Spacious</td>\n",
       "      <td>₹599</td>\n",
       "      <td>72% off</td>\n",
       "    </tr>\n",
       "    <tr>\n",
       "      <th>28</th>\n",
       "      <td>Women Black Handbag - Regular Size</td>\n",
       "      <td>₹384</td>\n",
       "      <td>82% off</td>\n",
       "    </tr>\n",
       "    <tr>\n",
       "      <th>29</th>\n",
       "      <td>Women Multicolor Shoulder Bag</td>\n",
       "      <td>₹369</td>\n",
       "      <td>50% off</td>\n",
       "    </tr>\n",
       "    <tr>\n",
       "      <th>30</th>\n",
       "      <td>Women Red Hobo</td>\n",
       "      <td>₹1,159</td>\n",
       "      <td>61% off</td>\n",
       "    </tr>\n",
       "    <tr>\n",
       "      <th>31</th>\n",
       "      <td>Women Multicolor Messenger Bag</td>\n",
       "      <td>₹889</td>\n",
       "      <td>55% off</td>\n",
       "    </tr>\n",
       "    <tr>\n",
       "      <th>32</th>\n",
       "      <td>Women Grey Messenger Bag - Extra Spacious</td>\n",
       "      <td>₹384</td>\n",
       "      <td>87% off</td>\n",
       "    </tr>\n",
       "    <tr>\n",
       "      <th>33</th>\n",
       "      <td>Women Black Hobo - Extra Spacious</td>\n",
       "      <td>₹1,029</td>\n",
       "      <td>70% off</td>\n",
       "    </tr>\n",
       "    <tr>\n",
       "      <th>34</th>\n",
       "      <td>Women Black Satchel - Regular Size</td>\n",
       "      <td>₹1,449</td>\n",
       "      <td>67% off</td>\n",
       "    </tr>\n",
       "    <tr>\n",
       "      <th>35</th>\n",
       "      <td>Women Blue Hand-held Bag</td>\n",
       "      <td>₹449</td>\n",
       "      <td>43% off</td>\n",
       "    </tr>\n",
       "    <tr>\n",
       "      <th>36</th>\n",
       "      <td>Women Grey Shoulder Bag - Extra Spacious</td>\n",
       "      <td>₹499</td>\n",
       "      <td>73% off</td>\n",
       "    </tr>\n",
       "    <tr>\n",
       "      <th>37</th>\n",
       "      <td>Women Grey Shoulder Bag - Mini</td>\n",
       "      <td>₹639</td>\n",
       "      <td>67% off</td>\n",
       "    </tr>\n",
       "    <tr>\n",
       "      <th>38</th>\n",
       "      <td>Women Beige Satchel - Regular Size</td>\n",
       "      <td>₹899</td>\n",
       "      <td>69% off</td>\n",
       "    </tr>\n",
       "    <tr>\n",
       "      <th>39</th>\n",
       "      <td>Women Grey Shoulder Bag</td>\n",
       "      <td>₹285</td>\n",
       "      <td>83% off</td>\n",
       "    </tr>\n",
       "  </tbody>\n",
       "</table>\n",
       "</div>"
      ],
      "text/plain": [
       "                                        Product Name   Price Discount\n",
       "0   Women Grey, Black Hand-held Bag - Extra Spacious    ₹499  82% off\n",
       "1          Women Pink Hand-held Bag - Extra Spacious    ₹419  83% off\n",
       "2               Women Beige Handbag - Extra Spacious    ₹949  70% off\n",
       "3                                 Women Blue Handbag    ₹769  75% off\n",
       "4          Women Black Shoulder Bag - Extra Spacious    ₹227  85% off\n",
       "5        Women Maroon Messenger Bag - Extra Spacious    ₹384  87% off\n",
       "6                           Women Black Shoulder Bag    ₹199  90% off\n",
       "7                      Women Multicolor Shoulder Bag  ₹1,599  67% off\n",
       "8                      Women Multicolor Shoulder Bag    ₹369  50% off\n",
       "9                           Women Pink Hand-held Bag    ₹245  75% off\n",
       "10                          Women Tan, Black Handbag  ₹1,139  71% off\n",
       "11           Women Grey Hand-held Bag - Regular Size  ₹1,067  64% off\n",
       "12                           Women Blue Shoulder Bag    ₹290  83% off\n",
       "13                         Women Maroon Shoulder Bag    ₹197  86% off\n",
       "14                          Women Green Shoulder Bag    ₹489  34% off\n",
       "15        Women Black Messenger Bag - Extra Spacious    ₹384  87% off\n",
       "16                  Women Beige, Black Hand-held Bag  ₹1,804  57% off\n",
       "17                           Women Blue Shoulder Bag    ₹454  81% off\n",
       "18                          Women Black Shoulder Bag    ₹292  83% off\n",
       "19                     Women Multicolor Shoulder Bag    ₹369  50% off\n",
       "20                                 Women Silver Hobo  ₹1,299  71% off\n",
       "21        Women Black Hand-held Bag - Extra Spacious    ₹359  20% off\n",
       "22         Women Pink Messenger Bag - Extra Spacious    ₹384  87% off\n",
       "23                  Women White Hand-held Bag - Mini  ₹1,369  69% off\n",
       "24                 Women Blue Satchel - Regular Size  ₹1,219  72% off\n",
       "25        Women Yellow Shoulder Bag - Extra Spacious    ₹227  85% off\n",
       "26                                 Women Tan Handbag    ₹599  78% off\n",
       "27          Women Tan Hand-held Bag - Extra Spacious    ₹599  72% off\n",
       "28                Women Black Handbag - Regular Size    ₹384  82% off\n",
       "29                     Women Multicolor Shoulder Bag    ₹369  50% off\n",
       "30                                    Women Red Hobo  ₹1,159  61% off\n",
       "31                    Women Multicolor Messenger Bag    ₹889  55% off\n",
       "32         Women Grey Messenger Bag - Extra Spacious    ₹384  87% off\n",
       "33                 Women Black Hobo - Extra Spacious  ₹1,029  70% off\n",
       "34                Women Black Satchel - Regular Size  ₹1,449  67% off\n",
       "35                          Women Blue Hand-held Bag    ₹449  43% off\n",
       "36          Women Grey Shoulder Bag - Extra Spacious    ₹499  73% off\n",
       "37                    Women Grey Shoulder Bag - Mini    ₹639  67% off\n",
       "38                Women Beige Satchel - Regular Size    ₹899  69% off\n",
       "39                           Women Grey Shoulder Bag    ₹285  83% off"
      ]
     },
     "execution_count": 55,
     "metadata": {},
     "output_type": "execute_result"
    }
   ],
   "source": [
    "df=pd.DataFrame({'Product Name':p_name,'Price':price,'Discount':discount})\n",
    "df"
   ]
  },
  {
   "cell_type": "code",
   "execution_count": 136,
   "id": "87929fd1",
   "metadata": {},
   "outputs": [],
   "source": [
    "# Question 3.Write a python program to scrape cricket rankings from icc-cricket.com. You have to scrape:\n",
    "#a) Top 10 ODI teams in men’s cricket along with the records for matches, points and rating.\n",
    "#b) Top 10 ODI Batsmen along with the records of their team and rating.\n",
    "#c) Top 10 ODI bowlers along with the records of their team and rating."
   ]
  },
  {
   "cell_type": "code",
   "execution_count": 137,
   "id": "2081de31",
   "metadata": {},
   "outputs": [],
   "source": [
    "#a) Top 10 ODI Batsmen in men’s cricket along with the records for matches, points and rating."
   ]
  },
  {
   "cell_type": "code",
   "execution_count": 57,
   "id": "b2f7365e",
   "metadata": {},
   "outputs": [
    {
     "data": {
      "text/plain": [
       "<Response [200]>"
      ]
     },
     "execution_count": 57,
     "metadata": {},
     "output_type": "execute_result"
    }
   ],
   "source": [
    "url='https://sports.ndtv.com/cricket/icc-rankings/odi-batting'\n",
    "page=requests.get(url)\n",
    "page"
   ]
  },
  {
   "cell_type": "code",
   "execution_count": null,
   "id": "8993fed8",
   "metadata": {},
   "outputs": [],
   "source": [
    "soup=BeautifulSoup(page.content)\n",
    "soup"
   ]
  },
  {
   "cell_type": "code",
   "execution_count": 59,
   "id": "88ccfd48",
   "metadata": {},
   "outputs": [
    {
     "data": {
      "text/plain": [
       "['Babar Azam',\n",
       " 'Shubman Gill',\n",
       " 'Virat Kohli',\n",
       " 'Rohit Sharma',\n",
       " 'Daryl Mitchell',\n",
       " 'David Warner',\n",
       " 'Harry Tector',\n",
       " 'Dawid Malan',\n",
       " 'Rassie van der Dussen',\n",
       " 'Heinrich Klaasen']"
      ]
     },
     "execution_count": 59,
     "metadata": {},
     "output_type": "execute_result"
    }
   ],
   "source": [
    "p_name=[]\n",
    "name=soup.find_all('span',class_='rnk_tbl-nm')\n",
    "for i in name:\n",
    "    name=i.a.text.replace('\\n',\"\")\n",
    "    p_name.append(name)\n",
    "p_name=p_name[0:10]\n",
    "p_name"
   ]
  },
  {
   "cell_type": "code",
   "execution_count": 60,
   "id": "a0817f3f",
   "metadata": {},
   "outputs": [
    {
     "data": {
      "text/plain": [
       "['Pakistan',\n",
       " 'India',\n",
       " 'India',\n",
       " 'India',\n",
       " 'New Zealand',\n",
       " 'Australia',\n",
       " 'Ireland',\n",
       " 'England',\n",
       " 'South Africa',\n",
       " 'South Africa']"
      ]
     },
     "execution_count": 60,
     "metadata": {},
     "output_type": "execute_result"
    }
   ],
   "source": [
    "country=[]\n",
    "name=soup.find_all('span',class_='rnk_tbl-tm')\n",
    "for i in name:\n",
    "    name=i.text.replace('\\n',\"\")\n",
    "    country.append(name)\n",
    "country=country[0:10]\n",
    "country"
   ]
  },
  {
   "cell_type": "code",
   "execution_count": 61,
   "id": "6b8c6309",
   "metadata": {},
   "outputs": [
    {
     "data": {
      "text/plain": [
       "['824', '801', '768', '746', '728', '723', '723', '707', '701', '697']"
      ]
     },
     "execution_count": 61,
     "metadata": {},
     "output_type": "execute_result"
    }
   ],
   "source": [
    "rating=[]\n",
    "name=soup.find_all('td',class_='rnk_tbl-td rnk_tx-rt')\n",
    "for i in name:\n",
    "    name=i.text.replace('\\n',\"\")\n",
    "    rating.append(name)\n",
    "rating=rating[0:20:2]\n",
    "rating"
   ]
  },
  {
   "cell_type": "code",
   "execution_count": 62,
   "id": "ae1f94e0",
   "metadata": {},
   "outputs": [
    {
     "data": {
      "text/html": [
       "<div>\n",
       "<style scoped>\n",
       "    .dataframe tbody tr th:only-of-type {\n",
       "        vertical-align: middle;\n",
       "    }\n",
       "\n",
       "    .dataframe tbody tr th {\n",
       "        vertical-align: top;\n",
       "    }\n",
       "\n",
       "    .dataframe thead th {\n",
       "        text-align: right;\n",
       "    }\n",
       "</style>\n",
       "<table border=\"1\" class=\"dataframe\">\n",
       "  <thead>\n",
       "    <tr style=\"text-align: right;\">\n",
       "      <th></th>\n",
       "      <th>Player Name</th>\n",
       "      <th>Country</th>\n",
       "      <th>Rating</th>\n",
       "    </tr>\n",
       "  </thead>\n",
       "  <tbody>\n",
       "    <tr>\n",
       "      <th>0</th>\n",
       "      <td>Babar Azam</td>\n",
       "      <td>Pakistan</td>\n",
       "      <td>824</td>\n",
       "    </tr>\n",
       "    <tr>\n",
       "      <th>1</th>\n",
       "      <td>Shubman Gill</td>\n",
       "      <td>India</td>\n",
       "      <td>801</td>\n",
       "    </tr>\n",
       "    <tr>\n",
       "      <th>2</th>\n",
       "      <td>Virat Kohli</td>\n",
       "      <td>India</td>\n",
       "      <td>768</td>\n",
       "    </tr>\n",
       "    <tr>\n",
       "      <th>3</th>\n",
       "      <td>Rohit Sharma</td>\n",
       "      <td>India</td>\n",
       "      <td>746</td>\n",
       "    </tr>\n",
       "    <tr>\n",
       "      <th>4</th>\n",
       "      <td>Daryl Mitchell</td>\n",
       "      <td>New Zealand</td>\n",
       "      <td>728</td>\n",
       "    </tr>\n",
       "    <tr>\n",
       "      <th>5</th>\n",
       "      <td>David Warner</td>\n",
       "      <td>Australia</td>\n",
       "      <td>723</td>\n",
       "    </tr>\n",
       "    <tr>\n",
       "      <th>6</th>\n",
       "      <td>Harry Tector</td>\n",
       "      <td>Ireland</td>\n",
       "      <td>723</td>\n",
       "    </tr>\n",
       "    <tr>\n",
       "      <th>7</th>\n",
       "      <td>Dawid Malan</td>\n",
       "      <td>England</td>\n",
       "      <td>707</td>\n",
       "    </tr>\n",
       "    <tr>\n",
       "      <th>8</th>\n",
       "      <td>Rassie van der Dussen</td>\n",
       "      <td>South Africa</td>\n",
       "      <td>701</td>\n",
       "    </tr>\n",
       "    <tr>\n",
       "      <th>9</th>\n",
       "      <td>Heinrich Klaasen</td>\n",
       "      <td>South Africa</td>\n",
       "      <td>697</td>\n",
       "    </tr>\n",
       "  </tbody>\n",
       "</table>\n",
       "</div>"
      ],
      "text/plain": [
       "             Player Name       Country Rating\n",
       "0             Babar Azam      Pakistan    824\n",
       "1           Shubman Gill         India    801\n",
       "2            Virat Kohli         India    768\n",
       "3           Rohit Sharma         India    746\n",
       "4         Daryl Mitchell   New Zealand    728\n",
       "5           David Warner     Australia    723\n",
       "6           Harry Tector       Ireland    723\n",
       "7            Dawid Malan       England    707\n",
       "8  Rassie van der Dussen  South Africa    701\n",
       "9       Heinrich Klaasen  South Africa    697"
      ]
     },
     "execution_count": 62,
     "metadata": {},
     "output_type": "execute_result"
    }
   ],
   "source": [
    "df=pd.DataFrame({'Player Name':p_name,'Country':country,'Rating':rating})\n",
    "df"
   ]
  },
  {
   "cell_type": "code",
   "execution_count": 63,
   "id": "6c3d97a2",
   "metadata": {},
   "outputs": [],
   "source": [
    "# b.Top 10 ODI teams in men’s cricket along with the records for matches, points and rating."
   ]
  },
  {
   "cell_type": "code",
   "execution_count": 64,
   "id": "e9e9334e",
   "metadata": {},
   "outputs": [
    {
     "data": {
      "text/plain": [
       "<Response [200]>"
      ]
     },
     "execution_count": 64,
     "metadata": {},
     "output_type": "execute_result"
    }
   ],
   "source": [
    "url='https://sports.ndtv.com/cricket/icc-rankings'\n",
    "page=requests.get(url)\n",
    "page"
   ]
  },
  {
   "cell_type": "code",
   "execution_count": null,
   "id": "946e1957",
   "metadata": {},
   "outputs": [],
   "source": [
    "soup=BeautifulSoup(page.content)\n",
    "soup"
   ]
  },
  {
   "cell_type": "code",
   "execution_count": 66,
   "id": "79644a90",
   "metadata": {},
   "outputs": [
    {
     "data": {
      "text/plain": [
       "['Australia',\n",
       " 'India',\n",
       " 'England',\n",
       " 'South Africa',\n",
       " 'New Zealand',\n",
       " 'Pakistan',\n",
       " 'West Indies',\n",
       " 'Sri Lanka',\n",
       " 'Bangladesh',\n",
       " 'Zimbabwe']"
      ]
     },
     "execution_count": 66,
     "metadata": {},
     "output_type": "execute_result"
    }
   ],
   "source": [
    "team=[]\n",
    "name=soup.find_all('span',class_='rnk_tbl-nm')\n",
    "for i in name:\n",
    "    name=i.a.text.replace('\\n',\"\")\n",
    "    team.append(name)\n",
    "team=team[0:10]\n",
    "team"
   ]
  },
  {
   "cell_type": "code",
   "execution_count": 67,
   "id": "19bd245d",
   "metadata": {},
   "outputs": [
    {
     "data": {
      "text/plain": [
       "['37', '32', '43', '24', '26', '29', '31', '27', '22', '7']"
      ]
     },
     "execution_count": 67,
     "metadata": {},
     "output_type": "execute_result"
    }
   ],
   "source": [
    "match=[]\n",
    "name=soup.find_all('td',class_='rnk_tbl-td rnk_tx-rt')\n",
    "for i in name:\n",
    "    name=i.text.replace('\\n',\"\")\n",
    "    match.append(name)\n",
    "match=match[0:30:3]\n",
    "match"
   ]
  },
  {
   "cell_type": "code",
   "execution_count": 68,
   "id": "2211585c",
   "metadata": {},
   "outputs": [
    {
     "data": {
      "text/plain": [
       "['4345', '3746', '4941', '2536', '2471', '2576', '2505', '2123', '1131', '223']"
      ]
     },
     "execution_count": 68,
     "metadata": {},
     "output_type": "execute_result"
    }
   ],
   "source": [
    "points=[]\n",
    "name=soup.find_all('td',class_='rnk_tbl-td rnk_tx-rt')\n",
    "for i in name:\n",
    "    name=i.text.replace('\\n',\"\")\n",
    "    points.append(name)\n",
    "points=points[1:30:3]\n",
    "points"
   ]
  },
  {
   "cell_type": "code",
   "execution_count": 69,
   "id": "67c75cc2",
   "metadata": {},
   "outputs": [
    {
     "data": {
      "text/plain": [
       "['117', '117', '115', '106', '95', '89', '81', '79', '51', '32']"
      ]
     },
     "execution_count": 69,
     "metadata": {},
     "output_type": "execute_result"
    }
   ],
   "source": [
    "rating=[]\n",
    "name=soup.find_all('td',class_='rnk_tbl-td rnk_tx-rt')\n",
    "for i in name:\n",
    "    name=i.text.replace('\\n',\"\")\n",
    "    rating.append(name)\n",
    "rating=rating[2:30:3]\n",
    "rating"
   ]
  },
  {
   "cell_type": "code",
   "execution_count": 70,
   "id": "e4e0a516",
   "metadata": {},
   "outputs": [
    {
     "data": {
      "text/html": [
       "<div>\n",
       "<style scoped>\n",
       "    .dataframe tbody tr th:only-of-type {\n",
       "        vertical-align: middle;\n",
       "    }\n",
       "\n",
       "    .dataframe tbody tr th {\n",
       "        vertical-align: top;\n",
       "    }\n",
       "\n",
       "    .dataframe thead th {\n",
       "        text-align: right;\n",
       "    }\n",
       "</style>\n",
       "<table border=\"1\" class=\"dataframe\">\n",
       "  <thead>\n",
       "    <tr style=\"text-align: right;\">\n",
       "      <th></th>\n",
       "      <th>Team</th>\n",
       "      <th>Matches</th>\n",
       "      <th>Points</th>\n",
       "      <th>Rating</th>\n",
       "    </tr>\n",
       "  </thead>\n",
       "  <tbody>\n",
       "    <tr>\n",
       "      <th>0</th>\n",
       "      <td>Australia</td>\n",
       "      <td>37</td>\n",
       "      <td>4345</td>\n",
       "      <td>117</td>\n",
       "    </tr>\n",
       "    <tr>\n",
       "      <th>1</th>\n",
       "      <td>India</td>\n",
       "      <td>32</td>\n",
       "      <td>3746</td>\n",
       "      <td>117</td>\n",
       "    </tr>\n",
       "    <tr>\n",
       "      <th>2</th>\n",
       "      <td>England</td>\n",
       "      <td>43</td>\n",
       "      <td>4941</td>\n",
       "      <td>115</td>\n",
       "    </tr>\n",
       "    <tr>\n",
       "      <th>3</th>\n",
       "      <td>South Africa</td>\n",
       "      <td>24</td>\n",
       "      <td>2536</td>\n",
       "      <td>106</td>\n",
       "    </tr>\n",
       "    <tr>\n",
       "      <th>4</th>\n",
       "      <td>New Zealand</td>\n",
       "      <td>26</td>\n",
       "      <td>2471</td>\n",
       "      <td>95</td>\n",
       "    </tr>\n",
       "    <tr>\n",
       "      <th>5</th>\n",
       "      <td>Pakistan</td>\n",
       "      <td>29</td>\n",
       "      <td>2576</td>\n",
       "      <td>89</td>\n",
       "    </tr>\n",
       "    <tr>\n",
       "      <th>6</th>\n",
       "      <td>West Indies</td>\n",
       "      <td>31</td>\n",
       "      <td>2505</td>\n",
       "      <td>81</td>\n",
       "    </tr>\n",
       "    <tr>\n",
       "      <th>7</th>\n",
       "      <td>Sri Lanka</td>\n",
       "      <td>27</td>\n",
       "      <td>2123</td>\n",
       "      <td>79</td>\n",
       "    </tr>\n",
       "    <tr>\n",
       "      <th>8</th>\n",
       "      <td>Bangladesh</td>\n",
       "      <td>22</td>\n",
       "      <td>1131</td>\n",
       "      <td>51</td>\n",
       "    </tr>\n",
       "    <tr>\n",
       "      <th>9</th>\n",
       "      <td>Zimbabwe</td>\n",
       "      <td>7</td>\n",
       "      <td>223</td>\n",
       "      <td>32</td>\n",
       "    </tr>\n",
       "  </tbody>\n",
       "</table>\n",
       "</div>"
      ],
      "text/plain": [
       "           Team Matches Points Rating\n",
       "0     Australia      37   4345    117\n",
       "1         India      32   3746    117\n",
       "2       England      43   4941    115\n",
       "3  South Africa      24   2536    106\n",
       "4   New Zealand      26   2471     95\n",
       "5      Pakistan      29   2576     89\n",
       "6   West Indies      31   2505     81\n",
       "7     Sri Lanka      27   2123     79\n",
       "8    Bangladesh      22   1131     51\n",
       "9      Zimbabwe       7    223     32"
      ]
     },
     "execution_count": 70,
     "metadata": {},
     "output_type": "execute_result"
    }
   ],
   "source": [
    "df=pd.DataFrame({'Team':team,'Matches':match,'Points':points,'Rating':rating})\n",
    "df"
   ]
  },
  {
   "cell_type": "code",
   "execution_count": 71,
   "id": "21ad106e",
   "metadata": {},
   "outputs": [],
   "source": [
    "# c . Top 10 ODI bowlers along with the records of their team and rating."
   ]
  },
  {
   "cell_type": "code",
   "execution_count": 72,
   "id": "7e840f63",
   "metadata": {},
   "outputs": [
    {
     "data": {
      "text/plain": [
       "<Response [200]>"
      ]
     },
     "execution_count": 72,
     "metadata": {},
     "output_type": "execute_result"
    }
   ],
   "source": [
    "url='https://sports.ndtv.com/cricket/icc-rankings/odi-bowling'\n",
    "page=requests.get(url)\n",
    "page"
   ]
  },
  {
   "cell_type": "code",
   "execution_count": null,
   "id": "13a39c4a",
   "metadata": {},
   "outputs": [],
   "source": [
    "soup=BeautifulSoup(page.content)\n",
    "soup"
   ]
  },
  {
   "cell_type": "code",
   "execution_count": 74,
   "id": "58c211be",
   "metadata": {},
   "outputs": [
    {
     "data": {
      "text/plain": [
       "['Keshav Maharaj',\n",
       " 'Josh Hazlewood',\n",
       " 'Adam Zampa',\n",
       " 'Mohammed Siraj',\n",
       " 'Jasprit Bumrah',\n",
       " 'Mohammad Nabi',\n",
       " 'Shaheen Afridi',\n",
       " 'Rashid Khan',\n",
       " 'Kuldeep Yadav',\n",
       " 'Trent Boult']"
      ]
     },
     "execution_count": 74,
     "metadata": {},
     "output_type": "execute_result"
    }
   ],
   "source": [
    "p_name=[]\n",
    "name=soup.find_all('span',class_='rnk_tbl-nm')\n",
    "for i in name:\n",
    "    name=i.a.text.replace('\\n',\"\")\n",
    "    p_name.append(name)\n",
    "p_name=p_name[0:10]\n",
    "p_name"
   ]
  },
  {
   "cell_type": "code",
   "execution_count": 75,
   "id": "42f02422",
   "metadata": {},
   "outputs": [
    {
     "data": {
      "text/plain": [
       "['South Africa',\n",
       " 'Australia',\n",
       " 'Australia',\n",
       " 'India',\n",
       " 'India',\n",
       " 'Afghanistan',\n",
       " 'Pakistan',\n",
       " 'Afghanistan',\n",
       " 'India',\n",
       " 'New Zealand']"
      ]
     },
     "execution_count": 75,
     "metadata": {},
     "output_type": "execute_result"
    }
   ],
   "source": [
    "country=[]\n",
    "name=soup.find_all('span',class_='rnk_tbl-tm')\n",
    "for i in name:\n",
    "    name=i.text.replace('\\n',\"\")\n",
    "    country.append(name)\n",
    "country=country[0:10]\n",
    "country"
   ]
  },
  {
   "cell_type": "code",
   "execution_count": 76,
   "id": "60ba47b0",
   "metadata": {},
   "outputs": [
    {
     "data": {
      "text/plain": [
       "['716', '688', '686', '678', '665', '653', '650', '647', '645', '643']"
      ]
     },
     "execution_count": 76,
     "metadata": {},
     "output_type": "execute_result"
    }
   ],
   "source": [
    "rating=[]\n",
    "name=soup.find_all('td',class_='rnk_tbl-td rnk_tx-rt')\n",
    "for i in name:\n",
    "    name=i.text.replace('\\n',\"\")\n",
    "    rating.append(name)\n",
    "rating=rating[0:20:2]\n",
    "rating"
   ]
  },
  {
   "cell_type": "code",
   "execution_count": 77,
   "id": "0f0d6605",
   "metadata": {},
   "outputs": [
    {
     "data": {
      "text/html": [
       "<div>\n",
       "<style scoped>\n",
       "    .dataframe tbody tr th:only-of-type {\n",
       "        vertical-align: middle;\n",
       "    }\n",
       "\n",
       "    .dataframe tbody tr th {\n",
       "        vertical-align: top;\n",
       "    }\n",
       "\n",
       "    .dataframe thead th {\n",
       "        text-align: right;\n",
       "    }\n",
       "</style>\n",
       "<table border=\"1\" class=\"dataframe\">\n",
       "  <thead>\n",
       "    <tr style=\"text-align: right;\">\n",
       "      <th></th>\n",
       "      <th>Player Name</th>\n",
       "      <th>Country</th>\n",
       "      <th>Rating</th>\n",
       "    </tr>\n",
       "  </thead>\n",
       "  <tbody>\n",
       "    <tr>\n",
       "      <th>0</th>\n",
       "      <td>Keshav Maharaj</td>\n",
       "      <td>South Africa</td>\n",
       "      <td>716</td>\n",
       "    </tr>\n",
       "    <tr>\n",
       "      <th>1</th>\n",
       "      <td>Josh Hazlewood</td>\n",
       "      <td>Australia</td>\n",
       "      <td>688</td>\n",
       "    </tr>\n",
       "    <tr>\n",
       "      <th>2</th>\n",
       "      <td>Adam Zampa</td>\n",
       "      <td>Australia</td>\n",
       "      <td>686</td>\n",
       "    </tr>\n",
       "    <tr>\n",
       "      <th>3</th>\n",
       "      <td>Mohammed Siraj</td>\n",
       "      <td>India</td>\n",
       "      <td>678</td>\n",
       "    </tr>\n",
       "    <tr>\n",
       "      <th>4</th>\n",
       "      <td>Jasprit Bumrah</td>\n",
       "      <td>India</td>\n",
       "      <td>665</td>\n",
       "    </tr>\n",
       "    <tr>\n",
       "      <th>5</th>\n",
       "      <td>Mohammad Nabi</td>\n",
       "      <td>Afghanistan</td>\n",
       "      <td>653</td>\n",
       "    </tr>\n",
       "    <tr>\n",
       "      <th>6</th>\n",
       "      <td>Shaheen Afridi</td>\n",
       "      <td>Pakistan</td>\n",
       "      <td>650</td>\n",
       "    </tr>\n",
       "    <tr>\n",
       "      <th>7</th>\n",
       "      <td>Rashid Khan</td>\n",
       "      <td>Afghanistan</td>\n",
       "      <td>647</td>\n",
       "    </tr>\n",
       "    <tr>\n",
       "      <th>8</th>\n",
       "      <td>Kuldeep Yadav</td>\n",
       "      <td>India</td>\n",
       "      <td>645</td>\n",
       "    </tr>\n",
       "    <tr>\n",
       "      <th>9</th>\n",
       "      <td>Trent Boult</td>\n",
       "      <td>New Zealand</td>\n",
       "      <td>643</td>\n",
       "    </tr>\n",
       "  </tbody>\n",
       "</table>\n",
       "</div>"
      ],
      "text/plain": [
       "      Player Name       Country Rating\n",
       "0  Keshav Maharaj  South Africa    716\n",
       "1  Josh Hazlewood     Australia    688\n",
       "2      Adam Zampa     Australia    686\n",
       "3  Mohammed Siraj         India    678\n",
       "4  Jasprit Bumrah         India    665\n",
       "5   Mohammad Nabi   Afghanistan    653\n",
       "6  Shaheen Afridi      Pakistan    650\n",
       "7     Rashid Khan   Afghanistan    647\n",
       "8   Kuldeep Yadav         India    645\n",
       "9     Trent Boult   New Zealand    643"
      ]
     },
     "execution_count": 77,
     "metadata": {},
     "output_type": "execute_result"
    }
   ],
   "source": [
    "df=pd.DataFrame({'Player Name':p_name,'Country':country,'Rating':rating})\n",
    "df"
   ]
  },
  {
   "cell_type": "code",
   "execution_count": 1,
   "id": "b6e5a912",
   "metadata": {},
   "outputs": [],
   "source": [
    "# Question 4.Scrap this site  https://www.cnbc.com/world/?region=world headings ,date,News link."
   ]
  },
  {
   "cell_type": "code",
   "execution_count": 4,
   "id": "f5f79c49",
   "metadata": {},
   "outputs": [
    {
     "data": {
      "text/plain": [
       "<Response [200]>"
      ]
     },
     "execution_count": 4,
     "metadata": {},
     "output_type": "execute_result"
    }
   ],
   "source": [
    "url='https://www.cnbc.com/world/?region=world'\n",
    "page=requests.get(url)\n",
    "page"
   ]
  },
  {
   "cell_type": "code",
   "execution_count": null,
   "id": "d0df6842",
   "metadata": {},
   "outputs": [],
   "source": [
    "soup=BeautifulSoup(page.content)\n",
    "soup"
   ]
  },
  {
   "cell_type": "code",
   "execution_count": 7,
   "id": "c95c2e43",
   "metadata": {},
   "outputs": [
    {
     "data": {
      "text/plain": [
       "['3 Hours Ago',\n",
       " '6 Hours Ago',\n",
       " '7 Hours Ago',\n",
       " '7 Hours Ago',\n",
       " '7 Hours Ago',\n",
       " '7 Hours Ago',\n",
       " '8 Hours Ago',\n",
       " '8 Hours Ago',\n",
       " '9 Hours Ago',\n",
       " '10 Hours Ago',\n",
       " '10 Hours Ago',\n",
       " '10 Hours Ago',\n",
       " '11 Hours Ago',\n",
       " '11 Hours Ago',\n",
       " '11 Hours Ago',\n",
       " '12 Hours Ago',\n",
       " '12 Hours Ago',\n",
       " '12 Hours Ago',\n",
       " '12 Hours Ago',\n",
       " '13 Hours Ago',\n",
       " '13 Hours Ago',\n",
       " '13 Hours Ago',\n",
       " '13 Hours Ago',\n",
       " '13 Hours Ago',\n",
       " '13 Hours Ago',\n",
       " '14 Hours Ago',\n",
       " '14 Hours Ago',\n",
       " '14 Hours Ago',\n",
       " '14 Hours Ago',\n",
       " '14 Hours Ago']"
      ]
     },
     "execution_count": 7,
     "metadata": {},
     "output_type": "execute_result"
    }
   ],
   "source": [
    "date=[]\n",
    "name=soup.find_all('span',class_='LatestNews-wrapper')\n",
    "for i in name:\n",
    "    name=i.text\n",
    "    date.append(name)\n",
    "date"
   ]
  },
  {
   "cell_type": "code",
   "execution_count": 18,
   "id": "0e24efd8",
   "metadata": {},
   "outputs": [
    {
     "data": {
      "text/plain": [
       "[\"OpenAI says in memo that Musk's claims ‘stem from Elon’s regrets’ that he's gone\",\n",
       " 'Waymo wins approval to expand robotaxi service in Los Angeles, San Francisco Peninsula',\n",
       " 'CEO explains why RadNet is piloting mammogram screenings in Walmart stores',\n",
       " \"Cramer's Lightning Round: 'Not recommending' Global Net Lease\",\n",
       " \"Cramer's week ahead: Watch for earnings from Target, CrowdStrike, Kroger and more\",\n",
       " 'Super Micro joining S&P 500 after stock price soars more than 20-fold in 2 years',\n",
       " 'Change Healthcare sets up a new electronic prescription service and funding program',\n",
       " 'Lockheed Martin looks to acquire spacecraft maker Terran Orbital for $600M',\n",
       " 'Google Gemini head removes social media profiles after AI product launch',\n",
       " 'Reddit seeking a valuation of up to $6.5 billion in IPO',\n",
       " 'NASA shuts down satellite refueling project after Maxar is cited for poor performance',\n",
       " 'Fed Chair Powell and jobs data take center stage next week on Wall Street',\n",
       " 'Here are the Nasdaq’s most beloved stocks that are expected to rally',\n",
       " \"What worked and didn't work this week from AI and cyber to consumer and gaming\",\n",
       " 'Judge rejects AstraZeneca’s challenge to Medicare drug price negotiations',\n",
       " 'What to know about this hot AI stock up nearly 800% in the past year',\n",
       " 'Dell shares have best day since return to stock market in 2018',\n",
       " \"Appliances don't last like they used to, experts say. Consider this before getting repair\",\n",
       " 'Co-defendant in Sen. Bob Menendez corruption case pleads guilty',\n",
       " 'Stocks making the biggest moves midday: Spirit AeroSystems, Zscaler and more',\n",
       " 'These are the most overbought stocks with the market at a record',\n",
       " \"AI startup Cohere says some rivals build Bugatti sports cars, 'We make F150s'\",\n",
       " 'CVS and Walgreens to start selling abortion pill mifepristone this month\\xa0',\n",
       " '7 places to retire abroad and live comfortably on as little as $1,000/month',\n",
       " 'Couple earns up to $70,000 a month, but still feels stressed about money',\n",
       " \"Wall Street is worried about NYCB's loan losses and deposits as stock sinks \",\n",
       " 'This dividend strategy is swapping out chip stock winner for Starbucks',\n",
       " 'The U.S. national debt is rising by $1 trillion about every 100 days',\n",
       " 'An analyst call on red-hot Broadcom indicates a possible buying opportunity ahead',\n",
       " 'Trump lawyers urge judge to schedule classified documents trial after election']"
      ]
     },
     "execution_count": 18,
     "metadata": {},
     "output_type": "execute_result"
    }
   ],
   "source": [
    "title=[]\n",
    "name=soup.find_all('a',class_='LatestNews-headline')\n",
    "for i in name:\n",
    "    name=i.text\n",
    "    title.append(name)\n",
    "title"
   ]
  },
  {
   "cell_type": "code",
   "execution_count": 19,
   "id": "d6b043e6",
   "metadata": {},
   "outputs": [
    {
     "data": {
      "text/plain": [
       "['https://www.cnbc.com/2024/03/01/openai-says-musk-claims-in-lawsuit-stem-from-elons-regrets-hes-out.html',\n",
       " 'https://www.cnbc.com/2024/03/01/waymo-approved-to-expand-robotaxi-service-in-los-angeles-sf-peninsula.html',\n",
       " 'https://www.cnbc.com/2024/03/01/ceo-explains-why-radnet-is-piloting-mammogram-screenings-in-walmart-stores.html',\n",
       " 'https://www.cnbc.com/2024/03/01/cramers-lightning-round-not-recommending-global-net-lease.html',\n",
       " 'https://www.cnbc.com/2024/03/01/cramers-week-ahead-earnings-from-target-crowdstrike-and-kroger.html',\n",
       " 'https://www.cnbc.com/2024/03/01/super-micro-joining-sp-500-after-20-fold-jump-in-stock-in-two-years.html',\n",
       " 'https://www.cnbc.com/2024/03/01/change-healthcare-new-electronic-prescription-tool-amid-cyberattack.html',\n",
       " 'https://www.cnbc.com/2024/03/01/lockheed-martin-looks-to-acquire-terran-orbital-for-about-600-million.html',\n",
       " 'https://www.cnbc.com/2024/03/01/google-gemini-head-removes-social-media-profiles-after-product-launch.html',\n",
       " 'https://www.cnbc.com/2024/03/01/reddit-seeking-a-valuation-of-up-to-6point5-billion-in-ipo.html',\n",
       " 'https://www.cnbc.com/2024/03/01/nasa-shuts-down-maxar-led-osam-1-satellite-refueling-project.html',\n",
       " 'https://www.cnbc.com/2024/03/01/fed-chair-powell-and-jobs-data-take-center-stage-next-week-on-wall-street.html',\n",
       " 'https://www.cnbc.com/2024/03/01/the-nasdaqs-most-beloved-stocks-that-are-expected-to-rally.html',\n",
       " 'https://www.cnbc.com/2024/03/01/what-worked-didnt-work-this-week-salesforce-palo-alto-and-apple-wynn.html',\n",
       " 'https://www.cnbc.com/2024/03/01/medicare-drug-price-negotiations-judge-rejects-astrazeneca-challenge.html',\n",
       " 'https://www.cnbc.com/2024/03/01/people-didnt-see-it-coming-what-to-know-about-this-hot-ai-stock-up-nearly-800percent-in-the-past-year.html',\n",
       " 'https://www.cnbc.com/2024/03/01/dell-shares-have-best-day-since-return-to-stock-market-in-2018.html',\n",
       " 'https://www.cnbc.com/2024/03/01/household-appliances-cost-more-but-dont-last-like-they-used-to.html',\n",
       " 'https://www.cnbc.com/2024/03/01/co-defendant-in-sen-bob-menendez-corruption-case-pleads-guilty.html',\n",
       " 'https://www.cnbc.com/2024/03/01/stocks-making-the-biggest-moves-midday-spr-zs-dell-amd-and-more.html',\n",
       " 'https://www.cnbc.com/2024/03/01/these-are-the-most-overbought-stocks-with-the-market-at-a-record-including-general-electric.html',\n",
       " 'https://www.cnbc.com/2024/03/01/cohere-says-rivals-are-building-bugatti-sports-cars-we-make-f150s.html',\n",
       " 'https://www.cnbc.com/2024/03/01/cvs-walgreens-to-start-selling-abortion-pill-mifepristone-this-month-.html',\n",
       " 'https://www.cnbc.com/2024/03/01/us-news-world-report-most-affordable-places-retire-abroad.html',\n",
       " 'https://www.cnbc.com/2024/03/01/why-couple-worth-1point3-million-dollars-still-feels-broke.html',\n",
       " 'https://www.cnbc.com/2024/03/01/wall-street-worries-about-nycbs-loan-losses-and-deposit-levels.html',\n",
       " 'https://www.cnbc.com/2024/03/01/this-dividend-strategy-is-swapping-out-a-chip-stock-winner-for-starbucks-heres-why.html',\n",
       " 'https://www.cnbc.com/2024/03/01/the-us-national-debt-is-rising-by-1-trillion-about-every-100-days.html',\n",
       " 'https://www.cnbc.com/2024/03/01/an-analyst-call-on-red-hot-broadcom-indicates-a-possible-buying-opportunity-ahead.html',\n",
       " 'https://www.cnbc.com/2024/03/01/trump-lawyers-want-classified-documents-trial-after-election.html']"
      ]
     },
     "execution_count": 19,
     "metadata": {},
     "output_type": "execute_result"
    }
   ],
   "source": [
    "links=[]\n",
    "name=soup.find_all('a',class_='LatestNews-headline')\n",
    "for i in name:\n",
    "    name=i['href']\n",
    "    links.append(name)\n",
    "links"
   ]
  },
  {
   "cell_type": "code",
   "execution_count": 21,
   "id": "f80ffd05",
   "metadata": {},
   "outputs": [
    {
     "name": "stdout",
     "output_type": "stream",
     "text": [
      "                                             Headings          Date  \\\n",
      "0   OpenAI says in memo that Musk's claims ‘stem f...   3 Hours Ago   \n",
      "1   Waymo wins approval to expand robotaxi service...   6 Hours Ago   \n",
      "2   CEO explains why RadNet is piloting mammogram ...   7 Hours Ago   \n",
      "3   Cramer's Lightning Round: 'Not recommending' G...   7 Hours Ago   \n",
      "4   Cramer's week ahead: Watch for earnings from T...   7 Hours Ago   \n",
      "5   Super Micro joining S&P 500 after stock price ...   7 Hours Ago   \n",
      "6   Change Healthcare sets up a new electronic pre...   8 Hours Ago   \n",
      "7   Lockheed Martin looks to acquire spacecraft ma...   8 Hours Ago   \n",
      "8   Google Gemini head removes social media profil...   9 Hours Ago   \n",
      "9   Reddit seeking a valuation of up to $6.5 billi...  10 Hours Ago   \n",
      "10  NASA shuts down satellite refueling project af...  10 Hours Ago   \n",
      "11  Fed Chair Powell and jobs data take center sta...  10 Hours Ago   \n",
      "12  Here are the Nasdaq’s most beloved stocks that...  11 Hours Ago   \n",
      "13  What worked and didn't work this week from AI ...  11 Hours Ago   \n",
      "14  Judge rejects AstraZeneca’s challenge to Medic...  11 Hours Ago   \n",
      "15  What to know about this hot AI stock up nearly...  12 Hours Ago   \n",
      "16  Dell shares have best day since return to stoc...  12 Hours Ago   \n",
      "17  Appliances don't last like they used to, exper...  12 Hours Ago   \n",
      "18  Co-defendant in Sen. Bob Menendez corruption c...  12 Hours Ago   \n",
      "19  Stocks making the biggest moves midday: Spirit...  13 Hours Ago   \n",
      "20  These are the most overbought stocks with the ...  13 Hours Ago   \n",
      "21  AI startup Cohere says some rivals build Bugat...  13 Hours Ago   \n",
      "22  CVS and Walgreens to start selling abortion pi...  13 Hours Ago   \n",
      "23  7 places to retire abroad and live comfortably...  13 Hours Ago   \n",
      "24  Couple earns up to $70,000 a month, but still ...  13 Hours Ago   \n",
      "25  Wall Street is worried about NYCB's loan losse...  14 Hours Ago   \n",
      "26  This dividend strategy is swapping out chip st...  14 Hours Ago   \n",
      "27  The U.S. national debt is rising by $1 trillio...  14 Hours Ago   \n",
      "28  An analyst call on red-hot Broadcom indicates ...  14 Hours Ago   \n",
      "29  Trump lawyers urge judge to schedule classifie...  14 Hours Ago   \n",
      "\n",
      "                                           News Links  \n",
      "0   https://www.cnbc.com/2024/03/01/openai-says-mu...  \n",
      "1   https://www.cnbc.com/2024/03/01/waymo-approved...  \n",
      "2   https://www.cnbc.com/2024/03/01/ceo-explains-w...  \n",
      "3   https://www.cnbc.com/2024/03/01/cramers-lightn...  \n",
      "4   https://www.cnbc.com/2024/03/01/cramers-week-a...  \n",
      "5   https://www.cnbc.com/2024/03/01/super-micro-jo...  \n",
      "6   https://www.cnbc.com/2024/03/01/change-healthc...  \n",
      "7   https://www.cnbc.com/2024/03/01/lockheed-marti...  \n",
      "8   https://www.cnbc.com/2024/03/01/google-gemini-...  \n",
      "9   https://www.cnbc.com/2024/03/01/reddit-seeking...  \n",
      "10  https://www.cnbc.com/2024/03/01/nasa-shuts-dow...  \n",
      "11  https://www.cnbc.com/2024/03/01/fed-chair-powe...  \n",
      "12  https://www.cnbc.com/2024/03/01/the-nasdaqs-mo...  \n",
      "13  https://www.cnbc.com/2024/03/01/what-worked-di...  \n",
      "14  https://www.cnbc.com/2024/03/01/medicare-drug-...  \n",
      "15  https://www.cnbc.com/2024/03/01/people-didnt-s...  \n",
      "16  https://www.cnbc.com/2024/03/01/dell-shares-ha...  \n",
      "17  https://www.cnbc.com/2024/03/01/household-appl...  \n",
      "18  https://www.cnbc.com/2024/03/01/co-defendant-i...  \n",
      "19  https://www.cnbc.com/2024/03/01/stocks-making-...  \n",
      "20  https://www.cnbc.com/2024/03/01/these-are-the-...  \n",
      "21  https://www.cnbc.com/2024/03/01/cohere-says-ri...  \n",
      "22  https://www.cnbc.com/2024/03/01/cvs-walgreens-...  \n",
      "23  https://www.cnbc.com/2024/03/01/us-news-world-...  \n",
      "24  https://www.cnbc.com/2024/03/01/why-couple-wor...  \n",
      "25  https://www.cnbc.com/2024/03/01/wall-street-wo...  \n",
      "26  https://www.cnbc.com/2024/03/01/this-dividend-...  \n",
      "27  https://www.cnbc.com/2024/03/01/the-us-nationa...  \n",
      "28  https://www.cnbc.com/2024/03/01/an-analyst-cal...  \n",
      "29  https://www.cnbc.com/2024/03/01/trump-lawyers-...  \n"
     ]
    }
   ],
   "source": [
    "df=pd.DataFrame({'Headings':title,\"Date\":date,'News Links':links})\n",
    "print(df)"
   ]
  },
  {
   "cell_type": "code",
   "execution_count": 78,
   "id": "a82d3561",
   "metadata": {},
   "outputs": [],
   "source": [
    "# Question 5. Write a python program to scrape house details from mentioned URL. It should include house title, location,\n",
    "#area, deposits and price from https://www.nobroker.in/ .Enter three localities which are Indira Nagar, Jayanagar,\n",
    "#Rajaji Nagar."
   ]
  },
  {
   "cell_type": "code",
   "execution_count": 59,
   "id": "9037f94b",
   "metadata": {},
   "outputs": [
    {
     "data": {
      "text/plain": [
       "<Response [200]>"
      ]
     },
     "execution_count": 59,
     "metadata": {},
     "output_type": "execute_result"
    }
   ],
   "source": [
    "url='https://www.nobroker.in/property/rent/chennai/Chennai/?searchParam=W3sibGF0IjoxMy4wNDM3NjEyODI5MTkyLCJsb24iOjgwLjIwMDA2ODUxNjk2OTMsInNob3dNYXAiOmZhbHNlLCJwbGFjZUlkIjoiQ2hJSllUTjlULXBsVWpvUk05UmphQXVuWVc0IiwicGxhY2VOYW1lIjoiQ2hlbm5haSIsImNpdHkiOiJjaGVubmFpIn1d&sharedAccomodation=0&orderBy=nbRank,desc&radius=2&traffic=true&travelTime=30&propertyType=rent&pageNo1'\n",
    "page=requests.get(url)\n",
    "page"
   ]
  },
  {
   "cell_type": "code",
   "execution_count": null,
   "id": "2106bf6c",
   "metadata": {},
   "outputs": [],
   "source": [
    "soup=BeautifulSoup(page.content)\n",
    "soup"
   ]
  },
  {
   "cell_type": "code",
   "execution_count": 70,
   "id": "cf127901",
   "metadata": {},
   "outputs": [
    {
     "data": {
      "text/plain": [
       "['1 BHK House for Rent  In Saidapet Chennai',\n",
       " '2 BHK House for Rent  In Royapuram Chennai',\n",
       " '3 BHK Flat for Rent  In Thoraipakkam Chennai',\n",
       " '1 BHK House for Rent  In Purasaiwakkam Chennai',\n",
       " '1 RK Flat In Own for Rent  In Vadapalani Chennai',\n",
       " '2 BHK House for Rent  In  Chromepet Chennai',\n",
       " '3 BHK Flat In Madhurams Anugraha for Rent  In Shastri Nagar, Adyar Chennai',\n",
       " '2 BHK House for Rent  In Thiruvottiyur Chennai',\n",
       " '2 BHK Flat In Subhav Apartments for Rent  In Nungambakkam Chennai',\n",
       " '2 BHK House for Rent  In Kallikuppam Chennai',\n",
       " '2 BHK Flat In Parthan for Rent  In Purasaiwakkam Chennai',\n",
       " '1 BHK House for Rent  In Iyappanthangal Chennai',\n",
       " '2 BHK Flat In Eloi Flats for Lease  In Palaniappa Nagar, Madhavaram Chennai',\n",
       " '2 BHK House for Rent  In Velachery Chennai',\n",
       " '2 BHK Flat In Apartment for Rent  In Saligramam Chennai',\n",
       " '3 BHK Flat In Acchyuthans Sri Sudharsana for Rent  In Nanganallur Chennai',\n",
       " '2 BHK Flat In Prithvi Apartment for Rent  In Virugambakkam Chennai',\n",
       " '2 BHK Flat In Swaminathan Illam for Rent  In Padi Chennai',\n",
       " '1 RK House for Rent  In Maduravoyal Chennai',\n",
       " '2 BHK House for Rent  In Saidapet Metro Chennai',\n",
       " '2 BHK Flat In Sp Flats for Rent  In Thirumugan Street, Keelkattalai Chennai',\n",
       " '3 BHK Flat In Shri Sai Nivas for Rent  In , Porur Chennai',\n",
       " '2 BHK House for Rent  In K. K. Nagar Chennai',\n",
       " '2 BHK House for Rent  In Velachery Chennai',\n",
       " '2 BHK House for Rent  In Pallikaranai Chennai',\n",
       " '1 BHK House for Rent  In Saidapet Chennai']"
      ]
     },
     "execution_count": 70,
     "metadata": {},
     "output_type": "execute_result"
    }
   ],
   "source": [
    "title=[]\n",
    "name=soup.find_all('h2',class_='heading-6 flex items-center font-semi-bold m-0')\n",
    "for i in name:\n",
    "    name=i.text\n",
    "    title.append(name)\n",
    "title"
   ]
  },
  {
   "cell_type": "code",
   "execution_count": 71,
   "id": "d2e42f45",
   "metadata": {},
   "outputs": [
    {
     "data": {
      "text/plain": [
       "['₹ 9,000 +₹ 500Maintenance',\n",
       " '₹ 17,000No Extra Maintenance',\n",
       " '₹ 28,000 +₹ 1,000Maintenance',\n",
       " '₹ 11,000 +₹ 500Maintenance',\n",
       " '₹ 10,000 +₹ 1,000Maintenance',\n",
       " '₹ 15,500No Extra Maintenance',\n",
       " '₹ 45,000No Extra Maintenance',\n",
       " '₹ 10,000 +₹ 200Maintenance',\n",
       " '₹ 25,000 +₹ 600Maintenance',\n",
       " '₹ 6,500No Extra Maintenance',\n",
       " '₹ 17,000 +₹ 1,800Maintenance',\n",
       " '₹ 12,000No Extra Maintenance',\n",
       " 'Only Deposit +₹ 1,000Maintenance',\n",
       " '₹ 12,000No Extra Maintenance',\n",
       " '₹ 17,000 +₹ 1,000Maintenance',\n",
       " '₹ 25,000 +₹ 2,000Maintenance',\n",
       " '₹ 17,600 +₹ 1,200Maintenance',\n",
       " '₹ 14,000 +₹ 1,000Maintenance',\n",
       " '₹ 13,000No Extra Maintenance',\n",
       " '₹ 18,000 +₹ 500Maintenance',\n",
       " '₹ 12,000No Extra Maintenance',\n",
       " '₹ 20,000No Extra Maintenance',\n",
       " '₹ 22,000No Extra Maintenance',\n",
       " '₹ 15,000No Extra Maintenance',\n",
       " '₹ 13,000No Extra Maintenance',\n",
       " '₹ 9,000 +₹ 500Maintenance']"
      ]
     },
     "execution_count": 71,
     "metadata": {},
     "output_type": "execute_result"
    }
   ],
   "source": [
    "price=[]\n",
    "name=soup.find_all('div',class_='font-semi-bold heading-6')\n",
    "for i in name:\n",
    "    name=i.text\n",
    "    price.append(name)\n",
    "price=price[0:100:3]\n",
    "price\n"
   ]
  },
  {
   "cell_type": "code",
   "execution_count": 72,
   "id": "be0d388c",
   "metadata": {},
   "outputs": [
    {
     "name": "stdout",
     "output_type": "stream",
     "text": [
      "['₹50,000', '₹85,000', '₹1,50,000', '₹1,00,000', '₹50,000', '₹1,00,000', '₹2,00,000', '₹70,000', '₹2,00,000', '₹30,000', '₹1,50,000', '₹50,000', '₹13,00,000', '₹30,000', '₹1,00,000', '₹1,50,000', '₹1,00,000', '₹1,00,000', '₹50,000', '₹1,00,000', '₹60,000', '₹1,00,000', '₹1,32,000', '₹1,00,000', '₹78,000', '₹50,000']\n"
     ]
    },
    {
     "data": {
      "text/plain": [
       "26"
      ]
     },
     "execution_count": 72,
     "metadata": {},
     "output_type": "execute_result"
    }
   ],
   "source": [
    "Deposit=[]\n",
    "name=soup.find_all('div',class_='font-semi-bold heading-6')\n",
    "for i in name:\n",
    "    name=i.text\n",
    "    Deposit.append(name)\n",
    "Deposit=Deposit[1:100:3]\n",
    "print(Deposit)\n",
    "len(Deposit)"
   ]
  },
  {
   "cell_type": "code",
   "execution_count": 73,
   "id": "b9e35c03",
   "metadata": {},
   "outputs": [
    {
     "name": "stdout",
     "output_type": "stream",
     "text": [
      "['400 sqft', '1,000 sqft', '1,400 sqft', '500 sqft', '400 sqft', '1,200 sqft', '1,500 sqft', '800 sqft', '760 sqft', '600 sqft', '1,000 sqft', '700 sqft', '740 sqft', '600 sqft', '1,100 sqft', '1,250 sqft', '756 sqft', '700 sqft', '360 sqft', '950 sqft', '820 sqft', '1,100 sqft', '900 sqft', '600 sqft', '990 sqft', '400 sqft']\n"
     ]
    },
    {
     "data": {
      "text/plain": [
       "26"
      ]
     },
     "execution_count": 73,
     "metadata": {},
     "output_type": "execute_result"
    }
   ],
   "source": [
    "area_in_sqft=[]\n",
    "name=soup.find_all('div',class_='font-semi-bold heading-6')\n",
    "for i in name:\n",
    "    name=i.text\n",
    "    area_in_sqft.append(name)\n",
    "area_in_sqft=area_in_sqft[2:100:3]\n",
    "print(area_in_sqft)\n",
    "len(area_in_sqft)"
   ]
  },
  {
   "cell_type": "code",
   "execution_count": 77,
   "id": "c6088f17",
   "metadata": {},
   "outputs": [
    {
     "data": {
      "text/html": [
       "<div>\n",
       "<style scoped>\n",
       "    .dataframe tbody tr th:only-of-type {\n",
       "        vertical-align: middle;\n",
       "    }\n",
       "\n",
       "    .dataframe tbody tr th {\n",
       "        vertical-align: top;\n",
       "    }\n",
       "\n",
       "    .dataframe thead th {\n",
       "        text-align: right;\n",
       "    }\n",
       "</style>\n",
       "<table border=\"1\" class=\"dataframe\">\n",
       "  <thead>\n",
       "    <tr style=\"text-align: right;\">\n",
       "      <th></th>\n",
       "      <th>Area/Title</th>\n",
       "      <th>Price</th>\n",
       "      <th>Deposits</th>\n",
       "      <th>Area in sqft</th>\n",
       "    </tr>\n",
       "  </thead>\n",
       "  <tbody>\n",
       "    <tr>\n",
       "      <th>0</th>\n",
       "      <td>1 BHK House for Rent  In Saidapet Chennai</td>\n",
       "      <td>₹ 9,000 +₹ 500Maintenance</td>\n",
       "      <td>₹50,000</td>\n",
       "      <td>400 sqft</td>\n",
       "    </tr>\n",
       "    <tr>\n",
       "      <th>1</th>\n",
       "      <td>2 BHK House for Rent  In Royapuram Chennai</td>\n",
       "      <td>₹ 17,000No Extra Maintenance</td>\n",
       "      <td>₹85,000</td>\n",
       "      <td>1,000 sqft</td>\n",
       "    </tr>\n",
       "    <tr>\n",
       "      <th>2</th>\n",
       "      <td>3 BHK Flat for Rent  In Thoraipakkam Chennai</td>\n",
       "      <td>₹ 28,000 +₹ 1,000Maintenance</td>\n",
       "      <td>₹1,50,000</td>\n",
       "      <td>1,400 sqft</td>\n",
       "    </tr>\n",
       "    <tr>\n",
       "      <th>3</th>\n",
       "      <td>1 BHK House for Rent  In Purasaiwakkam Chennai</td>\n",
       "      <td>₹ 11,000 +₹ 500Maintenance</td>\n",
       "      <td>₹1,00,000</td>\n",
       "      <td>500 sqft</td>\n",
       "    </tr>\n",
       "    <tr>\n",
       "      <th>4</th>\n",
       "      <td>1 RK Flat In Own for Rent  In Vadapalani Chennai</td>\n",
       "      <td>₹ 10,000 +₹ 1,000Maintenance</td>\n",
       "      <td>₹50,000</td>\n",
       "      <td>400 sqft</td>\n",
       "    </tr>\n",
       "    <tr>\n",
       "      <th>5</th>\n",
       "      <td>2 BHK House for Rent  In  Chromepet Chennai</td>\n",
       "      <td>₹ 15,500No Extra Maintenance</td>\n",
       "      <td>₹1,00,000</td>\n",
       "      <td>1,200 sqft</td>\n",
       "    </tr>\n",
       "    <tr>\n",
       "      <th>6</th>\n",
       "      <td>3 BHK Flat In Madhurams Anugraha for Rent  In ...</td>\n",
       "      <td>₹ 45,000No Extra Maintenance</td>\n",
       "      <td>₹2,00,000</td>\n",
       "      <td>1,500 sqft</td>\n",
       "    </tr>\n",
       "    <tr>\n",
       "      <th>7</th>\n",
       "      <td>2 BHK House for Rent  In Thiruvottiyur Chennai</td>\n",
       "      <td>₹ 10,000 +₹ 200Maintenance</td>\n",
       "      <td>₹70,000</td>\n",
       "      <td>800 sqft</td>\n",
       "    </tr>\n",
       "    <tr>\n",
       "      <th>8</th>\n",
       "      <td>2 BHK Flat In Subhav Apartments for Rent  In N...</td>\n",
       "      <td>₹ 25,000 +₹ 600Maintenance</td>\n",
       "      <td>₹2,00,000</td>\n",
       "      <td>760 sqft</td>\n",
       "    </tr>\n",
       "    <tr>\n",
       "      <th>9</th>\n",
       "      <td>2 BHK House for Rent  In Kallikuppam Chennai</td>\n",
       "      <td>₹ 6,500No Extra Maintenance</td>\n",
       "      <td>₹30,000</td>\n",
       "      <td>600 sqft</td>\n",
       "    </tr>\n",
       "    <tr>\n",
       "      <th>10</th>\n",
       "      <td>2 BHK Flat In Parthan for Rent  In Purasaiwakk...</td>\n",
       "      <td>₹ 17,000 +₹ 1,800Maintenance</td>\n",
       "      <td>₹1,50,000</td>\n",
       "      <td>1,000 sqft</td>\n",
       "    </tr>\n",
       "    <tr>\n",
       "      <th>11</th>\n",
       "      <td>1 BHK House for Rent  In Iyappanthangal Chennai</td>\n",
       "      <td>₹ 12,000No Extra Maintenance</td>\n",
       "      <td>₹50,000</td>\n",
       "      <td>700 sqft</td>\n",
       "    </tr>\n",
       "    <tr>\n",
       "      <th>12</th>\n",
       "      <td>2 BHK Flat In Eloi Flats for Lease  In Palania...</td>\n",
       "      <td>Only Deposit +₹ 1,000Maintenance</td>\n",
       "      <td>₹13,00,000</td>\n",
       "      <td>740 sqft</td>\n",
       "    </tr>\n",
       "    <tr>\n",
       "      <th>13</th>\n",
       "      <td>2 BHK House for Rent  In Velachery Chennai</td>\n",
       "      <td>₹ 12,000No Extra Maintenance</td>\n",
       "      <td>₹30,000</td>\n",
       "      <td>600 sqft</td>\n",
       "    </tr>\n",
       "    <tr>\n",
       "      <th>14</th>\n",
       "      <td>2 BHK Flat In Apartment for Rent  In Saligrama...</td>\n",
       "      <td>₹ 17,000 +₹ 1,000Maintenance</td>\n",
       "      <td>₹1,00,000</td>\n",
       "      <td>1,100 sqft</td>\n",
       "    </tr>\n",
       "    <tr>\n",
       "      <th>15</th>\n",
       "      <td>3 BHK Flat In Acchyuthans Sri Sudharsana for R...</td>\n",
       "      <td>₹ 25,000 +₹ 2,000Maintenance</td>\n",
       "      <td>₹1,50,000</td>\n",
       "      <td>1,250 sqft</td>\n",
       "    </tr>\n",
       "    <tr>\n",
       "      <th>16</th>\n",
       "      <td>2 BHK Flat In Prithvi Apartment for Rent  In V...</td>\n",
       "      <td>₹ 17,600 +₹ 1,200Maintenance</td>\n",
       "      <td>₹1,00,000</td>\n",
       "      <td>756 sqft</td>\n",
       "    </tr>\n",
       "    <tr>\n",
       "      <th>17</th>\n",
       "      <td>2 BHK Flat In Swaminathan Illam for Rent  In P...</td>\n",
       "      <td>₹ 14,000 +₹ 1,000Maintenance</td>\n",
       "      <td>₹1,00,000</td>\n",
       "      <td>700 sqft</td>\n",
       "    </tr>\n",
       "    <tr>\n",
       "      <th>18</th>\n",
       "      <td>1 RK House for Rent  In Maduravoyal Chennai</td>\n",
       "      <td>₹ 13,000No Extra Maintenance</td>\n",
       "      <td>₹50,000</td>\n",
       "      <td>360 sqft</td>\n",
       "    </tr>\n",
       "    <tr>\n",
       "      <th>19</th>\n",
       "      <td>2 BHK House for Rent  In Saidapet Metro Chennai</td>\n",
       "      <td>₹ 18,000 +₹ 500Maintenance</td>\n",
       "      <td>₹1,00,000</td>\n",
       "      <td>950 sqft</td>\n",
       "    </tr>\n",
       "    <tr>\n",
       "      <th>20</th>\n",
       "      <td>2 BHK Flat In Sp Flats for Rent  In Thirumugan...</td>\n",
       "      <td>₹ 12,000No Extra Maintenance</td>\n",
       "      <td>₹60,000</td>\n",
       "      <td>820 sqft</td>\n",
       "    </tr>\n",
       "    <tr>\n",
       "      <th>21</th>\n",
       "      <td>3 BHK Flat In Shri Sai Nivas for Rent  In , Po...</td>\n",
       "      <td>₹ 20,000No Extra Maintenance</td>\n",
       "      <td>₹1,00,000</td>\n",
       "      <td>1,100 sqft</td>\n",
       "    </tr>\n",
       "    <tr>\n",
       "      <th>22</th>\n",
       "      <td>2 BHK House for Rent  In K. K. Nagar Chennai</td>\n",
       "      <td>₹ 22,000No Extra Maintenance</td>\n",
       "      <td>₹1,32,000</td>\n",
       "      <td>900 sqft</td>\n",
       "    </tr>\n",
       "    <tr>\n",
       "      <th>23</th>\n",
       "      <td>2 BHK House for Rent  In Velachery Chennai</td>\n",
       "      <td>₹ 15,000No Extra Maintenance</td>\n",
       "      <td>₹1,00,000</td>\n",
       "      <td>600 sqft</td>\n",
       "    </tr>\n",
       "    <tr>\n",
       "      <th>24</th>\n",
       "      <td>2 BHK House for Rent  In Pallikaranai Chennai</td>\n",
       "      <td>₹ 13,000No Extra Maintenance</td>\n",
       "      <td>₹78,000</td>\n",
       "      <td>990 sqft</td>\n",
       "    </tr>\n",
       "    <tr>\n",
       "      <th>25</th>\n",
       "      <td>1 BHK House for Rent  In Saidapet Chennai</td>\n",
       "      <td>₹ 9,000 +₹ 500Maintenance</td>\n",
       "      <td>₹50,000</td>\n",
       "      <td>400 sqft</td>\n",
       "    </tr>\n",
       "  </tbody>\n",
       "</table>\n",
       "</div>"
      ],
      "text/plain": [
       "                                           Area/Title  \\\n",
       "0           1 BHK House for Rent  In Saidapet Chennai   \n",
       "1          2 BHK House for Rent  In Royapuram Chennai   \n",
       "2        3 BHK Flat for Rent  In Thoraipakkam Chennai   \n",
       "3      1 BHK House for Rent  In Purasaiwakkam Chennai   \n",
       "4    1 RK Flat In Own for Rent  In Vadapalani Chennai   \n",
       "5         2 BHK House for Rent  In  Chromepet Chennai   \n",
       "6   3 BHK Flat In Madhurams Anugraha for Rent  In ...   \n",
       "7      2 BHK House for Rent  In Thiruvottiyur Chennai   \n",
       "8   2 BHK Flat In Subhav Apartments for Rent  In N...   \n",
       "9        2 BHK House for Rent  In Kallikuppam Chennai   \n",
       "10  2 BHK Flat In Parthan for Rent  In Purasaiwakk...   \n",
       "11    1 BHK House for Rent  In Iyappanthangal Chennai   \n",
       "12  2 BHK Flat In Eloi Flats for Lease  In Palania...   \n",
       "13         2 BHK House for Rent  In Velachery Chennai   \n",
       "14  2 BHK Flat In Apartment for Rent  In Saligrama...   \n",
       "15  3 BHK Flat In Acchyuthans Sri Sudharsana for R...   \n",
       "16  2 BHK Flat In Prithvi Apartment for Rent  In V...   \n",
       "17  2 BHK Flat In Swaminathan Illam for Rent  In P...   \n",
       "18        1 RK House for Rent  In Maduravoyal Chennai   \n",
       "19    2 BHK House for Rent  In Saidapet Metro Chennai   \n",
       "20  2 BHK Flat In Sp Flats for Rent  In Thirumugan...   \n",
       "21  3 BHK Flat In Shri Sai Nivas for Rent  In , Po...   \n",
       "22       2 BHK House for Rent  In K. K. Nagar Chennai   \n",
       "23         2 BHK House for Rent  In Velachery Chennai   \n",
       "24      2 BHK House for Rent  In Pallikaranai Chennai   \n",
       "25          1 BHK House for Rent  In Saidapet Chennai   \n",
       "\n",
       "                               Price    Deposits Area in sqft  \n",
       "0          ₹ 9,000 +₹ 500Maintenance     ₹50,000     400 sqft  \n",
       "1       ₹ 17,000No Extra Maintenance     ₹85,000   1,000 sqft  \n",
       "2       ₹ 28,000 +₹ 1,000Maintenance   ₹1,50,000   1,400 sqft  \n",
       "3         ₹ 11,000 +₹ 500Maintenance   ₹1,00,000     500 sqft  \n",
       "4       ₹ 10,000 +₹ 1,000Maintenance     ₹50,000     400 sqft  \n",
       "5       ₹ 15,500No Extra Maintenance   ₹1,00,000   1,200 sqft  \n",
       "6       ₹ 45,000No Extra Maintenance   ₹2,00,000   1,500 sqft  \n",
       "7         ₹ 10,000 +₹ 200Maintenance     ₹70,000     800 sqft  \n",
       "8         ₹ 25,000 +₹ 600Maintenance   ₹2,00,000     760 sqft  \n",
       "9        ₹ 6,500No Extra Maintenance     ₹30,000     600 sqft  \n",
       "10      ₹ 17,000 +₹ 1,800Maintenance   ₹1,50,000   1,000 sqft  \n",
       "11      ₹ 12,000No Extra Maintenance     ₹50,000     700 sqft  \n",
       "12  Only Deposit +₹ 1,000Maintenance  ₹13,00,000     740 sqft  \n",
       "13      ₹ 12,000No Extra Maintenance     ₹30,000     600 sqft  \n",
       "14      ₹ 17,000 +₹ 1,000Maintenance   ₹1,00,000   1,100 sqft  \n",
       "15      ₹ 25,000 +₹ 2,000Maintenance   ₹1,50,000   1,250 sqft  \n",
       "16      ₹ 17,600 +₹ 1,200Maintenance   ₹1,00,000     756 sqft  \n",
       "17      ₹ 14,000 +₹ 1,000Maintenance   ₹1,00,000     700 sqft  \n",
       "18      ₹ 13,000No Extra Maintenance     ₹50,000     360 sqft  \n",
       "19        ₹ 18,000 +₹ 500Maintenance   ₹1,00,000     950 sqft  \n",
       "20      ₹ 12,000No Extra Maintenance     ₹60,000     820 sqft  \n",
       "21      ₹ 20,000No Extra Maintenance   ₹1,00,000   1,100 sqft  \n",
       "22      ₹ 22,000No Extra Maintenance   ₹1,32,000     900 sqft  \n",
       "23      ₹ 15,000No Extra Maintenance   ₹1,00,000     600 sqft  \n",
       "24      ₹ 13,000No Extra Maintenance     ₹78,000     990 sqft  \n",
       "25         ₹ 9,000 +₹ 500Maintenance     ₹50,000     400 sqft  "
      ]
     },
     "execution_count": 77,
     "metadata": {},
     "output_type": "execute_result"
    }
   ],
   "source": [
    "df=pd.DataFrame({\"Area/Title\":title,'Price':price,\"Deposits\":Deposit,\"Area in sqft\":area_in_sqft})\n",
    "df"
   ]
  },
  {
   "cell_type": "code",
   "execution_count": 47,
   "id": "d26c2589",
   "metadata": {},
   "outputs": [],
   "source": [
    "# Question 6\n",
    "#Write a python program to scrape first 10 product details which include product name , price , Image URL from\n",
    "#https://www.bewakoof.com/bestseller?sort=popular "
   ]
  },
  {
   "cell_type": "code",
   "execution_count": 39,
   "id": "036232ca",
   "metadata": {},
   "outputs": [
    {
     "data": {
      "text/plain": [
       "<Response [200]>"
      ]
     },
     "execution_count": 39,
     "metadata": {},
     "output_type": "execute_result"
    }
   ],
   "source": [
    "url='https://www.bewakoof.com/bestseller?sort=popular'\n",
    "page=requests.get(url)\n",
    "page"
   ]
  },
  {
   "cell_type": "code",
   "execution_count": null,
   "id": "30109a79",
   "metadata": {},
   "outputs": [],
   "source": [
    "soup=BeautifulSoup(page.content)\n",
    "soup"
   ]
  },
  {
   "cell_type": "code",
   "execution_count": 41,
   "id": "44f562d4",
   "metadata": {},
   "outputs": [
    {
     "name": "stdout",
     "output_type": "stream",
     "text": [
      "[\"Women's Orange All Over Printed Pyjamas\", \"Women's Black Pyjamas\", \"Men's Black T-shirt\", \"Men's White T-shirt\", \"Women's Red Boyfriend T-shirt\", \"Men's Sage Green Trousers\", \"Men's Desert Beige Trousers\", \"Men's Dark Olive Trousers\", \"Women's Purple Sunny Moooood Graphic Printed Boyfriend T-shirt\", \"Women's Black Oversized T-shirt\"]\n"
     ]
    },
    {
     "data": {
      "text/plain": [
       "10"
      ]
     },
     "execution_count": 41,
     "metadata": {},
     "output_type": "execute_result"
    }
   ],
   "source": [
    "p_name=[]\n",
    "names=soup.find_all('div',class_='productNaming bkf-ellipsis')\n",
    "for i in names:\n",
    "    names=i.h2.text\n",
    "    p_name.append(names)\n",
    "print(p_name)\n",
    "len(p_name)"
   ]
  },
  {
   "cell_type": "code",
   "execution_count": 42,
   "id": "32c8f0c6",
   "metadata": {},
   "outputs": [
    {
     "data": {
      "text/plain": [
       "['https://images.bewakoof.com/t640/women-aop-regular-pyjama-604946-1702644020-1.jpg',\n",
       " 'https://images.bewakoof.com/t640/women-s-black-pyjamas-581562-1707292627-1.jpg',\n",
       " 'https://images.bewakoof.com/t640/men-s-black-t-shirt-106-1701423878-1.jpg',\n",
       " 'https://images.bewakoof.com/t640/men-s-white-t-shirt-105-1702967985-1.jpg',\n",
       " 'https://images.bewakoof.com/t640/women-s-red-boyfriend-t-shirt-170465-1658918677-1.jpg',\n",
       " 'https://images.bewakoof.com/t640/sage-green-casual-cotton-trouser-340543-1663661829-1.jpg',\n",
       " 'https://images.bewakoof.com/t640/desert-beige-casual-cotton-trouser-330853-1663661915-1.jpg',\n",
       " 'https://images.bewakoof.com/t640/dark-olive-casual-cotton-trouser-330854-1663662028-1.jpg',\n",
       " 'https://images.bewakoof.com/t640/women-s-purple-sunny-moooood-graphic-printed-boyfriend-t-shirt-588990-1681219884-1.jpg',\n",
       " 'https://images.bewakoof.com/t640/women-black-solid-oversize-t-shirt-580349-1684862246-1.jpg']"
      ]
     },
     "execution_count": 42,
     "metadata": {},
     "output_type": "execute_result"
    }
   ],
   "source": [
    "image_url=[]\n",
    "names=soup.find_all('img',class_='productImgTag')\n",
    "for i in names:\n",
    "    image_url.append(i['src'])\n",
    "image_url"
   ]
  },
  {
   "cell_type": "code",
   "execution_count": 38,
   "id": "bc107694",
   "metadata": {},
   "outputs": [
    {
     "name": "stdout",
     "output_type": "stream",
     "text": [
      "['₹499', '₹227', '₹199', '₹369', '₹949', '₹290', '₹489', '₹419', '₹292', '₹1,804']\n"
     ]
    },
    {
     "data": {
      "text/plain": [
       "10"
      ]
     },
     "execution_count": 38,
     "metadata": {},
     "output_type": "execute_result"
    }
   ],
   "source": [
    "price=[]\n",
    "name=soup.find_all('div',class_='_30jeq3')\n",
    "for i in name:\n",
    "    names=i.text\n",
    "    price.append(names)\n",
    "price=price[2:21:2]\n",
    "print(price)\n",
    "len(price)"
   ]
  },
  {
   "cell_type": "code",
   "execution_count": 45,
   "id": "cd6ff093",
   "metadata": {},
   "outputs": [
    {
     "name": "stdout",
     "output_type": "stream",
     "text": [
      "                                        Product Name  \\\n",
      "0            Women's Orange All Over Printed Pyjamas   \n",
      "1                              Women's Black Pyjamas   \n",
      "2                                Men's Black T-shirt   \n",
      "3                                Men's White T-shirt   \n",
      "4                      Women's Red Boyfriend T-shirt   \n",
      "5                          Men's Sage Green Trousers   \n",
      "6                        Men's Desert Beige Trousers   \n",
      "7                          Men's Dark Olive Trousers   \n",
      "8  Women's Purple Sunny Moooood Graphic Printed B...   \n",
      "9                    Women's Black Oversized T-shirt   \n",
      "\n",
      "                                           Image Url   Price  \n",
      "0  https://images.bewakoof.com/t640/women-aop-reg...    ₹499  \n",
      "1  https://images.bewakoof.com/t640/women-s-black...    ₹227  \n",
      "2  https://images.bewakoof.com/t640/men-s-black-t...    ₹199  \n",
      "3  https://images.bewakoof.com/t640/men-s-white-t...    ₹369  \n",
      "4  https://images.bewakoof.com/t640/women-s-red-b...    ₹949  \n",
      "5  https://images.bewakoof.com/t640/sage-green-ca...    ₹290  \n",
      "6  https://images.bewakoof.com/t640/desert-beige-...    ₹489  \n",
      "7  https://images.bewakoof.com/t640/dark-olive-ca...    ₹419  \n",
      "8  https://images.bewakoof.com/t640/women-s-purpl...    ₹292  \n",
      "9  https://images.bewakoof.com/t640/women-black-s...  ₹1,804  \n"
     ]
    }
   ],
   "source": [
    "df=pd.DataFrame({'Product Name':p_name,'Image Url':image_url,'Price':price})\n",
    "print(df)"
   ]
  },
  {
   "cell_type": "code",
   "execution_count": 22,
   "id": "8271e741",
   "metadata": {},
   "outputs": [],
   "source": [
    "# Qestion 7. Please visit: https://www.keaipublishing.com/en/journals/artificial-intelligence-in-agriculture/most-downloaded-articles/ and scrap-\n",
    "#a) Paper title\n",
    "#b) date\n",
    "#c) Autho"
   ]
  },
  {
   "cell_type": "code",
   "execution_count": 23,
   "id": "ba81e9e4",
   "metadata": {},
   "outputs": [
    {
     "data": {
      "text/plain": [
       "<Response [200]>"
      ]
     },
     "execution_count": 23,
     "metadata": {},
     "output_type": "execute_result"
    }
   ],
   "source": [
    "url='https://www.keaipublishing.com/en/journals/artificial-intelligence-in-agriculture/most-downloaded-articles/'\n",
    "page=requests.get(url)\n",
    "page"
   ]
  },
  {
   "cell_type": "code",
   "execution_count": null,
   "id": "e7828df1",
   "metadata": {},
   "outputs": [],
   "source": [
    "soup=BeautifulSoup(page.content)\n",
    "soup"
   ]
  },
  {
   "cell_type": "code",
   "execution_count": 41,
   "id": "722b83ea",
   "metadata": {},
   "outputs": [
    {
     "data": {
      "text/plain": [
       "['Implementation of artificial intelligence in agriculture for optimisation of irrigation and application of pesticides and herbicides      ',\n",
       " 'Review of agricultural IoT technology      ',\n",
       " 'A comprehensive review on automation in agriculture using artificial intelligence      ',\n",
       " 'Automation and digitization of agriculture using artificial intelligence and internet of things      ',\n",
       " 'Applications of electronic nose (e-nose) and electronic tongue (e-tongue) in food quality-related properties determination: A review      ',\n",
       " 'Fruit ripeness classification: A survey      ',\n",
       " 'A review of imaging techniques for plant disease detection      ',\n",
       " 'Deep learning based computer vision approaches for smart agricultural applications      ',\n",
       " 'Comparison of CNN-based deep learning architectures for rice diseases classification      ',\n",
       " 'Transfer Learning for Multi-Crop Leaf Disease Image Classification using Convolutional Neural Network VGG      ',\n",
       " 'Plant disease detection using hybrid model based on convolutional autoencoder and convolutional neural network      ',\n",
       " 'Machine learning in nutrient management: A review      ',\n",
       " 'DeepRice: A deep learning and deep feature based classification of Rice leaf disease subtypes      ',\n",
       " 'How artificial intelligence uses to achieve the agriculture sustainability: Systematic review      ',\n",
       " 'Machine learning for weed–plant discrimination in agriculture 5.0: An in-depth review      ',\n",
       " 'Examining the interplay between artificial intelligence and the agri-food industry      ',\n",
       " 'Deep convolutional neural network models for weed detection in polyhouse grown bell peppers      ',\n",
       " 'A systematic review of machine learning techniques for cattle identification: Datasets, methods and future directions      ',\n",
       " 'A review on computer vision systems in monitoring of poultry: A welfare perspective      ',\n",
       " 'Crop diagnostic system: A robust disease detection and management system for leafy green crops grown in an aquaponics facility      ',\n",
       " 'Artificial cognition for applications in smart agriculture: A comprehensive review      ',\n",
       " 'Explainable artificial intelligence and interpretable machine learning for agricultural data analysis      ',\n",
       " 'Blockchain: A new safeguard for agri-foods      ',\n",
       " 'Study on body temperature detection of pig based on infrared technology: A review      ',\n",
       " 'Vision Intelligence for Smart Sheep Farming: Applying Ensemble Learning to Detect Sheep Breeds      ']"
      ]
     },
     "execution_count": 41,
     "metadata": {},
     "output_type": "execute_result"
    }
   ],
   "source": [
    "title=[]\n",
    "name=soup.find_all('h2',class_='h5 article-title')\n",
    "for i in name:   \n",
    "    names=i.text.replace('\\n',\"\").replace('\\r',\"\").replace(\"          \",\"\")\n",
    "    title.append(names)\n",
    "title"
   ]
  },
  {
   "cell_type": "code",
   "execution_count": 42,
   "id": "babe47e3",
   "metadata": {},
   "outputs": [
    {
     "data": {
      "text/plain": [
       "['2020',\n",
       " '2022',\n",
       " 'June 2019',\n",
       " '2021',\n",
       " '2020',\n",
       " 'March 2023',\n",
       " '2020',\n",
       " '2022',\n",
       " 'September 2023',\n",
       " '2022',\n",
       " '2021',\n",
       " 'September 2023',\n",
       " 'March 2024',\n",
       " 'June 2023',\n",
       " 'December 2023',\n",
       " '2022',\n",
       " '2022',\n",
       " '2022',\n",
       " '2020',\n",
       " 'December 2023',\n",
       " '2020',\n",
       " '2022',\n",
       " '2020',\n",
       " 'March 2019',\n",
       " 'March 2024']"
      ]
     },
     "execution_count": 42,
     "metadata": {},
     "output_type": "execute_result"
    }
   ],
   "source": [
    "date=[]\n",
    "name=soup.find_all('p',class_='article-date')\n",
    "for i in name:   \n",
    "    names=i.text\n",
    "    date.append(names)\n",
    "date"
   ]
  },
  {
   "cell_type": "code",
   "execution_count": 43,
   "id": "3e7dcd04",
   "metadata": {},
   "outputs": [
    {
     "data": {
      "text/plain": [
       "[' Tanha Talaviya |  Dhara Shah |  Nivedita Patel |  Hiteshri Yagnik |  Manan Shah',\n",
       " ' Jinyuan Xu |  Baoxing Gu |  Guangzhao Tian',\n",
       " ' Kirtan Jha |  Aalap Doshi |  Poojan Patel |  Manan Shah',\n",
       " ' A. Subeesh |  C.R. Mehta',\n",
       " ' Juzhong Tan |  Jie Xu',\n",
       " ' Matteo Rizzo |  Matteo Marcuzzo |  Alessandro Zangari |  Andrea Gasparetto |  Andrea Albarelli',\n",
       " ' Vijai Singh |  Namita Sharma |  Shikha Singh',\n",
       " ' V.G. Dhanya |  A. Subeesh |  N.L. Kushwaha |  Dinesh Kumar Vishwakarma |  T. Nagesh Kumar |  G. Ritika |  A.N. Singh',\n",
       " ' Md Taimur Ahad |  Yan Li |  Bo Song |  Touhid Bhuiyan',\n",
       " ' Ananda S. Paymode |  Vandana B. Malode',\n",
       " ' Punam Bedi |  Pushkar Gole',\n",
       " ' Oumnia Ennaji |  Leonardus Vergütz |  Achraf El Allali',\n",
       " ' P. Isaac Ritharson |  Kumudha Raimond |  X. Anitha Mary |  Jennifer Eunice Robert |  Andrew J',\n",
       " ' Vilani Sachithra |  L.D.C.S. Subhashini',\n",
       " ' Filbert H. Juwono |  W.K. Wong |  Seema Verma |  Neha Shekhawat |  Basil Andy Lease |  Catur Apriono',\n",
       " ' Abderahman Rejeb |  Karim Rejeb |  Suhaiza Zailani |  John G. Keogh |  Andrea Appolloni',\n",
       " ' A. Subeesh |  S. Bhole |  K. Singh |  N.S. Chandel |  Y.A. Rajwade |  K.V.R. Rao |  S.P. Kumar |  D. Jat',\n",
       " ' Md Ekramul Hossain |  Muhammad Ashad Kabir |  Lihong Zheng |  Dave L. Swain |  Shawn McGrath |  Jonathan Medway',\n",
       " ' Cedric Okinda |  Innocent Nyalala |  Tchalla Korohou |  Celestine Okinda |  Jintao Wang |  Tracy Achieng |  Patrick Wamalwa |  Tai Mang |  Mingxia Shen',\n",
       " ' R. Abbasi |  P. Martinez |  R. Ahmad',\n",
       " ' Misbah Pathan |  Nivedita Patel |  Hiteshri Yagnik |  Manan Shah',\n",
       " ' Masahiro Ryo',\n",
       " ' Jie Xu |  Shuang Guo |  David Xie |  Yaxuan Yan',\n",
       " ' Zaiqin Zhang |  Hang Zhang |  Tonghai Liu',\n",
       " ' Galib Muhammad Shahriar Himel |  Md. Masudul Islam |  Mijanur Rahaman']"
      ]
     },
     "execution_count": 43,
     "metadata": {},
     "output_type": "execute_result"
    }
   ],
   "source": [
    "author=[]\n",
    "name=soup.find_all('p',class_='article-authors')\n",
    "for i in name:   \n",
    "    names=i.text\n",
    "    author.append(names)\n",
    "author"
   ]
  },
  {
   "cell_type": "code",
   "execution_count": 44,
   "id": "c916feb9",
   "metadata": {},
   "outputs": [
    {
     "data": {
      "text/html": [
       "<div>\n",
       "<style scoped>\n",
       "    .dataframe tbody tr th:only-of-type {\n",
       "        vertical-align: middle;\n",
       "    }\n",
       "\n",
       "    .dataframe tbody tr th {\n",
       "        vertical-align: top;\n",
       "    }\n",
       "\n",
       "    .dataframe thead th {\n",
       "        text-align: right;\n",
       "    }\n",
       "</style>\n",
       "<table border=\"1\" class=\"dataframe\">\n",
       "  <thead>\n",
       "    <tr style=\"text-align: right;\">\n",
       "      <th></th>\n",
       "      <th>Paper title</th>\n",
       "      <th>Date</th>\n",
       "      <th>Author</th>\n",
       "    </tr>\n",
       "  </thead>\n",
       "  <tbody>\n",
       "    <tr>\n",
       "      <th>0</th>\n",
       "      <td>Implementation of artificial intelligence in a...</td>\n",
       "      <td>2020</td>\n",
       "      <td>Tanha Talaviya |  Dhara Shah |  Nivedita Pate...</td>\n",
       "    </tr>\n",
       "    <tr>\n",
       "      <th>1</th>\n",
       "      <td>Review of agricultural IoT technology</td>\n",
       "      <td>2022</td>\n",
       "      <td>Jinyuan Xu |  Baoxing Gu |  Guangzhao Tian</td>\n",
       "    </tr>\n",
       "    <tr>\n",
       "      <th>2</th>\n",
       "      <td>A comprehensive review on automation in agricu...</td>\n",
       "      <td>June 2019</td>\n",
       "      <td>Kirtan Jha |  Aalap Doshi |  Poojan Patel |  ...</td>\n",
       "    </tr>\n",
       "    <tr>\n",
       "      <th>3</th>\n",
       "      <td>Automation and digitization of agriculture usi...</td>\n",
       "      <td>2021</td>\n",
       "      <td>A. Subeesh |  C.R. Mehta</td>\n",
       "    </tr>\n",
       "    <tr>\n",
       "      <th>4</th>\n",
       "      <td>Applications of electronic nose (e-nose) and e...</td>\n",
       "      <td>2020</td>\n",
       "      <td>Juzhong Tan |  Jie Xu</td>\n",
       "    </tr>\n",
       "    <tr>\n",
       "      <th>5</th>\n",
       "      <td>Fruit ripeness classification: A survey</td>\n",
       "      <td>March 2023</td>\n",
       "      <td>Matteo Rizzo |  Matteo Marcuzzo |  Alessandro...</td>\n",
       "    </tr>\n",
       "    <tr>\n",
       "      <th>6</th>\n",
       "      <td>A review of imaging techniques for plant disea...</td>\n",
       "      <td>2020</td>\n",
       "      <td>Vijai Singh |  Namita Sharma |  Shikha Singh</td>\n",
       "    </tr>\n",
       "    <tr>\n",
       "      <th>7</th>\n",
       "      <td>Deep learning based computer vision approaches...</td>\n",
       "      <td>2022</td>\n",
       "      <td>V.G. Dhanya |  A. Subeesh |  N.L. Kushwaha | ...</td>\n",
       "    </tr>\n",
       "    <tr>\n",
       "      <th>8</th>\n",
       "      <td>Comparison of CNN-based deep learning architec...</td>\n",
       "      <td>September 2023</td>\n",
       "      <td>Md Taimur Ahad |  Yan Li |  Bo Song |  Touhid...</td>\n",
       "    </tr>\n",
       "    <tr>\n",
       "      <th>9</th>\n",
       "      <td>Transfer Learning for Multi-Crop Leaf Disease ...</td>\n",
       "      <td>2022</td>\n",
       "      <td>Ananda S. Paymode |  Vandana B. Malode</td>\n",
       "    </tr>\n",
       "    <tr>\n",
       "      <th>10</th>\n",
       "      <td>Plant disease detection using hybrid model bas...</td>\n",
       "      <td>2021</td>\n",
       "      <td>Punam Bedi |  Pushkar Gole</td>\n",
       "    </tr>\n",
       "    <tr>\n",
       "      <th>11</th>\n",
       "      <td>Machine learning in nutrient management: A rev...</td>\n",
       "      <td>September 2023</td>\n",
       "      <td>Oumnia Ennaji |  Leonardus Vergütz |  Achraf ...</td>\n",
       "    </tr>\n",
       "    <tr>\n",
       "      <th>12</th>\n",
       "      <td>DeepRice: A deep learning and deep feature bas...</td>\n",
       "      <td>March 2024</td>\n",
       "      <td>P. Isaac Ritharson |  Kumudha Raimond |  X. A...</td>\n",
       "    </tr>\n",
       "    <tr>\n",
       "      <th>13</th>\n",
       "      <td>How artificial intelligence uses to achieve th...</td>\n",
       "      <td>June 2023</td>\n",
       "      <td>Vilani Sachithra |  L.D.C.S. Subhashini</td>\n",
       "    </tr>\n",
       "    <tr>\n",
       "      <th>14</th>\n",
       "      <td>Machine learning for weed–plant discrimination...</td>\n",
       "      <td>December 2023</td>\n",
       "      <td>Filbert H. Juwono |  W.K. Wong |  Seema Verma...</td>\n",
       "    </tr>\n",
       "    <tr>\n",
       "      <th>15</th>\n",
       "      <td>Examining the interplay between artificial int...</td>\n",
       "      <td>2022</td>\n",
       "      <td>Abderahman Rejeb |  Karim Rejeb |  Suhaiza Za...</td>\n",
       "    </tr>\n",
       "    <tr>\n",
       "      <th>16</th>\n",
       "      <td>Deep convolutional neural network models for w...</td>\n",
       "      <td>2022</td>\n",
       "      <td>A. Subeesh |  S. Bhole |  K. Singh |  N.S. Ch...</td>\n",
       "    </tr>\n",
       "    <tr>\n",
       "      <th>17</th>\n",
       "      <td>A systematic review of machine learning techni...</td>\n",
       "      <td>2022</td>\n",
       "      <td>Md Ekramul Hossain |  Muhammad Ashad Kabir | ...</td>\n",
       "    </tr>\n",
       "    <tr>\n",
       "      <th>18</th>\n",
       "      <td>A review on computer vision systems in monitor...</td>\n",
       "      <td>2020</td>\n",
       "      <td>Cedric Okinda |  Innocent Nyalala |  Tchalla ...</td>\n",
       "    </tr>\n",
       "    <tr>\n",
       "      <th>19</th>\n",
       "      <td>Crop diagnostic system: A robust disease detec...</td>\n",
       "      <td>December 2023</td>\n",
       "      <td>R. Abbasi |  P. Martinez |  R. Ahmad</td>\n",
       "    </tr>\n",
       "    <tr>\n",
       "      <th>20</th>\n",
       "      <td>Artificial cognition for applications in smart...</td>\n",
       "      <td>2020</td>\n",
       "      <td>Misbah Pathan |  Nivedita Patel |  Hiteshri Y...</td>\n",
       "    </tr>\n",
       "    <tr>\n",
       "      <th>21</th>\n",
       "      <td>Explainable artificial intelligence and interp...</td>\n",
       "      <td>2022</td>\n",
       "      <td>Masahiro Ryo</td>\n",
       "    </tr>\n",
       "    <tr>\n",
       "      <th>22</th>\n",
       "      <td>Blockchain: A new safeguard for agri-foods</td>\n",
       "      <td>2020</td>\n",
       "      <td>Jie Xu |  Shuang Guo |  David Xie |  Yaxuan Yan</td>\n",
       "    </tr>\n",
       "    <tr>\n",
       "      <th>23</th>\n",
       "      <td>Study on body temperature detection of pig bas...</td>\n",
       "      <td>March 2019</td>\n",
       "      <td>Zaiqin Zhang |  Hang Zhang |  Tonghai Liu</td>\n",
       "    </tr>\n",
       "    <tr>\n",
       "      <th>24</th>\n",
       "      <td>Vision Intelligence for Smart Sheep Farming: A...</td>\n",
       "      <td>March 2024</td>\n",
       "      <td>Galib Muhammad Shahriar Himel |  Md. Masudul ...</td>\n",
       "    </tr>\n",
       "  </tbody>\n",
       "</table>\n",
       "</div>"
      ],
      "text/plain": [
       "                                          Paper title            Date  \\\n",
       "0   Implementation of artificial intelligence in a...            2020   \n",
       "1         Review of agricultural IoT technology                  2022   \n",
       "2   A comprehensive review on automation in agricu...       June 2019   \n",
       "3   Automation and digitization of agriculture usi...            2021   \n",
       "4   Applications of electronic nose (e-nose) and e...            2020   \n",
       "5       Fruit ripeness classification: A survey            March 2023   \n",
       "6   A review of imaging techniques for plant disea...            2020   \n",
       "7   Deep learning based computer vision approaches...            2022   \n",
       "8   Comparison of CNN-based deep learning architec...  September 2023   \n",
       "9   Transfer Learning for Multi-Crop Leaf Disease ...            2022   \n",
       "10  Plant disease detection using hybrid model bas...            2021   \n",
       "11  Machine learning in nutrient management: A rev...  September 2023   \n",
       "12  DeepRice: A deep learning and deep feature bas...      March 2024   \n",
       "13  How artificial intelligence uses to achieve th...       June 2023   \n",
       "14  Machine learning for weed–plant discrimination...   December 2023   \n",
       "15  Examining the interplay between artificial int...            2022   \n",
       "16  Deep convolutional neural network models for w...            2022   \n",
       "17  A systematic review of machine learning techni...            2022   \n",
       "18  A review on computer vision systems in monitor...            2020   \n",
       "19  Crop diagnostic system: A robust disease detec...   December 2023   \n",
       "20  Artificial cognition for applications in smart...            2020   \n",
       "21  Explainable artificial intelligence and interp...            2022   \n",
       "22   Blockchain: A new safeguard for agri-foods                  2020   \n",
       "23  Study on body temperature detection of pig bas...      March 2019   \n",
       "24  Vision Intelligence for Smart Sheep Farming: A...      March 2024   \n",
       "\n",
       "                                               Author  \n",
       "0    Tanha Talaviya |  Dhara Shah |  Nivedita Pate...  \n",
       "1          Jinyuan Xu |  Baoxing Gu |  Guangzhao Tian  \n",
       "2    Kirtan Jha |  Aalap Doshi |  Poojan Patel |  ...  \n",
       "3                            A. Subeesh |  C.R. Mehta  \n",
       "4                               Juzhong Tan |  Jie Xu  \n",
       "5    Matteo Rizzo |  Matteo Marcuzzo |  Alessandro...  \n",
       "6        Vijai Singh |  Namita Sharma |  Shikha Singh  \n",
       "7    V.G. Dhanya |  A. Subeesh |  N.L. Kushwaha | ...  \n",
       "8    Md Taimur Ahad |  Yan Li |  Bo Song |  Touhid...  \n",
       "9              Ananda S. Paymode |  Vandana B. Malode  \n",
       "10                         Punam Bedi |  Pushkar Gole  \n",
       "11   Oumnia Ennaji |  Leonardus Vergütz |  Achraf ...  \n",
       "12   P. Isaac Ritharson |  Kumudha Raimond |  X. A...  \n",
       "13            Vilani Sachithra |  L.D.C.S. Subhashini  \n",
       "14   Filbert H. Juwono |  W.K. Wong |  Seema Verma...  \n",
       "15   Abderahman Rejeb |  Karim Rejeb |  Suhaiza Za...  \n",
       "16   A. Subeesh |  S. Bhole |  K. Singh |  N.S. Ch...  \n",
       "17   Md Ekramul Hossain |  Muhammad Ashad Kabir | ...  \n",
       "18   Cedric Okinda |  Innocent Nyalala |  Tchalla ...  \n",
       "19               R. Abbasi |  P. Martinez |  R. Ahmad  \n",
       "20   Misbah Pathan |  Nivedita Patel |  Hiteshri Y...  \n",
       "21                                       Masahiro Ryo  \n",
       "22    Jie Xu |  Shuang Guo |  David Xie |  Yaxuan Yan  \n",
       "23          Zaiqin Zhang |  Hang Zhang |  Tonghai Liu  \n",
       "24   Galib Muhammad Shahriar Himel |  Md. Masudul ...  "
      ]
     },
     "execution_count": 44,
     "metadata": {},
     "output_type": "execute_result"
    }
   ],
   "source": [
    "df=pd.DataFrame({'Paper title':title,\"Date\":date,\"Author\":author})\n",
    "df"
   ]
  },
  {
   "cell_type": "code",
   "execution_count": 45,
   "id": "d311fcaf",
   "metadata": {},
   "outputs": [
    {
     "name": "stdout",
     "output_type": "stream",
     "text": [
      "                                          Paper title            Date  \\\n",
      "0   Implementation of artificial intelligence in a...            2020   \n",
      "1         Review of agricultural IoT technology                  2022   \n",
      "2   A comprehensive review on automation in agricu...       June 2019   \n",
      "3   Automation and digitization of agriculture usi...            2021   \n",
      "4   Applications of electronic nose (e-nose) and e...            2020   \n",
      "5       Fruit ripeness classification: A survey            March 2023   \n",
      "6   A review of imaging techniques for plant disea...            2020   \n",
      "7   Deep learning based computer vision approaches...            2022   \n",
      "8   Comparison of CNN-based deep learning architec...  September 2023   \n",
      "9   Transfer Learning for Multi-Crop Leaf Disease ...            2022   \n",
      "10  Plant disease detection using hybrid model bas...            2021   \n",
      "11  Machine learning in nutrient management: A rev...  September 2023   \n",
      "12  DeepRice: A deep learning and deep feature bas...      March 2024   \n",
      "13  How artificial intelligence uses to achieve th...       June 2023   \n",
      "14  Machine learning for weed–plant discrimination...   December 2023   \n",
      "15  Examining the interplay between artificial int...            2022   \n",
      "16  Deep convolutional neural network models for w...            2022   \n",
      "17  A systematic review of machine learning techni...            2022   \n",
      "18  A review on computer vision systems in monitor...            2020   \n",
      "19  Crop diagnostic system: A robust disease detec...   December 2023   \n",
      "20  Artificial cognition for applications in smart...            2020   \n",
      "21  Explainable artificial intelligence and interp...            2022   \n",
      "22   Blockchain: A new safeguard for agri-foods                  2020   \n",
      "23  Study on body temperature detection of pig bas...      March 2019   \n",
      "24  Vision Intelligence for Smart Sheep Farming: A...      March 2024   \n",
      "\n",
      "                                               Author  \n",
      "0    Tanha Talaviya |  Dhara Shah |  Nivedita Pate...  \n",
      "1          Jinyuan Xu |  Baoxing Gu |  Guangzhao Tian  \n",
      "2    Kirtan Jha |  Aalap Doshi |  Poojan Patel |  ...  \n",
      "3                            A. Subeesh |  C.R. Mehta  \n",
      "4                               Juzhong Tan |  Jie Xu  \n",
      "5    Matteo Rizzo |  Matteo Marcuzzo |  Alessandro...  \n",
      "6        Vijai Singh |  Namita Sharma |  Shikha Singh  \n",
      "7    V.G. Dhanya |  A. Subeesh |  N.L. Kushwaha | ...  \n",
      "8    Md Taimur Ahad |  Yan Li |  Bo Song |  Touhid...  \n",
      "9              Ananda S. Paymode |  Vandana B. Malode  \n",
      "10                         Punam Bedi |  Pushkar Gole  \n",
      "11   Oumnia Ennaji |  Leonardus Vergütz |  Achraf ...  \n",
      "12   P. Isaac Ritharson |  Kumudha Raimond |  X. A...  \n",
      "13            Vilani Sachithra |  L.D.C.S. Subhashini  \n",
      "14   Filbert H. Juwono |  W.K. Wong |  Seema Verma...  \n",
      "15   Abderahman Rejeb |  Karim Rejeb |  Suhaiza Za...  \n",
      "16   A. Subeesh |  S. Bhole |  K. Singh |  N.S. Ch...  \n",
      "17   Md Ekramul Hossain |  Muhammad Ashad Kabir | ...  \n",
      "18   Cedric Okinda |  Innocent Nyalala |  Tchalla ...  \n",
      "19               R. Abbasi |  P. Martinez |  R. Ahmad  \n",
      "20   Misbah Pathan |  Nivedita Patel |  Hiteshri Y...  \n",
      "21                                       Masahiro Ryo  \n",
      "22    Jie Xu |  Shuang Guo |  David Xie |  Yaxuan Yan  \n",
      "23          Zaiqin Zhang |  Hang Zhang |  Tonghai Liu  \n",
      "24   Galib Muhammad Shahriar Himel |  Md. Masudul ...  \n"
     ]
    }
   ],
   "source": [
    "df=pd.DataFrame({'Paper title':title,\"Date\":date,\"Author\":author})\n",
    "print(df)"
   ]
  },
  {
   "cell_type": "markdown",
   "id": "2a848cf1",
   "metadata": {},
   "source": [
    "# Thank You"
   ]
  }
 ],
 "metadata": {
  "kernelspec": {
   "display_name": "Python 3 (ipykernel)",
   "language": "python",
   "name": "python3"
  },
  "language_info": {
   "codemirror_mode": {
    "name": "ipython",
    "version": 3
   },
   "file_extension": ".py",
   "mimetype": "text/x-python",
   "name": "python",
   "nbconvert_exporter": "python",
   "pygments_lexer": "ipython3",
   "version": "3.11.3"
  }
 },
 "nbformat": 4,
 "nbformat_minor": 5
}
